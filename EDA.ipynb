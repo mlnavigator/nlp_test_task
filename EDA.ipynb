{
 "cells": [
  {
   "cell_type": "markdown",
   "id": "22ab7e77-3a98-48cd-bb69-8410c41ee5e2",
   "metadata": {},
   "source": [
    "## Task \n",
    "\n",
    "NLP Task: Tweet Enhancement for Higher Engagement\n",
    "\n",
    "Task Overview\n",
    "\n",
    "Develop an NLP-based enhancement model that analyzes tweet text and suggests improvements to increase engagement (likes, retweets, and reach). The system should provide actionable recommendations to optimize tweets for better performance.\n",
    "\n",
    "Dataset\n",
    "- Name: Tweets and User Engagement Dataset\n",
    "- File: Twitterdatainsheets.csv\n",
    "\n",
    "Relevant Features:\n",
    "- text → The actual tweet content (to be optimized)\n",
    "- Likes, RetweetCount, Reach → Engagement metrics (used to evaluate tweet effectiveness)\n",
    "- Sentiment → Determines the emotional tone of the tweet\n",
    "- Klout → Measures the influence of the user posting the tweet\n",
    "- Weekday, Hour → Useful for posting time recommendations\n",
    "\n",
    "Task Breakdown\n",
    "\n",
    "1. Preprocessing\n",
    "- Clean tweets: Remove links, special characters, and unnecessary whitespace.\n",
    "- Normalize text: Convert to lowercase and remove stopwords.\n",
    "- Extract keywords and hashtags: Identify key terms influencing engagement.\n",
    "2. Engagement Prediction\n",
    "- Train an NLP model using tweet text and engagement metrics (Likes, RetweetCount, Reach).\n",
    "- Implement a regression model to predict the engagement score of a given tweet.\n",
    "- Identify text patterns that correlate with higher engagement.\n",
    "3. Tweet Enhancement & Recommendations\n",
    "- Suggest content improvements based on high-performing tweet patterns:\n",
    "- Optimize phrasing: Recommend changes in wording or tone.\n",
    "- Hashtag recommendations: Suggest effective hashtags.\n",
    "- Call-to-action enhancements: Improve engagement triggers (e.g., “Retweet if you agree!”).\n",
    "- Suggest best posting times based on dataset trends.\n",
    "\n",
    "### Example Input & Output\n",
    "\n",
    "```\n",
    "Input Tweet:\n",
    "{\n",
    "  \"text\": \"New job opening at our company! Apply here: https://link.com #hiring #jobs\",\n",
    "  \"Weekday\": \"Monday\",\n",
    "  \"Hour\": 15\n",
    "}\n",
    "```\n",
    "​\n",
    "- Predicted Engagement Score:\n",
    "  - 📊 3.2 / 10 (Low Engagement)\n",
    "\n",
    "- Suggested Enhancements:\n",
    "  - ✅ Optimized Tweet:\"Exciting opportunity! 🚀 We're hiring for a new role – apply today! 🌟 → [link] #JobSearch #CareerGrowth\"\n",
    "\n",
    "- ✅ Best Posting Time:\n",
    "  - Tuesday at 12 PM (historically higher engagement)\n",
    "\n",
    "- ✅ Hashtag Improvements:\n",
    "  - Use #JobSearch #CareerGrowth instead of generic #hiring #jobs (low-performing hashtags)\n",
    "\n",
    "Expected Deliverables\n",
    "- Python Codebase with:\n",
    "- NLP preprocessing\n",
    "- Engagement prediction model\n",
    "- Tweet enhancement algorithm\n",
    "- README (setup instructions & methodology)\n",
    "- Short Report (approach, findings, and sample results)"
   ]
  },
  {
   "cell_type": "code",
   "execution_count": 231,
   "id": "6b624b12-03ba-4ecb-b332-bc3ac6f22097",
   "metadata": {},
   "outputs": [],
   "source": [
    "import pandas as pd\n",
    "import random\n",
    "import re\n",
    "from tqdm import tqdm\n",
    "import numpy as np\n",
    "from collections import defaultdict"
   ]
  },
  {
   "cell_type": "code",
   "execution_count": 8,
   "id": "69e99b07-db83-41c3-a4fa-7137dab1ef55",
   "metadata": {},
   "outputs": [
    {
     "name": "stdout",
     "output_type": "stream",
     "text": [
      "EDA.ipynb  task.html  Twitterdatainsheets.csv  Twitterdatainsheets.csv.zip\n"
     ]
    }
   ],
   "source": [
    "! ls"
   ]
  },
  {
   "cell_type": "code",
   "execution_count": 3,
   "id": "0cbfe21a-9b27-4062-8ef3-b42d6332699b",
   "metadata": {},
   "outputs": [
    {
     "name": "stderr",
     "output_type": "stream",
     "text": [
      "/tmp/ipykernel_10029/1437048321.py:1: DtypeWarning: Columns (3,4,5,6,12,14) have mixed types. Specify dtype option on import or set low_memory=False.\n",
      "  data = pd.read_csv('./Twitterdatainsheets.csv')\n"
     ]
    }
   ],
   "source": [
    "data = pd.read_csv('./Twitterdatainsheets.csv')"
   ]
  },
  {
   "cell_type": "code",
   "execution_count": 4,
   "id": "e50a0b72-068f-4aee-a4ee-66b6cf5d1798",
   "metadata": {},
   "outputs": [
    {
     "data": {
      "text/html": [
       "<div>\n",
       "<style scoped>\n",
       "    .dataframe tbody tr th:only-of-type {\n",
       "        vertical-align: middle;\n",
       "    }\n",
       "\n",
       "    .dataframe tbody tr th {\n",
       "        vertical-align: top;\n",
       "    }\n",
       "\n",
       "    .dataframe thead th {\n",
       "        text-align: right;\n",
       "    }\n",
       "</style>\n",
       "<table border=\"1\" class=\"dataframe\">\n",
       "  <thead>\n",
       "    <tr style=\"text-align: right;\">\n",
       "      <th></th>\n",
       "      <th>index</th>\n",
       "      <th>TweetID</th>\n",
       "      <th>Weekday</th>\n",
       "      <th>Hour</th>\n",
       "      <th>Day</th>\n",
       "      <th>Lang</th>\n",
       "      <th>IsReshare</th>\n",
       "      <th>Reach</th>\n",
       "      <th>RetweetCount</th>\n",
       "      <th>Likes</th>\n",
       "      <th>Klout</th>\n",
       "      <th>Sentiment</th>\n",
       "      <th>text</th>\n",
       "      <th>LocationID</th>\n",
       "      <th>UserID</th>\n",
       "    </tr>\n",
       "  </thead>\n",
       "  <tbody>\n",
       "    <tr>\n",
       "      <th>0</th>\n",
       "      <td>0</td>\n",
       "      <td>tw-682712873332805633</td>\n",
       "      <td>Thursday</td>\n",
       "      <td>17</td>\n",
       "      <td>31</td>\n",
       "      <td>en</td>\n",
       "      <td>False</td>\n",
       "      <td>44.0</td>\n",
       "      <td>0.0</td>\n",
       "      <td>0.0</td>\n",
       "      <td>35.0</td>\n",
       "      <td>0.0</td>\n",
       "      <td>We are hiring: Senior Software Engineer - Prot...</td>\n",
       "      <td>3751.0</td>\n",
       "      <td>tw-40932430</td>\n",
       "    </tr>\n",
       "    <tr>\n",
       "      <th>1</th>\n",
       "      <td>1</td>\n",
       "      <td>tw-682713045357998080</td>\n",
       "      <td>Thursday</td>\n",
       "      <td>17</td>\n",
       "      <td>31</td>\n",
       "      <td>en</td>\n",
       "      <td>True</td>\n",
       "      <td>1810.0</td>\n",
       "      <td>5.0</td>\n",
       "      <td>0.0</td>\n",
       "      <td>53.0</td>\n",
       "      <td>2.0</td>\n",
       "      <td>RT @CodeMineStatus: This is true Amazon Web Se...</td>\n",
       "      <td>3989.0</td>\n",
       "      <td>tw-3179389829</td>\n",
       "    </tr>\n",
       "    <tr>\n",
       "      <th>2</th>\n",
       "      <td>2</td>\n",
       "      <td>tw-682713219375476736</td>\n",
       "      <td>Thursday</td>\n",
       "      <td>17</td>\n",
       "      <td>31</td>\n",
       "      <td>en</td>\n",
       "      <td>False</td>\n",
       "      <td>282.0</td>\n",
       "      <td>0.0</td>\n",
       "      <td>0.0</td>\n",
       "      <td>47.0</td>\n",
       "      <td>0.0</td>\n",
       "      <td>Devops Engineer Aws Ansible Cassandra Mysql Ub...</td>\n",
       "      <td>3741.0</td>\n",
       "      <td>tw-4624808414</td>\n",
       "    </tr>\n",
       "    <tr>\n",
       "      <th>3</th>\n",
       "      <td>3</td>\n",
       "      <td>tw-682713436967579648</td>\n",
       "      <td>Thursday</td>\n",
       "      <td>17</td>\n",
       "      <td>31</td>\n",
       "      <td>en</td>\n",
       "      <td>False</td>\n",
       "      <td>2087.0</td>\n",
       "      <td>4.0</td>\n",
       "      <td>0.0</td>\n",
       "      <td>53.0</td>\n",
       "      <td>0.0</td>\n",
       "      <td>Happy New Year to all those AWS instances of o...</td>\n",
       "      <td>3753.0</td>\n",
       "      <td>tw-356447127</td>\n",
       "    </tr>\n",
       "    <tr>\n",
       "      <th>4</th>\n",
       "      <td>4</td>\n",
       "      <td>tw-682714048199311366</td>\n",
       "      <td>Thursday</td>\n",
       "      <td>17</td>\n",
       "      <td>31</td>\n",
       "      <td>en</td>\n",
       "      <td>False</td>\n",
       "      <td>953.0</td>\n",
       "      <td>0.0</td>\n",
       "      <td>0.0</td>\n",
       "      <td>47.0</td>\n",
       "      <td>0.0</td>\n",
       "      <td>Amazon is hiring! #Sr. #International Tax Mana...</td>\n",
       "      <td>3751.0</td>\n",
       "      <td>tw-3172686669</td>\n",
       "    </tr>\n",
       "  </tbody>\n",
       "</table>\n",
       "</div>"
      ],
      "text/plain": [
       "   index                TweetID   Weekday  Hour  Day  Lang  IsReshare   Reach  \\\n",
       "0      0  tw-682712873332805633  Thursday    17   31    en      False    44.0   \n",
       "1      1  tw-682713045357998080  Thursday    17   31    en       True  1810.0   \n",
       "2      2  tw-682713219375476736  Thursday    17   31    en      False   282.0   \n",
       "3      3  tw-682713436967579648  Thursday    17   31    en      False  2087.0   \n",
       "4      4  tw-682714048199311366  Thursday    17   31    en      False   953.0   \n",
       "\n",
       "    RetweetCount   Likes   Klout   Sentiment  \\\n",
       "0            0.0     0.0    35.0         0.0   \n",
       "1            5.0     0.0    53.0         2.0   \n",
       "2            0.0     0.0    47.0         0.0   \n",
       "3            4.0     0.0    53.0         0.0   \n",
       "4            0.0     0.0    47.0         0.0   \n",
       "\n",
       "                                                text   LocationID  \\\n",
       "0  We are hiring: Senior Software Engineer - Prot...       3751.0   \n",
       "1  RT @CodeMineStatus: This is true Amazon Web Se...       3989.0   \n",
       "2  Devops Engineer Aws Ansible Cassandra Mysql Ub...       3741.0   \n",
       "3  Happy New Year to all those AWS instances of o...       3753.0   \n",
       "4  Amazon is hiring! #Sr. #International Tax Mana...       3751.0   \n",
       "\n",
       "          UserID  \n",
       "0    tw-40932430  \n",
       "1  tw-3179389829  \n",
       "2  tw-4624808414  \n",
       "3   tw-356447127  \n",
       "4  tw-3172686669  "
      ]
     },
     "execution_count": 4,
     "metadata": {},
     "output_type": "execute_result"
    }
   ],
   "source": [
    "data.head()"
   ]
  },
  {
   "cell_type": "code",
   "execution_count": 5,
   "id": "1f0c723c-5cf0-4749-963f-e33459bad661",
   "metadata": {},
   "outputs": [
    {
     "data": {
      "text/plain": [
       "Index(['index', 'TweetID', ' Weekday', ' Hour', ' Day', ' Lang', ' IsReshare',\n",
       "       ' Reach', ' RetweetCount', ' Likes', ' Klout', ' Sentiment', ' text',\n",
       "       ' LocationID', ' UserID'],\n",
       "      dtype='object')"
      ]
     },
     "execution_count": 5,
     "metadata": {},
     "output_type": "execute_result"
    }
   ],
   "source": [
    "data.columns"
   ]
  },
  {
   "cell_type": "code",
   "execution_count": 6,
   "id": "feefded4-c002-4eb2-a8a3-2e45c5d8f374",
   "metadata": {},
   "outputs": [
    {
     "data": {
      "text/html": [
       "<div>\n",
       "<style scoped>\n",
       "    .dataframe tbody tr th:only-of-type {\n",
       "        vertical-align: middle;\n",
       "    }\n",
       "\n",
       "    .dataframe tbody tr th {\n",
       "        vertical-align: top;\n",
       "    }\n",
       "\n",
       "    .dataframe thead th {\n",
       "        text-align: right;\n",
       "    }\n",
       "</style>\n",
       "<table border=\"1\" class=\"dataframe\">\n",
       "  <thead>\n",
       "    <tr style=\"text-align: right;\">\n",
       "      <th></th>\n",
       "      <th>index</th>\n",
       "      <th>Reach</th>\n",
       "      <th>RetweetCount</th>\n",
       "      <th>Likes</th>\n",
       "      <th>Klout</th>\n",
       "      <th>Sentiment</th>\n",
       "      <th>LocationID</th>\n",
       "    </tr>\n",
       "  </thead>\n",
       "  <tbody>\n",
       "    <tr>\n",
       "      <th>count</th>\n",
       "      <td>206295.000000</td>\n",
       "      <td>1.000000e+05</td>\n",
       "      <td>100000.000000</td>\n",
       "      <td>100000.000000</td>\n",
       "      <td>100000.000000</td>\n",
       "      <td>100000.000000</td>\n",
       "      <td>100000.000000</td>\n",
       "    </tr>\n",
       "    <tr>\n",
       "      <th>mean</th>\n",
       "      <td>103147.000000</td>\n",
       "      <td>8.542396e+03</td>\n",
       "      <td>8.052750</td>\n",
       "      <td>0.152770</td>\n",
       "      <td>40.389260</td>\n",
       "      <td>0.380921</td>\n",
       "      <td>2836.163440</td>\n",
       "    </tr>\n",
       "    <tr>\n",
       "      <th>std</th>\n",
       "      <td>59552.381229</td>\n",
       "      <td>8.867027e+04</td>\n",
       "      <td>97.863474</td>\n",
       "      <td>2.583633</td>\n",
       "      <td>13.636513</td>\n",
       "      <td>1.046559</td>\n",
       "      <td>1323.140242</td>\n",
       "    </tr>\n",
       "    <tr>\n",
       "      <th>min</th>\n",
       "      <td>0.000000</td>\n",
       "      <td>0.000000e+00</td>\n",
       "      <td>0.000000</td>\n",
       "      <td>0.000000</td>\n",
       "      <td>0.000000</td>\n",
       "      <td>-6.000000</td>\n",
       "      <td>1.000000</td>\n",
       "    </tr>\n",
       "    <tr>\n",
       "      <th>25%</th>\n",
       "      <td>51573.500000</td>\n",
       "      <td>1.510000e+02</td>\n",
       "      <td>0.000000</td>\n",
       "      <td>0.000000</td>\n",
       "      <td>32.000000</td>\n",
       "      <td>0.000000</td>\n",
       "      <td>1601.000000</td>\n",
       "    </tr>\n",
       "    <tr>\n",
       "      <th>50%</th>\n",
       "      <td>103147.000000</td>\n",
       "      <td>4.485000e+02</td>\n",
       "      <td>0.000000</td>\n",
       "      <td>0.000000</td>\n",
       "      <td>43.000000</td>\n",
       "      <td>0.000000</td>\n",
       "      <td>3738.000000</td>\n",
       "    </tr>\n",
       "    <tr>\n",
       "      <th>75%</th>\n",
       "      <td>154720.500000</td>\n",
       "      <td>1.496000e+03</td>\n",
       "      <td>3.000000</td>\n",
       "      <td>0.000000</td>\n",
       "      <td>49.000000</td>\n",
       "      <td>0.666667</td>\n",
       "      <td>3775.000000</td>\n",
       "    </tr>\n",
       "    <tr>\n",
       "      <th>max</th>\n",
       "      <td>206294.000000</td>\n",
       "      <td>1.034245e+07</td>\n",
       "      <td>26127.000000</td>\n",
       "      <td>133.000000</td>\n",
       "      <td>99.000000</td>\n",
       "      <td>7.333333</td>\n",
       "      <td>6289.000000</td>\n",
       "    </tr>\n",
       "  </tbody>\n",
       "</table>\n",
       "</div>"
      ],
      "text/plain": [
       "               index         Reach   RetweetCount          Likes  \\\n",
       "count  206295.000000  1.000000e+05  100000.000000  100000.000000   \n",
       "mean   103147.000000  8.542396e+03       8.052750       0.152770   \n",
       "std     59552.381229  8.867027e+04      97.863474       2.583633   \n",
       "min         0.000000  0.000000e+00       0.000000       0.000000   \n",
       "25%     51573.500000  1.510000e+02       0.000000       0.000000   \n",
       "50%    103147.000000  4.485000e+02       0.000000       0.000000   \n",
       "75%    154720.500000  1.496000e+03       3.000000       0.000000   \n",
       "max    206294.000000  1.034245e+07   26127.000000     133.000000   \n",
       "\n",
       "               Klout      Sentiment     LocationID  \n",
       "count  100000.000000  100000.000000  100000.000000  \n",
       "mean       40.389260       0.380921    2836.163440  \n",
       "std        13.636513       1.046559    1323.140242  \n",
       "min         0.000000      -6.000000       1.000000  \n",
       "25%        32.000000       0.000000    1601.000000  \n",
       "50%        43.000000       0.000000    3738.000000  \n",
       "75%        49.000000       0.666667    3775.000000  \n",
       "max        99.000000       7.333333    6289.000000  "
      ]
     },
     "execution_count": 6,
     "metadata": {},
     "output_type": "execute_result"
    }
   ],
   "source": [
    "data.describe()"
   ]
  },
  {
   "cell_type": "code",
   "execution_count": 7,
   "id": "4479f2f5-7e72-4e27-b719-3eac48c1ff46",
   "metadata": {},
   "outputs": [],
   "source": [
    "data_dict = data.to_dict('records')"
   ]
  },
  {
   "cell_type": "code",
   "execution_count": 8,
   "id": "d31385e0-259e-4fb9-8cfb-eea6053af8ba",
   "metadata": {},
   "outputs": [
    {
     "data": {
      "text/plain": [
       "{'index': 10,\n",
       " 'TweetID': 'tw-682719022958292992',\n",
       " ' Weekday': 'Thursday',\n",
       " ' Hour': 17,\n",
       " ' Day': 31,\n",
       " ' Lang': 'en',\n",
       " ' IsReshare': True,\n",
       " ' Reach': 86.0,\n",
       " ' RetweetCount': 51.0,\n",
       " ' Likes': 0.0,\n",
       " ' Klout': 16.0,\n",
       " ' Sentiment': 2.0,\n",
       " ' text': 'RT @awscloud: AWS CloudFormation now supports AWS WAF &amp; AWS Directory Service for MS Active Directory. https://aws.amazon.com/about-aws/whats-new/2015/12/aws-cloudformation-adds-support-for-aws-waf-and-aws-directory-service-for-microsoft-active-directory/?sc_channel=sm&sc_campaign=launches&sc_publisher=tw_go&sc_content=waf_ds&sc_country=global&sc_geo=global&sc_category=cloudformation&adbsc=social_launches_20151228_56779066&adbid=681570169089429504&adbpl=tw&adbpr=66780587 https://t.co',\n",
       " ' LocationID': 3751.0,\n",
       " ' UserID': 'tw-14458322'}"
      ]
     },
     "execution_count": 8,
     "metadata": {},
     "output_type": "execute_result"
    }
   ],
   "source": [
    "d = data_dict[10]\n",
    "\n",
    "d"
   ]
  },
  {
   "cell_type": "code",
   "execution_count": 9,
   "id": "5bebbeda-2fe2-4d6c-87b2-aef8928f4ee0",
   "metadata": {},
   "outputs": [
    {
     "name": "stdout",
     "output_type": "stream",
     "text": [
      "Apple reportedly defects iCloud from AWS to Google Cloud: Apple's use of Google Cloud Platform which began wi... https://www.google.com/url?rct=j&sa=t&url=http://thedailycroton.com/2016/03/20/apple-reportedly-defects-icloud-from-aws-to-google-cloud/&ct=ga&cd=CAIyGjNhNjYxYTQyZWZjNWIxNWM6Y29tOmVuOlVT&usg=AFQjCNFUM2Cm31Guqe6MJ8vYA7qKGZGgYA&utm_source=twitterfeed&utm_medium=twitter\n",
      "\n",
      "\n",
      "Zombiler uyandnda Amazon Web Services hazr olacak http://woisio.com/en/ife-and-love/56c11506e4b0bbe73ced0931/zombiler-uyandiginda-amazon-web-services-hazir-olacak?partnerId=322\n",
      "\n",
      "\n",
      "nan\n",
      "\n",
      "\n",
      "Celebrating 10 Years of AWS - qwikLABS is offering unlimited access to any AWS lab in the qwikLABS catalog. https://qwiklabs.com/?utm_content=bufferc84a7&utm_medium=social&utm_source=twitter.com&utm_campaign=buffer#section-4\n",
      "\n",
      "\n",
      "\"RT @velocityconf: Serverless architecture on AWS with @golang? Check out Apex!https://medium.com/@tjholowaychuk/introducing-apex-800824ffaa70#.less0o3kk http://twitter.com/velocityconf/status/689870808857120768/photo/1\"\n",
      "\n",
      "\n",
      "nan\n",
      "\n",
      "\n",
      "RT @TheIoT: AWS Automation | @CloudExpo #Datapipe #AWS #IoT #Microservices https://alltheinternetofthings.com/entries/34760 #IoT\n",
      "\n",
      "\n",
      "Cenique Featured as an Amazon Web Services Case Study Subject http://www.ceniqueglobal.com/blog/amazon-web-services-features-cenique-as-a-case-study?utm_content=29799402&utm_medium=social&utm_source=twitter http://twitter.com/CeniqueGlobal/status/697175004602109952/photo/1\n",
      "\n",
      "\n",
      "nan\n",
      "\n",
      "\n",
      "Aws http://twitter.com/Silena_Gomez_/status/698648221170667520/photo/1\n",
      "\n",
      "\n",
      "RT @aurynn: With AWS bogosort has become computationally feasible.\n",
      "\n",
      "\n",
      "nan\n",
      "\n",
      "\n",
      "nan\n",
      "\n",
      "\n",
      "nan\n",
      "\n",
      "\n",
      "nan\n",
      "\n",
      "\n",
      "RT @awscloud: Read about @LaunchDarkly &amp; Continuous Delivery in the latest AWS Startup Spotlight: https://medium.com/aws-activate-startup-blog/continuous-delivery-and-effective-feature-flagging-with-launchdarkly-b7c6d27b7b3f?adbsc=social_20160218_58398536&adbid=700311563815636998&adbpl=tw&adbpr=66780587#.nbcpcjojb https://t.co/sPwZ\n",
      "\n",
      "\n",
      "RT @jeffbarr: S3 Lifecycle Management Update  Support for Multipart Uploads and Delete Markers - https://aws.amazon.com/blogs/aws/s3-lifecycle-management-update-support-for-multipart-uploads-and-delete-markers/ #AWS https://t.co\n",
      "\n",
      "\n",
      "AWS What's New: Amazon RDS now supports MySQL 5.7 - You can now launch MySQL 5.7 instances on Amazon RDS. MySQL... https://aws.amazon.com/about-aws/whats-new/2016/02/amazon-rds-now-supports-mysql-5-7/\n",
      "\n",
      "\n",
      "nan\n",
      "\n",
      "\n",
      "RT: Demand for Cloud Computing Skills Soars - Amazon Web Services engineers may be fielding up to 20 offers a d... http://www.inc.com/anna-hensel/tech-war-over-cloud-computing-talent-heats-up.html\n",
      "\n",
      "\n"
     ]
    }
   ],
   "source": [
    "for d in random.sample(data_dict, 20):\n",
    "    print(d[' text'], end='\\n\\n\\n')"
   ]
  },
  {
   "cell_type": "markdown",
   "id": "83647e47-d46b-4a91-81b9-b5de91015618",
   "metadata": {},
   "source": [
    "### Reason\n",
    "\n",
    "A lot of tweets with empty texts. Should remove them"
   ]
  },
  {
   "cell_type": "code",
   "execution_count": 10,
   "id": "3d61d951-67ca-4ff3-916f-ca3ea50e4154",
   "metadata": {},
   "outputs": [],
   "source": [
    "data1 = data[data[' text'].notna()]"
   ]
  },
  {
   "cell_type": "code",
   "execution_count": 40,
   "id": "ae7750f5-5855-4dc6-8b5a-a3c507c940e3",
   "metadata": {},
   "outputs": [
    {
     "data": {
      "text/html": [
       "<div>\n",
       "<style scoped>\n",
       "    .dataframe tbody tr th:only-of-type {\n",
       "        vertical-align: middle;\n",
       "    }\n",
       "\n",
       "    .dataframe tbody tr th {\n",
       "        vertical-align: top;\n",
       "    }\n",
       "\n",
       "    .dataframe thead th {\n",
       "        text-align: right;\n",
       "    }\n",
       "</style>\n",
       "<table border=\"1\" class=\"dataframe\">\n",
       "  <thead>\n",
       "    <tr style=\"text-align: right;\">\n",
       "      <th></th>\n",
       "      <th>index</th>\n",
       "      <th>Reach</th>\n",
       "      <th>RetweetCount</th>\n",
       "      <th>Likes</th>\n",
       "      <th>Klout</th>\n",
       "      <th>Sentiment</th>\n",
       "      <th>LocationID</th>\n",
       "    </tr>\n",
       "  </thead>\n",
       "  <tbody>\n",
       "    <tr>\n",
       "      <th>count</th>\n",
       "      <td>100000.000000</td>\n",
       "      <td>1.000000e+05</td>\n",
       "      <td>100000.000000</td>\n",
       "      <td>100000.000000</td>\n",
       "      <td>100000.000000</td>\n",
       "      <td>100000.000000</td>\n",
       "      <td>100000.000000</td>\n",
       "    </tr>\n",
       "    <tr>\n",
       "      <th>mean</th>\n",
       "      <td>49999.500000</td>\n",
       "      <td>8.542396e+03</td>\n",
       "      <td>8.052750</td>\n",
       "      <td>0.152770</td>\n",
       "      <td>40.389260</td>\n",
       "      <td>0.380921</td>\n",
       "      <td>2836.163440</td>\n",
       "    </tr>\n",
       "    <tr>\n",
       "      <th>std</th>\n",
       "      <td>28867.657797</td>\n",
       "      <td>8.867027e+04</td>\n",
       "      <td>97.863474</td>\n",
       "      <td>2.583633</td>\n",
       "      <td>13.636513</td>\n",
       "      <td>1.046559</td>\n",
       "      <td>1323.140242</td>\n",
       "    </tr>\n",
       "    <tr>\n",
       "      <th>min</th>\n",
       "      <td>0.000000</td>\n",
       "      <td>0.000000e+00</td>\n",
       "      <td>0.000000</td>\n",
       "      <td>0.000000</td>\n",
       "      <td>0.000000</td>\n",
       "      <td>-6.000000</td>\n",
       "      <td>1.000000</td>\n",
       "    </tr>\n",
       "    <tr>\n",
       "      <th>25%</th>\n",
       "      <td>24999.750000</td>\n",
       "      <td>1.510000e+02</td>\n",
       "      <td>0.000000</td>\n",
       "      <td>0.000000</td>\n",
       "      <td>32.000000</td>\n",
       "      <td>0.000000</td>\n",
       "      <td>1601.000000</td>\n",
       "    </tr>\n",
       "    <tr>\n",
       "      <th>50%</th>\n",
       "      <td>49999.500000</td>\n",
       "      <td>4.485000e+02</td>\n",
       "      <td>0.000000</td>\n",
       "      <td>0.000000</td>\n",
       "      <td>43.000000</td>\n",
       "      <td>0.000000</td>\n",
       "      <td>3738.000000</td>\n",
       "    </tr>\n",
       "    <tr>\n",
       "      <th>75%</th>\n",
       "      <td>74999.250000</td>\n",
       "      <td>1.496000e+03</td>\n",
       "      <td>3.000000</td>\n",
       "      <td>0.000000</td>\n",
       "      <td>49.000000</td>\n",
       "      <td>0.666667</td>\n",
       "      <td>3775.000000</td>\n",
       "    </tr>\n",
       "    <tr>\n",
       "      <th>max</th>\n",
       "      <td>99999.000000</td>\n",
       "      <td>1.034245e+07</td>\n",
       "      <td>26127.000000</td>\n",
       "      <td>133.000000</td>\n",
       "      <td>99.000000</td>\n",
       "      <td>7.333333</td>\n",
       "      <td>6289.000000</td>\n",
       "    </tr>\n",
       "  </tbody>\n",
       "</table>\n",
       "</div>"
      ],
      "text/plain": [
       "               index         Reach   RetweetCount          Likes  \\\n",
       "count  100000.000000  1.000000e+05  100000.000000  100000.000000   \n",
       "mean    49999.500000  8.542396e+03       8.052750       0.152770   \n",
       "std     28867.657797  8.867027e+04      97.863474       2.583633   \n",
       "min         0.000000  0.000000e+00       0.000000       0.000000   \n",
       "25%     24999.750000  1.510000e+02       0.000000       0.000000   \n",
       "50%     49999.500000  4.485000e+02       0.000000       0.000000   \n",
       "75%     74999.250000  1.496000e+03       3.000000       0.000000   \n",
       "max     99999.000000  1.034245e+07   26127.000000     133.000000   \n",
       "\n",
       "               Klout      Sentiment     LocationID  \n",
       "count  100000.000000  100000.000000  100000.000000  \n",
       "mean       40.389260       0.380921    2836.163440  \n",
       "std        13.636513       1.046559    1323.140242  \n",
       "min         0.000000      -6.000000       1.000000  \n",
       "25%        32.000000       0.000000    1601.000000  \n",
       "50%        43.000000       0.000000    3738.000000  \n",
       "75%        49.000000       0.666667    3775.000000  \n",
       "max        99.000000       7.333333    6289.000000  "
      ]
     },
     "execution_count": 40,
     "metadata": {},
     "output_type": "execute_result"
    }
   ],
   "source": [
    "data1.describe()"
   ]
  },
  {
   "cell_type": "code",
   "execution_count": 11,
   "id": "ca2116bc-ec50-4b5a-8d57-f2fc3a8b6254",
   "metadata": {},
   "outputs": [
    {
     "data": {
      "text/plain": [
       "100000"
      ]
     },
     "execution_count": 11,
     "metadata": {},
     "output_type": "execute_result"
    }
   ],
   "source": [
    "len(data1)"
   ]
  },
  {
   "cell_type": "code",
   "execution_count": 54,
   "id": "808e906e-ef64-4790-b0f5-c46694124c7b",
   "metadata": {},
   "outputs": [
    {
     "data": {
      "text/plain": [
       "Index(['index', 'TweetID', ' Weekday', ' Hour', ' Day', ' Lang', ' IsReshare',\n",
       "       ' Reach', ' RetweetCount', ' Likes', ' Klout', ' Sentiment', ' text',\n",
       "       ' LocationID', ' UserID'],\n",
       "      dtype='object')"
      ]
     },
     "execution_count": 54,
     "metadata": {},
     "output_type": "execute_result"
    }
   ],
   "source": [
    "data1.columns"
   ]
  },
  {
   "cell_type": "code",
   "execution_count": 69,
   "id": "cea61052-463e-4ea7-895e-ff969db2daee",
   "metadata": {},
   "outputs": [
    {
     "data": {
      "text/plain": [
       "index              int64\n",
       "TweetID           object\n",
       " Weekday          object\n",
       " Hour             object\n",
       " Day              object\n",
       " Lang             object\n",
       " IsReshare        object\n",
       " Reach           float64\n",
       " RetweetCount    float64\n",
       " Likes           float64\n",
       " Klout           float64\n",
       " Sentiment       float64\n",
       " text             object\n",
       " LocationID      float64\n",
       " UserID           object\n",
       "IsReshare          int64\n",
       "dtype: object"
      ]
     },
     "execution_count": 69,
     "metadata": {},
     "output_type": "execute_result"
    }
   ],
   "source": [
    "data1.dtypes"
   ]
  },
  {
   "cell_type": "code",
   "execution_count": 61,
   "id": "0242f770-0de2-4388-821a-9beba8914818",
   "metadata": {},
   "outputs": [
    {
     "data": {
      "text/plain": [
       "index                                                            0\n",
       "TweetID                                      tw-682712873332805633\n",
       " Weekday                                                  Thursday\n",
       " Hour                                                           17\n",
       " Day                                                            31\n",
       " Lang                                                           en\n",
       " IsReshare                                                   False\n",
       " Reach                                                        44.0\n",
       " RetweetCount                                                  0.0\n",
       " Likes                                                         0.0\n",
       " Klout                                                        35.0\n",
       " Sentiment                                                     0.0\n",
       " text            We are hiring: Senior Software Engineer - Prot...\n",
       " LocationID                                                 3751.0\n",
       " UserID                                                tw-40932430\n",
       "Name: 0, dtype: object"
      ]
     },
     "execution_count": 61,
     "metadata": {},
     "output_type": "execute_result"
    }
   ],
   "source": [
    "d = data1.iloc[0]\n",
    "d"
   ]
  },
  {
   "cell_type": "code",
   "execution_count": 63,
   "id": "3a7afdd2-2d0c-4998-b1cb-4ce3557f6c64",
   "metadata": {},
   "outputs": [
    {
     "data": {
      "text/plain": [
       "bool"
      ]
     },
     "execution_count": 63,
     "metadata": {},
     "output_type": "execute_result"
    }
   ],
   "source": [
    "type(d[' IsReshare'])"
   ]
  },
  {
   "cell_type": "code",
   "execution_count": 70,
   "id": "d5917035-e9fd-458c-a16b-1b4d88e7e6b7",
   "metadata": {},
   "outputs": [
    {
     "data": {
      "text/plain": [
       " Lang\n",
       "en    91886\n",
       "es     1700\n",
       "fr     1085\n",
       "tr      877\n",
       "_u      861\n",
       "ja      671\n",
       "de      563\n",
       "in      416\n",
       "tl      370\n",
       "ko      330\n",
       "pt      222\n",
       "nl      172\n",
       "it      135\n",
       "zh      110\n",
       "th       81\n",
       "pl       77\n",
       "cs       74\n",
       "ru       56\n",
       "fi       52\n",
       "et       42\n",
       "ro       33\n",
       "ht       28\n",
       "da       27\n",
       "sv       27\n",
       "cy       27\n",
       "ar       22\n",
       "hu       19\n",
       "no       13\n",
       "lt        8\n",
       "lv        5\n",
       "hi        3\n",
       "uk        2\n",
       "sl        2\n",
       "iw        2\n",
       "eu        1\n",
       "km        1\n",
       "Name: count, dtype: int64"
      ]
     },
     "execution_count": 70,
     "metadata": {},
     "output_type": "execute_result"
    }
   ],
   "source": [
    "data1[' Lang'].value_counts()"
   ]
  },
  {
   "cell_type": "markdown",
   "id": "a973440e-7b4c-4c45-87a7-01ccd8877905",
   "metadata": {},
   "source": [
    "### Reason\n",
    "\n",
    "let's remove non Ecglish texts as outliers. They are about 8% as sum of data, But every other language is less then 1.5%.\n",
    "\n",
    "Can drop it without losing signal. "
   ]
  },
  {
   "cell_type": "code",
   "execution_count": 72,
   "id": "9867d97c-831e-447d-b72a-acc755684abf",
   "metadata": {},
   "outputs": [
    {
     "name": "stderr",
     "output_type": "stream",
     "text": [
      "/tmp/ipykernel_10029/2324517098.py:1: SettingWithCopyWarning: \n",
      "A value is trying to be set on a copy of a slice from a DataFrame.\n",
      "Try using .loc[row_indexer,col_indexer] = value instead\n",
      "\n",
      "See the caveats in the documentation: https://pandas.pydata.org/pandas-docs/stable/user_guide/indexing.html#returning-a-view-versus-a-copy\n",
      "  data1['IsReshare'] = data1[' IsReshare'].apply(lambda x: 1 if x else 0 )\n"
     ]
    }
   ],
   "source": [
    "data1['IsReshare'] = data1[' IsReshare'].apply(lambda x: 1 if x else 0 )"
   ]
  },
  {
   "cell_type": "code",
   "execution_count": 68,
   "id": "599b9fcd-a5c0-4529-80aa-59e7e1324d2b",
   "metadata": {},
   "outputs": [
    {
     "data": {
      "text/plain": [
       "<Axes: >"
      ]
     },
     "execution_count": 68,
     "metadata": {},
     "output_type": "execute_result"
    },
    {
     "data": {
      "image/png": "[encoded data removed]",
      "text/plain": [
       "<Figure size 640x480 with 1 Axes>"
      ]
     },
     "metadata": {},
     "output_type": "display_data"
    }
   ],
   "source": [
    "data1['IsReshare'].hist()"
   ]
  },
  {
   "cell_type": "code",
   "execution_count": 94,
   "id": "b4974625-88b3-449f-bb24-188f70bb59bd",
   "metadata": {},
   "outputs": [
    {
     "data": {
      "text/plain": [
       "<Axes: >"
      ]
     },
     "execution_count": 94,
     "metadata": {},
     "output_type": "execute_result"
    },
    {
     "data": {
      "image/png": "[encoded data removed]",
      "text/plain": [
       "<Figure size 640x480 with 1 Axes>"
      ]
     },
     "metadata": {},
     "output_type": "display_data"
    }
   ],
   "source": [
    "data1[' Sentiment'].hist()"
   ]
  },
  {
   "cell_type": "code",
   "execution_count": 95,
   "id": "ada9aefd-a242-436d-8e05-0cb59697999c",
   "metadata": {},
   "outputs": [
    {
     "data": {
      "text/plain": [
       "<Axes: >"
      ]
     },
     "execution_count": 95,
     "metadata": {},
     "output_type": "execute_result"
    },
    {
     "data": {
      "image/png": "[encoded data removed]",
      "text/plain": [
       "<Figure size 640x480 with 1 Axes>"
      ]
     },
     "metadata": {},
     "output_type": "display_data"
    }
   ],
   "source": [
    "data1[' Klout'].hist()"
   ]
  },
  {
   "cell_type": "code",
   "execution_count": 49,
   "id": "55eb0fff-1a74-4fd8-a5fa-b5cda269b5e7",
   "metadata": {},
   "outputs": [
    {
     "data": {
      "text/plain": [
       "<Axes: >"
      ]
     },
     "execution_count": 49,
     "metadata": {},
     "output_type": "execute_result"
    },
    {
     "data": {
      "image/png": "[encoded data removed]",
      "text/plain": [
       "<Figure size 640x480 with 1 Axes>"
      ]
     },
     "metadata": {},
     "output_type": "display_data"
    }
   ],
   "source": [
    "data1[' Reach'].hist(bins=50)"
   ]
  },
  {
   "cell_type": "code",
   "execution_count": 50,
   "id": "128673df-e16d-418b-9981-3fb3fc9e8831",
   "metadata": {},
   "outputs": [
    {
     "data": {
      "text/plain": [
       "<Axes: >"
      ]
     },
     "execution_count": 50,
     "metadata": {},
     "output_type": "execute_result"
    },
    {
     "data": {
      "image/png": "[encoded data removed]",
      "text/plain": [
       "<Figure size 640x480 with 1 Axes>"
      ]
     },
     "metadata": {},
     "output_type": "display_data"
    }
   ],
   "source": [
    "data1[' RetweetCount'].hist(bins=50)"
   ]
  },
  {
   "cell_type": "code",
   "execution_count": 51,
   "id": "addcb044-7404-4923-a2ba-8164e49d613c",
   "metadata": {},
   "outputs": [
    {
     "data": {
      "text/plain": [
       "<Axes: >"
      ]
     },
     "execution_count": 51,
     "metadata": {},
     "output_type": "execute_result"
    },
    {
     "data": {
      "image/png": "[encoded data removed]",
      "text/plain": [
       "<Figure size 640x480 with 1 Axes>"
      ]
     },
     "metadata": {},
     "output_type": "display_data"
    }
   ],
   "source": [
    "data1[' Likes'].hist(bins=50)"
   ]
  },
  {
   "cell_type": "markdown",
   "id": "9b19269b-4255-429b-ad6c-8d539416d835",
   "metadata": {},
   "source": [
    "### Reason\n",
    "\n",
    "There are some outliers in data with axis Reach, Likes, RetweetCount.\n",
    "\n",
    "Should remove them\n",
    "\n",
    "As a base-line let's see 95% persentile for each axis."
   ]
  },
  {
   "cell_type": "code",
   "execution_count": 53,
   "id": "b2aa637d-8a1e-4505-ae19-efba459ad491",
   "metadata": {},
   "outputs": [
    {
     "data": {
      "text/plain": [
       " Reach           16540.75\n",
       " RetweetCount       33.00\n",
       " Likes               0.00\n",
       "Name: 0.95, dtype: float64"
      ]
     },
     "execution_count": 53,
     "metadata": {},
     "output_type": "execute_result"
    }
   ],
   "source": [
    "data1[[' Reach', ' RetweetCount', ' Likes']].quantile(0.95)"
   ]
  },
  {
   "cell_type": "code",
   "execution_count": 75,
   "id": "47ab0192-2917-41c6-8944-81718e64b3fb",
   "metadata": {},
   "outputs": [
    {
     "data": {
      "text/plain": [
       " Reach           5307.0\n",
       " RetweetCount      16.0\n",
       " Likes              0.0\n",
       "Name: 0.9, dtype: float64"
      ]
     },
     "execution_count": 75,
     "metadata": {},
     "output_type": "execute_result"
    }
   ],
   "source": [
    "data1[[' Reach', ' RetweetCount', ' Likes']].quantile(0.9)"
   ]
  },
  {
   "cell_type": "code",
   "execution_count": 74,
   "id": "74c055a9-8b06-4b1e-b888-758055046219",
   "metadata": {},
   "outputs": [
    {
     "data": {
      "text/plain": [
       " Reach           702.0\n",
       " RetweetCount      1.0\n",
       " Likes             0.0\n",
       "Name: 0.6, dtype: float64"
      ]
     },
     "execution_count": 74,
     "metadata": {},
     "output_type": "execute_result"
    }
   ],
   "source": [
    "data1[[' Reach', ' RetweetCount', ' Likes']].quantile(0.6)"
   ]
  },
  {
   "cell_type": "markdown",
   "id": "05042002-5c44-46f4-a64c-408d2fed022c",
   "metadata": {},
   "source": [
    "### Reason\n",
    "\n",
    "All commercial posts are not liked in most. Can neglect this value as mark of engagment.\n",
    "\n",
    "Also RetweetCount is very small for most of tweets. Can neglect it too.\n",
    "\n",
    "The real valuable mark of engagments id Reach.\n",
    "\n",
    "Will use it as target for modeling and will use only it for removing outliers.\n",
    "\n",
    "Set threshold as tr_reach = 15000"
   ]
  },
  {
   "cell_type": "code",
   "execution_count": 85,
   "id": "d31c9357-96f7-4962-a150-dd8a16f617f6",
   "metadata": {},
   "outputs": [],
   "source": [
    "tr_reach = 15000"
   ]
  },
  {
   "cell_type": "code",
   "execution_count": 86,
   "id": "17fd0b51-1654-40a9-a598-0cd6cb11fd77",
   "metadata": {},
   "outputs": [],
   "source": [
    "data2 = data1[(data1[' Lang'] == 'en') & (data1[' Reach'] < tr_reach)]"
   ]
  },
  {
   "cell_type": "code",
   "execution_count": 87,
   "id": "384cfa46-ed97-4eb1-b3a1-1469a71fdcc9",
   "metadata": {},
   "outputs": [
    {
     "data": {
      "text/plain": [
       "87278"
      ]
     },
     "execution_count": 87,
     "metadata": {},
     "output_type": "execute_result"
    }
   ],
   "source": [
    "len(data2)"
   ]
  },
  {
   "cell_type": "code",
   "execution_count": 88,
   "id": "ebccb666-c2bc-4c49-a6bb-41e0127660f6",
   "metadata": {},
   "outputs": [
    {
     "data": {
      "text/plain": [
       "<Axes: >"
      ]
     },
     "execution_count": 88,
     "metadata": {},
     "output_type": "execute_result"
    },
    {
     "data": {
      "image/png": "[encoded data removed]",
      "text/plain": [
       "<Figure size 640x480 with 1 Axes>"
      ]
     },
     "metadata": {},
     "output_type": "display_data"
    }
   ],
   "source": [
    "data2[' Reach'].hist(bins=50)"
   ]
  },
  {
   "cell_type": "code",
   "execution_count": 89,
   "id": "baf25084-e078-4da7-a8cd-ad7d0b1cc28c",
   "metadata": {},
   "outputs": [
    {
     "name": "stderr",
     "output_type": "stream",
     "text": [
      "/tmp/ipykernel_10029/2007636524.py:1: SettingWithCopyWarning: \n",
      "A value is trying to be set on a copy of a slice from a DataFrame.\n",
      "Try using .loc[row_indexer,col_indexer] = value instead\n",
      "\n",
      "See the caveats in the documentation: https://pandas.pydata.org/pandas-docs/stable/user_guide/indexing.html#returning-a-view-versus-a-copy\n",
      "  data2['log_Reach'] = data2[' Reach'].apply(lambda x: np.log(1 + x))\n"
     ]
    }
   ],
   "source": [
    "data2['log_Reach'] = data2[' Reach'].apply(lambda x: np.log(1 + x))"
   ]
  },
  {
   "cell_type": "code",
   "execution_count": 90,
   "id": "a6911d56-2ede-4693-8417-9328d404e591",
   "metadata": {},
   "outputs": [
    {
     "data": {
      "text/plain": [
       "<Axes: >"
      ]
     },
     "execution_count": 90,
     "metadata": {},
     "output_type": "execute_result"
    },
    {
     "data": {
      "image/png": "[encoded data removed]",
      "text/plain": [
       "<Figure size 640x480 with 1 Axes>"
      ]
     },
     "metadata": {},
     "output_type": "display_data"
    }
   ],
   "source": [
    "data2['log_Reach'].hist(bins=50)"
   ]
  },
  {
   "cell_type": "markdown",
   "id": "1f9bf84f-65e5-4026-8254-39fd3a983735",
   "metadata": {},
   "source": [
    "### Reason\n",
    "\n",
    "see that distribution is log normal. it's good to predict log_normal value of target.\n",
    "\n",
    "let's cut left tail or distribution."
   ]
  },
  {
   "cell_type": "code",
   "execution_count": 91,
   "id": "89922ad8-f296-43ed-9b5d-36e31c711c51",
   "metadata": {},
   "outputs": [],
   "source": [
    "data3 = data2[data2['log_Reach'] > 2]"
   ]
  },
  {
   "cell_type": "code",
   "execution_count": 98,
   "id": "d3c3b719-b330-4d37-a35d-49793f79bf37",
   "metadata": {},
   "outputs": [
    {
     "data": {
      "text/plain": [
       "86192"
      ]
     },
     "execution_count": 98,
     "metadata": {},
     "output_type": "execute_result"
    }
   ],
   "source": [
    "len(data3)"
   ]
  },
  {
   "cell_type": "code",
   "execution_count": 99,
   "id": "34d5f202-75a6-4527-a3ce-aa268103173b",
   "metadata": {},
   "outputs": [],
   "source": [
    "data_dict = data3.to_dict('records')"
   ]
  },
  {
   "cell_type": "code",
   "execution_count": 101,
   "id": "4b6121b9-229a-4887-8854-d8ab390c39a8",
   "metadata": {
    "scrolled": true
   },
   "outputs": [
    {
     "name": "stdout",
     "output_type": "stream",
     "text": [
      "Blogged:  Triggering a Lambda from SNS using CloudFormation http://iangilham.com/2016/03/22/Sns-trigger-lambda-via-cloudformation.html?utm_source=feedburner&utm_medium=twitter&utm_campaign=Feed:%20IanGilham%20(Ian%20Gilham's%20blog) #aws #awslambda #awssns\n",
      "\n",
      "\n",
      "@jasuja as a group Amazon will always be cash positive thanks to their AWS revenues &amp; their other Businesses.  @ndcnn @righthalf\n",
      "\n",
      "\n",
      "Data sets from@@kaggle http://blog.kaggle.com/2016/01/19/introducing-kaggle-datasets/ @Azure @IBM @awscloud @GE_Digital\n",
      "\n",
      "\n",
      "With Google's new stackdriver tool IT can track apps running on AWS or GCP: Folks using mu... http://www.fiercecio.com/story/googles-new-stackdriver-tool-it-can-track-apps-running-aws-or-gcp/2016-03-24?utm_medium=rss&utm_medium=twitter&utm_source=rss&utm_source=twitterfeed&utm_campaign=rss #CIO #nextgreatCIO\n",
      "\n",
      "\n",
      "\"Job Opening: AWS Cloud Engineer / IT Specialist - System Admin in Charlotte NC#AWS #cloudfront #cloud #devops http://www.ironpaper.com/job-aws-system-admin/?utm_campaign=Hiring&utm_content=27774505&utm_medium=social&utm_source=twitter\"\n",
      "\n",
      "\n",
      "RT @jshack: @TheIoT: Event Enabling the Internet of Things using AWS Lambda @NATS_io and @Apcera https://alltheinternetofthings.com/entries/37931 #IoT @awscloud\n",
      "\n",
      "\n",
      "RT @GlobalKnowledge: Get a clear understanding of what Amazon Web Services is &amp; how it can help your business http://www.globalknowledge.com/training/whitepaperdetail.asp?pageid=502&wpid=1234&country=United%20States&utm_source=twitter&utm_medium=social #AWS\n",
      "\n",
      "\n",
      "RT @thetinot: Spotify chooses Google Cloud for its data and infrastructure needs https://news.spotify.com/us/2016/02/23/announcing-spotify-infrastructures-googley-future/ #aws #azure #cloud\n",
      "\n",
      "\n",
      "Amazon AWS vs. Microsoft Azure Buying Guide - Datamation http://www.datamation.com/cloud-computing/amazon-aws-vs.-microsoft-azure-buying-guide.html\n",
      "\n",
      "\n",
      "RT @MongoDirector: http://www.mongodirector.com - Blazing fast MongoDB hosting on SSD and EBS Provisioned IOPS. Host with us or bring your own AW\n",
      "\n",
      "\n",
      "Revolution Technology are hiring: #PHP #BIGDATA #DiceUK141 - http://uk.dice.com/IT-Job/9755588/en/ #laravel #AWS #developer #foodie\n",
      "\n",
      "\n",
      "RT @mikebluestein: Im hiring. AWS React Xamarin\n",
      "\n",
      "\n",
      "So @AppleSupportnow  you KNOW I'm counting the minutes til 5Tb iCloud is free  http://thenextweb.com/apple/2016/03/18/apple-reportedly-building-cloud-platform/  AWS and Azure cost $$ right?\n",
      "\n",
      "\n",
      "RT @timbray: Major upgrade to the AWS Terms of Service; check out clause 57.10. No really: https://aws.amazon.com/service-terms/\n",
      "\n",
      "\n",
      "Amazon is hiring! #Named #Account Manager AWS (Chicago) in #Chicago apply now! #jobs http://neuvoo.com/job.php?id=cpzuf7inr5&source=twitter&lang=en&client_id=375&l=Chicago%20Illinois%20US&k=Named%20Account%20Manager%20AWS%20(Chicago) http://twitter.com/NeuvooSalChi/status/682992889555742721/photo/1\n",
      "\n",
      "\n",
      "Get a grasp on QA load balancing in AWS http://news360.com/article/343051331\n",
      "\n",
      "\n",
      "RT @WomenSurgeons: Wonderful article on AWS founder Pat Numann!  http://www.syracuse.com/news/index.ssf/2014/08/patricia_numann_leadership.html\n",
      "\n",
      "\n",
      "I wasted my time i have notthing to do. Now i'm...... #5DaysTilTEAM #AWS #RETWEEETME #Science #eSAX\n",
      "\n",
      "\n",
      "@alexcpsec @saranormous When asked we advise to read docs and do real cost analysis - not saying AWS never works at mid-scale.\n",
      "\n",
      "\n",
      "CloudBees Announces the First Jenkins-Based Continuous Delivery as a Service for AWS and OpenStack https://promotedstories.com/story/461096?utm_source=dlvr.it&utm_medium=twitter #networking\n",
      "\n",
      "\n",
      "RT @awscloud: Join @mndoci at Container World on 2/17: How #containers drive new computing primitives. https://containerevent.com/speaker/deepak-singh/?adbsc=AWS_Events_20160215_58299726 https://t.co\n",
      "\n",
      "\n",
      "#python udo 4.2.0: Automate AWS Orchestration and Deployments https://pypi.python.org/pypi/udo/4.2.0?utm_source=dlvr.it&utm_medium=https://pypi.python.org/pypi?%253Aaction%3Drss\n",
      "\n",
      "\n",
      "Cloud Data Migration: 6 Strategies for Getting Data into AWS https://connect.awswebcasts.com/dataintos3jan2016/event/event_info.html?campaign-id=LI2W\n",
      "\n",
      "\n",
      "RT @awscloud: AWS #IoT now integrates with Elasticsearch Service with built-in #Kibana &amp; CloudWatch: https://aws.amazon.com/about-aws/whats-new/2016/03/aws-iot-integrates-with-elasticsearch-service-and-cloudwatch/?sc_channel=sm&sc_campaign=launches_2016&sc_publisher=tw_go&sc_content=es_cw_iot&sc_country=global&sc_geo=global&sc_category=iot&adbsc=social_launches_20160316_59424406&adbid=710197651820535808&adbpl=tw&adbpr=66780587 https://t.co/x\n",
      "\n",
      "\n",
      "RT @maslett: Talent updates Integration Cloud with improved provisioning of AWS EMR and Redshift and native Spark processing. https://t.co/\n",
      "\n",
      "\n",
      "ImageWare is now an AWS Partner Network (APN) Technology Partner http://findbiometrics.com/imageware-amazon-web-services-303241/\n",
      "\n",
      "\n",
      "New post on @opendeis blog: https://deis.com/blog/2016/etcd-on-coreos see etcd in action on @coreoslinux running on @awscloud\n",
      "\n",
      "\n",
      "@BenBromhead exactly.  i've been telling aws this for years and afaict the only reason they don't do it is to sell trusted advisor.\n",
      "\n",
      "\n",
      "@awscloud Colorado... Yummy!\n",
      "\n",
      "\n",
      "We are hiring: Software Development Engineer http://www.reqcloud.com/jobs/719869/?k=9X7o73jDdFsh/QO1cE/wPDNxty32Xm1ac4iZdobH3iw&utm_source=twitter&utm_campaign=reqCloud_JobPost #job @awscloud #aws #ec2 #windows #kernel #devicedriver #virtuali\n",
      "\n",
      "\n",
      "Netflix Cleanly Finishes Move to Amazon Web Services (AWS): Since January Netflix has been running entirely o... https://www.google.com/url?rct=j&sa=t&url=http://www.thehostingnews.com/netflix-cleanly-moves-to-amazon-web-services&ct=ga&cd=CAIyGjcyMjQxY2RlYjE3ZWEwNGI6Y29tOmVuOlVT&usg=AFQjCNF8MP9X0P3l-JYPjgQfRBANr__czQ&utm_source=twitterfeed&utm_medium=twitter\n",
      "\n",
      "\n",
      "Completely Free WordPress AWS backup plugin looking for contributors https://wordpress.org/plugins/s3bubble-amazon-s3-backup/?utm_content=buffer57ed7&utm_medium=social&utm_source=twitter.com&utm_campaign=buffer #free #github #contributors #aws #WP #mashable\n",
      "\n",
      "\n",
      "RT @awscloud: New on the Public Sector Blog: US Veterans Eligible for AWS Certification Exam Reimbursement https://aws.amazon.com/blogs/publicsector/us-veterans-now-eligible-for-aws-certification-exam-reimbursement/?adbsc=social_20160218_58413506&adbid=700371728640274432&adbpl=tw&adbpr=66780587 https://\n",
      "\n",
      "\n",
      "RT @AmazonOmy: Amazon's next $400 billion market: http://www.businessinsider.com/signs-of-amazon-getting-into-logistics-2016-2 #FBA #AWS #transportation #freight\n",
      "\n",
      "\n",
      "RT @awscloud: Follow us for the lastest cloud computing news &amp; updates!\n",
      "\n",
      "\n",
      "RT @Werner: 10 Lessons from 10 Years of Amazon Web Services - #AWS #AllThingsDistributed http://www.allthingsdistributed.com/2016/03/10-lessons-from-10-years-of-aws.html http://twitter.com/Werner/status/708308590675632129/photo/1\n",
      "\n",
      "\n",
      "@pranav_1N1 @ixigo Thanks for spotting the problem - we had some glitches yesterday on AWS that affected a few users. Thanks for hanging on!\n",
      "\n",
      "\n",
      "AHEAD is #hiring AWS Solutions Architect in Chicago IL https://www.ziprecruiter.com/tj/336c710c #jobs #Chicago #IT #Technology\n",
      "\n",
      "\n",
      "RT @webinista: @marcysutton Probably DreamHost. Possibly MediaTemple Grid. TBH for static pages I'd probably steer to AWS S3 + use Cyberd\n",
      "\n",
      "\n",
      "New AWS Public Data Set  3000 Rice Genome: You can now access the genome sequence data of 3024 rice varietie... http://insidebigdata.com/2016/01/01/new-aws-public-data-set-3000-rice-genome/\n",
      "\n",
      "\n",
      "@david_obrien how's the AWS PowerShell docs vs Microsoft?\n",
      "\n",
      "\n",
      "\"AWS IoT platform connects devices to cloud serviceshttp://searchaws.techtarget.com/tip/AWS-IoT-platform-connects-devices-to-cloud-services\"\n",
      "\n",
      "\n",
      "RT @awscloud: AWS #IoT now supports WebSockets custom keepalive intervals &amp; weve enhanced the console! https://aws.amazon.com/about-aws/whats-new/2016/01/aws-iot-now-supports-websockets-custom-keepalive-intervals-and-enhanced-console/?sc_channel=sm&sc_campaign=launches_2016&sc_publisher=tw_go&sc_content=iot_enhancements&sc_country=global&sc_geo=global&sc_category=iot&adbsc=social_launches_20160129_57734006&adbid=692867616688353281&adbpl=tw&adbpr=66780587 https://t.\n",
      "\n",
      "\n",
      "\"RT @WServerNews: #AWSConsiderations for AWShttp://www.windowsnetworking.com/articles-tutorials/cloud-computing/considerations-aws.html\"\n",
      "\n",
      "\n",
      "3 Reasons AWS Lambda Is Not Ready for Prime Time | @datawireio https://www.datawire.io/3-reasons-aws-lambda-not-ready-prime-time/?utm_content=buffer0791f&utm_medium=social&utm_source=twitter.com&utm_campaign=buffer\n",
      "\n",
      "\n",
      "A reminder just how big #Amazon #AWS #cloud is compared to the competitors http://s.thestreet.com/files/tsc/v2008/photos/contrib/uploads/cloudcomputeshare.jpg - they dwarf the competition combined\n",
      "\n",
      "\n",
      "#Linux #Systems Engineer - Amazon Web Services - Kendall Square needed in #Cambridge at Amazon. Apply now! #jobs http://neuvoo.com/job.php?id=8h3q3jgu3x&source=twitter&lang=en&client_id=595&l=Cambridge%20Massachusetts%20US&k=Linux%20Systems%20Engineer%20-%20Amazon%20Web%20Services%20-%20Kendall%20Square\n",
      "\n",
      "\n",
      "Event: Building Serverless Applications with AWS &amp; Hackathon 101  Lessons Learnt http://www.icenimagazine.co.uk/event-building-serverless-applications-aws-hackathon-101-lessons-learnt/ http://twitter.com/icenimagazine/status/711490866897100800/photo/1\n",
      "\n",
      "\n",
      "Introducing the Aws::Record Developer Preview http://ruby.awsblog.com/post/TxEPQTRSEPJ2X8/Introducing-the-Aws-Record-Developer-Preview?utm_content=buffer49b23&utm_medium=social&utm_source=twitter.com&utm_campaign=buffer\n",
      "\n",
      "\n",
      "RT @awscloud: Curious how @Netflix can deliver billions of hours of content? Hear its #BigData story: https://aws.amazon.com/solutions/case-studies/netflix/?sc_channel=sm&sc_campaign=gc_bd&sc_publisher=tw_go&sc_content=netlix_1&sc_country=global&sc_geo=global&sc_category=big-data&trk=global_2016_bigdata_bv&adbsc=gc_20160303_58902946&adbid=705439629185404930&adbpl=tw&adbpr=66780587 https://t.co/\n",
      "\n",
      "\n",
      "Penetration Testing Security Support Engineer Aws Seattle Wa Jobs in Seattle WA #Seattle #WA #jobs #jobsearch https://www.jobfindly.com/penetration-testing-security-support-engineer-aws-seattle-wa-jobs-seattle-wa.html\n",
      "\n",
      "\n",
      "RT @awscloud: How to reduce security threats and operating costs using AWS WAF and Amazon CloudFront. http://blogs.aws.amazon.com/security/post/Tx1G747SE1R2ZWE/How-to-Reduce-Security-Threats-and-Operating-Costs-Using-AWS-WAF-and-Amazon-Clou?adbsc=social_20160308_59103586&adbid=707309974322458625&adbpl=tw&adbpr=66780587 https://t.co/\n",
      "\n",
      "\n",
      "RT @awscloud: Last call to register for Architecting on AWS in LA starting 3/2. Details: https://awstraining.csod.com/default.aspx?c=Customer&dlink=/DeepLink/ProcessRedirect.aspx?module%3Dlodetails%26lo%3Dc2351022-b5d0-4706-b08e-ae3def24c900?adbscsocial_20160226_58636766 http://twitter.com/awscloud/status/703021717627621378/photo/1\n",
      "\n",
      "\n",
      "\"#JobOpening :  #Cloud Engineer Telecoms AWS Remote#ITJobs - #MO #StLouis  #hiring #JobOpening #rtjobs Apply: http://www.hotjob.us/cloud-engineer-telecoms-aws-remote/\"\n",
      "\n",
      "\n",
      "Systems Engineer (AD AWS Linux) Northampton  #job #jobs #hiring #ITJobs http://www.applythis.net/?a=3B7CD9C3.0\n",
      "\n",
      "\n",
      "\"Job-Sr.Storage Engineer Loc-Reston VASkills- cloud platforms (VMware AWS etc) production deploymentsContact-resume@metadim.com\"\n",
      "\n",
      "\n",
      "New blog post: Building Serverless Applications with #AWS &amp; Hackathon 101 - Lessons Learnt http://paulgrenyer.blogspot.com/2016/03/event-building-serverless-applications.html\n",
      "\n",
      "\n",
      "awscloud: Copy AMIs from another AWS account in the same region or across regions. Learn more:  http://twitter.com/awscloud/status/683724013797965824/photo/1\n",
      "\n",
      "\n",
      "Amazon is hiring! #Solutions #Architect - Amazon Web Services (Houston) in #Houston apply now! #jobs http://neuvoo.com/job.php?id=rar87cij8p&source=twitter&lang=en&client_id=123&l=Houston%20Texas%20US&k=Solutions%20Architect%20-%20Amazon%20Web%20Services%20(Houston)\n",
      "\n",
      "\n",
      "RT @WebOpsDaily: Google Quietly Launches Its Answer to AWS Lambda: http://venturebeat.com/2016/02/09/google-has-quietly-launched-its-answer-to-aws-lambda/\n",
      "\n",
      "\n",
      "RT @jeffbarr: New - Slack Integration Blueprints for #AWS Lambda - Build your own bots and do #ChatOps https://aws.amazon.com/blogs/aws/new-slack-integration-blueprints-for-aws-lambda/ https://t.co\n",
      "\n",
      "\n",
      "Unisys announces Stealth tech for AWS cloud http://www.cloudpro.co.uk/it-infrastructure/security/5748/unisys-announces-stealth-tech-for-aws-cloud\n",
      "\n",
      "\n",
      "@mmparker  python and aws everything.\n",
      "\n",
      "\n",
      "On the early bird from AUS to LAX to start the year right with @mediatemple. Some awesome things on tap this year. #AWS #Hosting\n",
      "\n",
      "\n",
      "RT @awscloud: In Device Farm you can now run XCTest UI custom tests on iOS apps. How to: http://docs.aws.amazon.com/devicefarm/latest/developerguide/test-types-ios-xctest-ui.html?adbsc=docs_20160326_59609176&adbid=713784845449572353&adbpl=tw&adbpr=66780587 http://twitter.com/awscloud/status/713784845449572353/photo/1\n",
      "\n",
      "\n",
      "Making use of opportunities :) #AWS https://twitter.com/jeffbarr/status/694904256776638465\n",
      "\n",
      "\n",
      "@juliansgamble @otfrom not learned Pallet well enough to comment. Much more momentum in Terraform I'd say tracking new AWS features v fast\n",
      "\n",
      "\n",
      "RT @awscloud: Join us at the SF Loft 1/29 to hear from Convox and Opsee on how they are using Amazon ECS. http://aws.amazon.com/ecs/container-day/?adbsc=AWS_Events_20160121_57444536&adbid=690250771267395584&adbpl=tw&adbpr=66780587 https://t\n",
      "\n",
      "\n",
      "AWS (Prod. @SmartSensei) by Dom P. #np on #SoundCloud https://soundcloud.com/dompruitt/aws-prod-smartsensei\n",
      "\n",
      "\n",
      "RT @lennypruss: Hub-spoke value chain coalescing around new enterprise stack: AWS (infra) GitHub (middleware) Slack (productivity) https:\n",
      "\n",
      "\n",
      "We are hiring: Senior Software Development Engineer AWS SDK for Java Senior Software Developme http://www.reqcloud.com/jobs/726305/?k=Mub3RDkwdBvvv16qjTy49zNEF%20AFfEID9DJN9DLsQ0E&utm_source=twitter&utm_campaign=reqCloud_JobPost #job @awscloud\n",
      "\n",
      "\n",
      "\"Free ssl certs on Amazon Web Serviceshttps://aws.amazon.com/certificate-manager/\"\n",
      "\n",
      "\n",
      "With Parse shutting down I've been testing out running my own parse-server on AWS. Doing some load testing now...\n",
      "\n",
      "\n",
      "RT @mfild: Can't use your real data for testing?  Both IMDB and Amazon AWS have public data sets available for download says @sky_vst @RMO\n",
      "\n",
      "\n",
      "We're #hiring! Read about our latest #job opening here: Lead AWS Solution Architect - http://www.careerarc.com/job-listing/cognizant-jobs-lead-aws-solution-architect-17951428?campaign_id=376&src=1&utm_campaign=TW01&utm_medium=TW&utm_source=JC #Phoenix AZ #IT #CareerArc\n",
      "\n",
      "\n",
      "We are hiring: Networking Cloud Support Engineer Networking Cloud Support Engineer (Sea http://www.reqcloud.com/jobs/709549/?k=reunKZglqvdH56E3fXKz6viJT6ZgjTWznYikF1v7iFQ&utm_source=twitter&utm_campaign=reqCloud_JobPost #job @Amazon #aws #job\n",
      "\n",
      "\n",
      "Google Cloud Lures Amazon Web Services Customer Spotify: Spotifya marquee Amazon Web Services customer plan... http://www.wsj.com/articles/google-cloud-lures-amazon-web-services-customer-spotify-1456270951?mod=rss_Technology&utm_source=twitterfeed&utm_medium=twitter\n",
      "\n",
      "\n",
      "AWS Mobile Hub curates a collection of services for developers https://www.google.com/url?rct=j&sa=t&url=http://searchaws.techtarget.com/news/4500273052/AWS-Mobile-Hub-curates-a-collection-of-services-for-developers&ct=ga&cd=CAIyHDQyYTNmNmY3MmIwY2RhMzA6Y28udWs6ZW46R0I&usg=AFQjCNFvdRSz5Ko_HYdfjf3n5a9IviWC8w#MobileApps%23GoDigitalCoup\n",
      "\n",
      "\n",
      "RT @awscloud: .@Werner gives 10 lessons from 10 years of #AWS. http://www.allthingsdistributed.com/2016/03/10-lessons-from-10-years-of-aws.html?adbsc=social_blogs_20160311_59232086&adbid=708316760114487296&adbpl=tw&adbpr=66780587 #CloudComputing http://twitter.com/awscloud/status/708316760114487296/photo/1\n",
      "\n",
      "\n",
      "RT @Runscope: From Monolith to Microservices Part 1: AWS Lambda &amp; API Gateway by @tombray https://medium.com/@tombray/from-monolith-to-microservices-part-1-aws-lambda-and-api-gateway-8ce5cf3f0d99#.ova7ge3h0\n",
      "\n",
      "\n",
      "RT @awscloud: EMR release 4.3.0 offers upgraded versions of Hadoop Spark Ganglia &amp; Presto: http://docs.aws.amazon.com/ElasticMapReduce/latest/ReleaseGuide/emr-release-components.html?adbsc=docs_20160212_57953606&adbid=698293262361071617&adbpl=tw&adbpr=66780587 http://twitter.com/awscloud/status/698293262361071617/photo/1\n",
      "\n",
      "\n",
      ".@QuantumCorp Q-Cloud Protect #dataprotection available in #AWS http://www.enterprisemanagement.com/research/asset.php/3180/Quantum-Q-Cloud-Protect-Now-Available-in-AWS-Marketplace  new research @ema_research @jmilleremav cvfgbhnjjk\n",
      "\n",
      "\n",
      "#python awscli 1.10.10: Universal Command Line Environment for AWS. https://pypi.python.org/pypi/awscli/1.10.10?utm_source=dlvr.it&utm_medium=https://pypi.python.org/pypi?%253Aaction%3Drss\n",
      "\n",
      "\n",
      "VERY interesting move: Amazon launched a free AAA game engine called Amazon Lumberyard with @Oculus &amp; AWS built in http://gamasutra.com/view/news/265425/Amazon_launches_new_free_highquality_game_engine_Lumberyard.php\n",
      "\n",
      "\n",
      "Thank You Splunk  Were Happy to be Your Alliance Partner: The AWS Partner Network (APN) helps our partners t... https://aws.amazon.com/blogs/aws/thank-you-splunk-were-happy-to-be-your-alliance-partner/?utm_source=twitterfeed&utm_medium=twitter&utm_campaign=Feed:%20AmazonWebServicesBlog%20(Amazon%20Web%20Services%20Blog)\n",
      "\n",
      "\n",
      "Why AWS dominates the cloud services market http://linkis.com/thenextweb.com/offer/xrJeW\n",
      "\n",
      "\n",
      "Healthdirect Australia Secures AWS Cloud Environment with Continuous Network Monitoring from Tenable Network Security\n",
      "\n",
      "\n",
      "RT @jeffbarr: Updated White Paper: Big Data Analytics Options on #AWS - http://blogs.aws.amazon.com/bigdata/post/Tx2XAKHXB8GJKLT/Big-Data-Analytics-Options-on-AWS-Updated-White-Paper #BigData http://twitter.com/jeffbarr/status/698274347421605888/photo/1\n",
      "\n",
      "\n",
      "RT @jeffbarr: New - Slack Integration Blueprints for #AWS Lambda - Build your own bots and do #ChatOps https://aws.amazon.com/blogs/aws/new-slack-integration-blueprints-for-aws-lambda/ https://t.co\n",
      "\n",
      "\n",
      "Cloud Engineer Telecoms AWS Remote #St.Louis #Missouri #jobs #job #hiring #workfromhome http://www.hea-employment.com/jobs/display-job/670422/Cloud-Engineer-Telecoms-AWS-Remote.html?utm_source=dlvr.it&utm_medium=twitter http://twitter.com/vojobs/status/708708234257825792/photo/1\n",
      "\n",
      "\n",
      "RT @oddtazz: Get your free SSL certs for AWS. https://aws.amazon.com/blogs/aws/new-aws-certificate-manager-deploy-ssltls-based-apps-on-aws/\n",
      "\n",
      "\n",
      "RT @jobfindlyphpdev: Senior Software Engineer Php Or Python Aws Javascript Jobs in Los Angeles CA #LosAngeles #CA #jobs #jobsearch https:/\n",
      "\n",
      "\n",
      "RT @mariocasciaro: A blog built on AWS Lambda using GraphQL. This is getting interesting  https://github.com/serverless/serverless-graphql-blog?utm_content=buffer04ed6&utm_medium=social&utm_source=twitter.com&utm_campaign=buffer http://twitter.com/mariocasciaro/status/694620560274411521/photo/1\n",
      "\n",
      "\n",
      "Serverless IoT with Particle and Amazon Web Services http://mlapida.com/thoughts/serverless-iot-with-particle-and-aws?utm_content=buffer76ff0&utm_medium=social&utm_source=twitter.com&utm_campaign=buffer\n",
      "\n",
      "\n",
      "JOB  #hiring #ITJob #Job #Austin - DevOps Developer - 100K C++ Java PHP Jenkins AWS http://www.itjobpro.com/en/search/jobhighlights.aspx?JobID=0b3e8fc7-aa86-42fb-8600-de27bf5f56b1&origin=rss&provider=j&utm_source=dlvr.it&utm_medium=twitter  view details #jobs\n",
      "\n",
      "\n",
      "Job Available: AWS Operations engineer in Sunnyvale CA http://bull.hn/l/2PF94/41 #job\n",
      "\n",
      "\n",
      "RT @tableau: Visit the@AWSCloudANZbooth at #data16 to be entered into a drawing for an Amazon Echo &amp; receive AWS credits to try Tableau S\n",
      "\n",
      "\n",
      "RT @awscloud: Now create repository triggers for AWS Lambda &amp; Amazon SNS in AWS CodeCommit. https://aws.amazon.com/about-aws/whats-new/2016/03/aws-codecommit-adds-repository-triggers/?sc_channel=sm&sc_campaign=launches_2016&sc_publisher=tw_go&sc_content=new_repository_triggers&sc_country=global&sc_geo=global&sc_category=codecommit&adbsc=social_launches_20160307_59070776&adbid=706970266446901248&adbpl=tw&adbpr=66780587 http://twitter.com/awscloud/status/706970266446901248/photo/1\n",
      "\n",
      "\n",
      "Can Google compete with AWS and #Azure in the #cloud marketplace? http://marketrealist.com/2016/02/can-google-compete-amazon-microsoft-cloud-market/\n",
      "\n",
      "\n",
      "Interesting Dropbox built their own platform and moved off of AWS  and did it pretty seamlessly it appears. http://www.wired.com/2016/03/epic-story-dropboxs-exodus-amazon-cloud-empire\n",
      "\n",
      "\n"
     ]
    }
   ],
   "source": [
    "for d in random.sample(data_dict, 100):\n",
    "    print(d[' text'], end='\\n\\n\\n')"
   ]
  },
  {
   "cell_type": "markdown",
   "id": "e9cd90d4-ddb3-4049-9089-a162f62ad330",
   "metadata": {},
   "source": [
    "### Reason\n",
    "\n",
    "Tweets with commercial tematics in IT services (seen 3 times for 100 examples).\n",
    "\n",
    "Links are full with http, https.\n",
    "\n",
    "Let's extract links"
   ]
  },
  {
   "cell_type": "code",
   "execution_count": 108,
   "id": "ca1b0e35-0176-42df-ad43-ab7cc4a97ace",
   "metadata": {},
   "outputs": [
    {
     "name": "stderr",
     "output_type": "stream",
     "text": [
      "86192it [00:01, 53956.49it/s]\n"
     ]
    }
   ],
   "source": [
    "for i,d in tqdm(enumerate(data_dict)):\n",
    "    text = d[' text']\n",
    "    links = re.findall(r'(http.*?)(?:\\s|$)', text)\n",
    "    d['links'] = links\n",
    "    text = re.sub(r'(http.*?)(?:\\s|$)', ' ', text)\n",
    "    htags = re.findall(r'(#.*?)(?:\\s|$)', text)\n",
    "    d['htags'] = htags\n",
    "    text = re.sub(r'(#.*?)(?:\\s|$)', ' ', text)\n",
    "    text = text.replace('&amp;', ' ')\n",
    "    text = text.replace('&nbsp;', ' ')\n",
    "    text = re.sub(' +', ' ', text).strip()\n",
    "    d['clean_text'] = text\n",
    "    "
   ]
  },
  {
   "cell_type": "code",
   "execution_count": 112,
   "id": "6f3e534d-9206-4a65-8c71-6ec3e2f6bd41",
   "metadata": {
    "scrolled": true
   },
   "outputs": [
    {
     "name": "stdout",
     "output_type": "stream",
     "text": [
      "We are hiring: AWS - Software Development Engineer - Visual Studio Plugin AW @awscloud\n",
      "\n",
      "\n",
      "@Nicholas_Hurt @siebel_ess Oracle's Public cloud story is interesting - they're building it top-down from SaaS vs AWS's bottom-up from IaaS\n",
      "\n",
      "\n",
      "RT @ForbesTech: From AWS to OpenStack Ubuntu is most preferred OS by system administrators and DevOps professionals:\n",
      "\n",
      "\n",
      "AWS Scheduled Reserved Instances\n",
      "\n",
      "\n",
      "RT @awscloud: Register for our FS Cloud Symposium in NY learn how AWS is helping drive innovation!\n",
      "\n",
      "\n",
      "RT @CristieSoftware: Move copies of your machine to Azure SoftLayer AWS and more with\n",
      "\n",
      "\n",
      "RT @JoVeSi: As new Partner @comcastbusiness will provide ethernet @awscloud connectivity\n",
      "\n",
      "\n",
      "EC2 Price Reductions.\n",
      "\n",
      "\n",
      "AWS CWI Technicians - Tech Usa: RESPONSIBILITIES: AWS CWI technicians with UT and PT certifications needed for\n",
      "\n",
      "\n",
      "awscloud: Don't miss our 3/9 session: Migrating Mobile Apps from Parse to AWS at the NY Loft.\n",
      "\n",
      "\n",
      "Google Cloud Platform signs up enterprise giants how does it compare to AWS?\n",
      "\n",
      "\n",
      "AWS Informational message: Elevated API faults and latencies in US-WEST-1 -\n",
      "\n",
      "\n",
      "RT @ParseIt: Join the AWS webinar if you want to learn more about migrating to their stack using Parse Server\n",
      "\n",
      "\n",
      "Attending RSA in San Francisco? Visit the AWS Pop-up Loft for Security Talks!\n",
      "\n",
      "\n",
      "@niczak You can use those 2D ones as well as 3D AWS architecture blocks at for free\n",
      "\n",
      "\n",
      "Spotify spurns AWS in cloudy tango with Google by @kellyfiveash\n",
      "\n",
      "\n",
      "These 10 milestones have made Amazon Web Services huge -  @awscloud\n",
      "\n",
      "\n",
      "Problems with OpenVPN / Strongswan tunnel to AWS VPC: I've set up an OpenVPN/Strongswan tunnel to my ...\n",
      "\n",
      "\n",
      "RT @prestonjbyrne: Run ErisDB @BigchainDB @IPFSbot @openbazaar and with Eris on AWS. Today. @eris_ltd\n",
      "\n",
      "\n",
      "RT @golangweekly: Apex: Serverless Architecture with AWS Lambda -\n",
      "\n",
      "\n",
      "Check out this AWS at Amazon in\n",
      "\n",
      "\n",
      "RT @cktricky: I posted the slides for my AWS Security-Centric talk from last night at the AWS Loft (for those that asked) -\n",
      "\n",
      "\n",
      "Software Development Engineer AWS Apps: CA-San Francisco Job Description Are you excited ...\n",
      "\n",
      "\n",
      "AWS turns 10: A dominant market share but does that tell the full story? - Cloud Tech\n",
      "\n",
      "\n",
      "Software Development Engineer Aws Codecommit Jobs in Seattle WA\n",
      "\n",
      "\n",
      "awscloud: EMR release 4.3.0 offers upgraded versions of Hadoop Spark Ganglia Presto:\n",
      "\n",
      "\n",
      "RT @AWS_Gov: Attend introductory sessions on new and existing AWS services at the Join us\n",
      "\n",
      "\n",
      "Amazon makes it easier to encrypt sites and services on AWS with free SSL certificates | ZDNet\n",
      "\n",
      "\n",
      "What has + + + + + + + and more culminating in and it's happening July in\n",
      "\n",
      "\n",
      "Reduce daily 9-to-5 costs with CMM  a tool to switch instances On/Off against a timed daily schedule\n",
      "\n",
      "\n",
      "RT @alexrkonrad: Spotify moving onto Google Cloud is a major early win for Diane Greene's team over Amazon Web Services and Microsoft\n",
      "\n",
      "\n",
      "Amazon to go head to head with Microsoft in Canada\n",
      "\n",
      "\n",
      "RT @codeship: Weve designed @goserverless to interpret AWS from Lambdas perspective. - @austencollins\n",
      "\n",
      "\n",
      "awscloud: .Gilt moves from on-premise datacenters to by migrating 1K+ JVMs. Full story:\n",
      "\n",
      "\n",
      "Best NYC Event Today: 'Building An Automated Security Fabric' by @awscloud -\n",
      "\n",
      "\n",
      "Any savvy engineers looking for contract: Kicking off an exciting Google-funded project at The Telegraph\n",
      "\n",
      "\n",
      "Patiently waiting for to support :)\n",
      "\n",
      "\n",
      "@Seraf42 unfortunately we aren't yet :( AWS said they'll launch an easy way to autoscale. But if we need it before then we'd use lambda.\n",
      "\n",
      "\n",
      "Looking to make a career change We got connections.\n",
      "\n",
      "\n",
      "RT @awscloud: Join tomorrow's webinar learn to automate app tests with Appium AWS Device Farm!\n",
      "\n",
      "\n",
      "RT @awscloud: The 2016 APN Program Guide is now available on the APN Portal. Don't miss it Partners!\n",
      "\n",
      "\n",
      "RT @StanfordRyan: Next week Ill be speaking at the AWS Loft San Francisco about our experiences scaling DynamoDB. Register here:\n",
      "\n",
      "\n",
      "baneko74: RT WeeklyDocker: Turn into VPN Customer Gateway with   by pahudnet\n",
      "\n",
      "\n",
      "RT @awscloud: Get started with and Build a Location-Aware Recommendation Engine.\n",
      "\n",
      "\n",
      "RT @bernardgolden: RT @cloudpundit: How Long Can AWS Keep Climbing Its Steep Growth Curve? via @TheNextPlatform &lt; i\n",
      "\n",
      "\n",
      "RT @AWSstartups: Please register and attend an AWS Zombie Microservices Workshop before it's too late!\n",
      "\n",
      "\n",
      "RT @awscloud: Did you hear? We announced today!\n",
      "\n",
      "\n",
      "\"New AWS Enterprise Accelerator  Standardized Architecture for NIST 800-53 on the AWS Cloud | AWS Official Blog\n",
      "\n",
      "\n",
      "awscloud: New to AWS? Start learning for free with AWS intro videos labs.\n",
      "\n",
      "\n",
      "awscloud: Get started analyzing with Amazon EMR a platform to simplify running frameworks:\n",
      "\n",
      "\n",
      "RT @NimbleDave: Lumberyard does lock you into AWS:\n",
      "\n",
      "\n",
      "Completely Free WordPress AWS backup plugin looking for contributors\n",
      "\n",
      "\n",
      "I just realized @danilop published AWS Lambda in Action book! Read chapter 1 for free and buy the book ;)\n",
      "\n",
      "\n",
      "RT @hackernewsbot: Introducing Apex  Serverless Architecture with AWS Lambda...\n",
      "\n",
      "\n",
      "RT @theWHIR: Bsquares Software Stack Helps Developers Link Devices to the AWS\n",
      "\n",
      "\n",
      "Developer Preview of AWS SDK for C++ is Now Available\n",
      "\n",
      "\n",
      "Ericsson working with AWS to make carriers more agile -\n",
      "\n",
      "\n",
      "RT @awscloud: Now configure Auto Scaling to operate on a schedule using the AWS management console.\n",
      "\n",
      "\n",
      "RT @awscloud: Our Amazon Wind Farm Fowler Ridge is now live producing electricity!\n",
      "\n",
      "\n",
      "RT @timbray: Major upgrade to the AWS Terms of Service; check out clause 57.10. No really:\n",
      "\n",
      "\n",
      "RT @konklone: Amazon now offering free HTTPS certificates to its AWS customers: Along with @letsencrypt we are in\n",
      "\n",
      "\n",
      "AWS SAINT LOUIS SECTION FRONIUS FEBRUARY EVENT 2016\n",
      "\n",
      "\n",
      "compare tool for cloud\n",
      "\n",
      "\n",
      "RT @YannRobert: Significant portion of the internet runs on which console is (not) secured by TLS 1.0\n",
      "\n",
      "\n",
      "and Google stop in its tracks.\n",
      "\n",
      "\n",
      "\"RT @cloudbook: Amazon Web Services Takes Aim at Big Banks -- 2nd Update\n",
      "\n",
      "\n",
      "RT @jeffbarr: Lumberyard + Amazon GameLift + for Games on -\n",
      "\n",
      "\n",
      "RT @thedavedev: Activate | Alexa Skills Kit for | Join and get $100 AWS Promotional Credit\n",
      "\n",
      "\n",
      "Cloud  Google+ Sign-in Support in AWS Mobile Hub: You can now integrate Google+ Sign-in to pr...\n",
      "\n",
      "\n",
      "AWS: Always Wallet Siphoning.\n",
      "\n",
      "\n",
      "RT @mgsiegler: Only mistake Amazon ever makes is turning an accidental profit some quarters (damn you AWS) then Wall Street has a bar set;\n",
      "\n",
      "\n",
      "Registration Open: Securing Public Cloud Infrastructure on w/ @cloudsa\n",
      "\n",
      "\n",
      "RT @mycroft_ai: How do people feel about AWS IOT? via /r/IOT\n",
      "\n",
      "\n",
      "RT @RianVDM: The new AWS Service Terms include a clause on the zombie apocalypse. For real.\n",
      "\n",
      "\n",
      "RT @awscloud: Learn the advantages of using Aurora for Enterprise DB applications during our\n",
      "\n",
      "\n",
      "Database engine - Software Development Engineer needed in at Amazon. Apply now!\n",
      "\n",
      "\n",
      "What kind of credentials do I supply @laravelphp Forge with for AWS?\n",
      "\n",
      "\n",
      "RT @internetsurfing:  equivalent now in Microsoft called\n",
      "\n",
      "\n",
      "New Job! Openings_Cloud Delivery Manager - AWS Azure in Mountain View CA in Mountain View CA\n",
      "\n",
      "\n",
      "Ten Years Later Amazon Web Services Defies Skeptics: Now 10 years old Amazon Web Services has become a profi...\n",
      "\n",
      "\n",
      "RT @valb00: HowTo: Weave a Hybrid/Multi-Cloud using Software-Defined Storage. Magic starts @ 2:24\n",
      "\n",
      "\n",
      "Using AWS SDK for Java to perform a database migration with Database Migration Service\n",
      "\n",
      "\n",
      "AWS still growing 70% to $2.4B. Impressive.\n",
      "\n",
      "\n",
      "\"AWS Support: Scheduled reserved instances are not supported by EMR (yet).\n",
      "\n",
      "\n",
      "RT @ktmdad14: Looking for expert / in that can help improve an existing\n",
      "\n",
      "\n",
      "RT @awscloud: Register for Data Analytics in Barcelona on 2/24 with @Werner:\n",
      "\n",
      "\n",
      "RT @InTech_WeTrust: Episode 78: Meat Suits and the British Bigfoot w/ @Bacon_Is_King @RickVanover @malhoit\n",
      "\n",
      "\n",
      "New AWS Platform Engineer  Central London - 65000 - 75000 City of London ..\n",
      "\n",
      "\n",
      "Microsoft cuts Azure prices as competition with AWS Google heats up\n",
      "\n",
      "\n",
      "How this Pro rates his maiden voyage of @awscloud for their testing environment. @AeroCom_Inc\n",
      "\n",
      "\n",
      "Event-driven architecture using Scala Docker Amazon Kinesis Firehose and the AWS SDK for Java... via petrabarus\n",
      "\n",
      "\n",
      "RT @slashdot: Pass the AWS certification exams - no programming know-how required $29:\n",
      "\n",
      "\n",
      "is launching its new Database Migration Service today via @SeekingAlpha\n",
      "\n",
      "\n",
      "RT @cloudpundit: AWS Certificate Manager ... a potential game changer? by @IamStan\n",
      "\n",
      "\n",
      "CMS Launches on AWS Marketplace. Read more:\n",
      "\n",
      "\n",
      "Great tips from a pro - billing obscure settings best practices\n",
      "\n",
      "\n",
      "RT @kennu: Trying out Serverless python2.7 AWS Lambda modules. Seems to work quite nicely. Also learned about pip install -t (prefix vs. vi\n",
      "\n",
      "\n",
      "Architectural considerations when deploying @SoftNAS on @awscloud\n",
      "\n",
      "\n",
      "Provisioning AWS CodePipeline with CloudFormation\n",
      "\n",
      "\n",
      "RT @awscloud: New on the AWS blog: Big Data Analytics Options on AWS: Updated White Paper\n",
      "\n",
      "\n"
     ]
    }
   ],
   "source": [
    "for d in random.sample(data_dict, 100):\n",
    "    print(d['clean_text'], end='\\n\\n\\n')"
   ]
  },
  {
   "cell_type": "code",
   "execution_count": 113,
   "id": "183113e1-0500-4068-bf51-3e9234a55a9e",
   "metadata": {},
   "outputs": [],
   "source": [
    "data4 = pd.DataFrame(data_dict)"
   ]
  },
  {
   "cell_type": "code",
   "execution_count": 115,
   "id": "44394e9a-fea6-40ac-b990-7fca7a1e1d69",
   "metadata": {},
   "outputs": [
    {
     "data": {
      "text/html": [
       "<div>\n",
       "<style scoped>\n",
       "    .dataframe tbody tr th:only-of-type {\n",
       "        vertical-align: middle;\n",
       "    }\n",
       "\n",
       "    .dataframe tbody tr th {\n",
       "        vertical-align: top;\n",
       "    }\n",
       "\n",
       "    .dataframe thead th {\n",
       "        text-align: right;\n",
       "    }\n",
       "</style>\n",
       "<table border=\"1\" class=\"dataframe\">\n",
       "  <thead>\n",
       "    <tr style=\"text-align: right;\">\n",
       "      <th></th>\n",
       "      <th>index</th>\n",
       "      <th>TweetID</th>\n",
       "      <th>Weekday</th>\n",
       "      <th>Hour</th>\n",
       "      <th>Day</th>\n",
       "      <th>Lang</th>\n",
       "      <th>IsReshare</th>\n",
       "      <th>Reach</th>\n",
       "      <th>RetweetCount</th>\n",
       "      <th>Likes</th>\n",
       "      <th>Klout</th>\n",
       "      <th>Sentiment</th>\n",
       "      <th>text</th>\n",
       "      <th>LocationID</th>\n",
       "      <th>UserID</th>\n",
       "      <th>IsReshare</th>\n",
       "      <th>log_Reach</th>\n",
       "      <th>links</th>\n",
       "      <th>htags</th>\n",
       "      <th>clean_text</th>\n",
       "    </tr>\n",
       "  </thead>\n",
       "  <tbody>\n",
       "    <tr>\n",
       "      <th>86187</th>\n",
       "      <td>99994</td>\n",
       "      <td>tw-716349383688720385</td>\n",
       "      <td>Saturday</td>\n",
       "      <td>13</td>\n",
       "      <td>2</td>\n",
       "      <td>en</td>\n",
       "      <td>True</td>\n",
       "      <td>415.0</td>\n",
       "      <td>15.0</td>\n",
       "      <td>0.0</td>\n",
       "      <td>44.0</td>\n",
       "      <td>0.0</td>\n",
       "      <td>RT @awscloud: .@Jaspersoft built a #DataWareho...</td>\n",
       "      <td>611.0</td>\n",
       "      <td>tw-3316009302</td>\n",
       "      <td>1</td>\n",
       "      <td>6.030685</td>\n",
       "      <td>[https://aws.amazon.com/solutions/case-studies...</td>\n",
       "      <td>[#DataWarehouse]</td>\n",
       "      <td>RT @awscloud: .@Jaspersoft built a that provid...</td>\n",
       "    </tr>\n",
       "    <tr>\n",
       "      <th>86188</th>\n",
       "      <td>99996</td>\n",
       "      <td>tw-716349615340199937</td>\n",
       "      <td>Saturday</td>\n",
       "      <td>13</td>\n",
       "      <td>2</td>\n",
       "      <td>en</td>\n",
       "      <td>False</td>\n",
       "      <td>763.0</td>\n",
       "      <td>0.0</td>\n",
       "      <td>0.0</td>\n",
       "      <td>29.0</td>\n",
       "      <td>0.0</td>\n",
       "      <td>I added a video to a @YouTube playlist https:/...</td>\n",
       "      <td>1332.0</td>\n",
       "      <td>tw-1143330170</td>\n",
       "      <td>0</td>\n",
       "      <td>6.638568</td>\n",
       "      <td>[https://www.youtube.com/watch?v=YPf7wSEq9d0&amp;f...</td>\n",
       "      <td>[]</td>\n",
       "      <td>I added a video to a @YouTube playlist Module ...</td>\n",
       "    </tr>\n",
       "    <tr>\n",
       "      <th>86189</th>\n",
       "      <td>99997</td>\n",
       "      <td>tw-716351557516722176</td>\n",
       "      <td>Saturday</td>\n",
       "      <td>13</td>\n",
       "      <td>2</td>\n",
       "      <td>en</td>\n",
       "      <td>True</td>\n",
       "      <td>122.0</td>\n",
       "      <td>435.0</td>\n",
       "      <td>0.0</td>\n",
       "      <td>17.0</td>\n",
       "      <td>1.0</td>\n",
       "      <td>RT @awscloud: Test your iOS Android &amp;amp; web ...</td>\n",
       "      <td>1336.0</td>\n",
       "      <td>tw-139346924</td>\n",
       "      <td>1</td>\n",
       "      <td>4.812184</td>\n",
       "      <td>[https://cards.twitter.com/cards/13rc8b/1ihbc]</td>\n",
       "      <td>[]</td>\n",
       "      <td>RT @awscloud: Test your iOS Android web apps a...</td>\n",
       "    </tr>\n",
       "    <tr>\n",
       "      <th>86190</th>\n",
       "      <td>99998</td>\n",
       "      <td>tw-716352501860196352</td>\n",
       "      <td>Saturday</td>\n",
       "      <td>13</td>\n",
       "      <td>2</td>\n",
       "      <td>en</td>\n",
       "      <td>True</td>\n",
       "      <td>287.0</td>\n",
       "      <td>30.0</td>\n",
       "      <td>0.0</td>\n",
       "      <td>42.0</td>\n",
       "      <td>0.0</td>\n",
       "      <td>RT @goserverless: Serverless Offline: Emulate ...</td>\n",
       "      <td>3795.0</td>\n",
       "      <td>tw-21826302</td>\n",
       "      <td>1</td>\n",
       "      <td>5.662960</td>\n",
       "      <td>[https://t.co/CcXASlhQq]</td>\n",
       "      <td>[]</td>\n",
       "      <td>RT @goserverless: Serverless Offline: Emulate ...</td>\n",
       "    </tr>\n",
       "    <tr>\n",
       "      <th>86191</th>\n",
       "      <td>99999</td>\n",
       "      <td>tw-716352771209887744</td>\n",
       "      <td>Saturday</td>\n",
       "      <td>13</td>\n",
       "      <td>2</td>\n",
       "      <td>en</td>\n",
       "      <td>False</td>\n",
       "      <td>2422.0</td>\n",
       "      <td>1.0</td>\n",
       "      <td>0.0</td>\n",
       "      <td>34.0</td>\n",
       "      <td>3.0</td>\n",
       "      <td>Great turn out for the AWS Plant Sale and the ...</td>\n",
       "      <td>4007.0</td>\n",
       "      <td>tw-2286856224</td>\n",
       "      <td>0</td>\n",
       "      <td>7.792762</td>\n",
       "      <td>[]</td>\n",
       "      <td>[]</td>\n",
       "      <td>Great turn out for the AWS Plant Sale and the ...</td>\n",
       "    </tr>\n",
       "  </tbody>\n",
       "</table>\n",
       "</div>"
      ],
      "text/plain": [
       "       index                TweetID   Weekday  Hour  Day  Lang   IsReshare  \\\n",
       "86187  99994  tw-716349383688720385  Saturday    13    2    en        True   \n",
       "86188  99996  tw-716349615340199937  Saturday    13    2    en       False   \n",
       "86189  99997  tw-716351557516722176  Saturday    13    2    en        True   \n",
       "86190  99998  tw-716352501860196352  Saturday    13    2    en        True   \n",
       "86191  99999  tw-716352771209887744  Saturday    13    2    en       False   \n",
       "\n",
       "        Reach   RetweetCount   Likes   Klout   Sentiment  \\\n",
       "86187   415.0           15.0     0.0    44.0         0.0   \n",
       "86188   763.0            0.0     0.0    29.0         0.0   \n",
       "86189   122.0          435.0     0.0    17.0         1.0   \n",
       "86190   287.0           30.0     0.0    42.0         0.0   \n",
       "86191  2422.0            1.0     0.0    34.0         3.0   \n",
       "\n",
       "                                                    text   LocationID  \\\n",
       "86187  RT @awscloud: .@Jaspersoft built a #DataWareho...        611.0   \n",
       "86188  I added a video to a @YouTube playlist https:/...       1332.0   \n",
       "86189  RT @awscloud: Test your iOS Android &amp; web ...       1336.0   \n",
       "86190  RT @goserverless: Serverless Offline: Emulate ...       3795.0   \n",
       "86191  Great turn out for the AWS Plant Sale and the ...       4007.0   \n",
       "\n",
       "              UserID  IsReshare  log_Reach  \\\n",
       "86187  tw-3316009302          1   6.030685   \n",
       "86188  tw-1143330170          0   6.638568   \n",
       "86189   tw-139346924          1   4.812184   \n",
       "86190    tw-21826302          1   5.662960   \n",
       "86191  tw-2286856224          0   7.792762   \n",
       "\n",
       "                                                   links             htags  \\\n",
       "86187  [https://aws.amazon.com/solutions/case-studies...  [#DataWarehouse]   \n",
       "86188  [https://www.youtube.com/watch?v=YPf7wSEq9d0&f...                []   \n",
       "86189     [https://cards.twitter.com/cards/13rc8b/1ihbc]                []   \n",
       "86190                           [https://t.co/CcXASlhQq]                []   \n",
       "86191                                                 []                []   \n",
       "\n",
       "                                              clean_text  \n",
       "86187  RT @awscloud: .@Jaspersoft built a that provid...  \n",
       "86188  I added a video to a @YouTube playlist Module ...  \n",
       "86189  RT @awscloud: Test your iOS Android web apps a...  \n",
       "86190  RT @goserverless: Serverless Offline: Emulate ...  \n",
       "86191  Great turn out for the AWS Plant Sale and the ...  "
      ]
     },
     "execution_count": 115,
     "metadata": {},
     "output_type": "execute_result"
    }
   ],
   "source": [
    "data4.tail()"
   ]
  },
  {
   "cell_type": "code",
   "execution_count": 116,
   "id": "bd92d329-53ff-49ca-8105-452535501935",
   "metadata": {},
   "outputs": [],
   "source": [
    "data4['cnt_links'] = data4['links'].apply(len)"
   ]
  },
  {
   "cell_type": "code",
   "execution_count": 117,
   "id": "511462a9-0c74-461f-9ca7-fe6d8333c052",
   "metadata": {},
   "outputs": [],
   "source": [
    "data4['cnt_htags'] = data4['htags'].apply(len)"
   ]
  },
  {
   "cell_type": "code",
   "execution_count": 118,
   "id": "2b245441-7f7e-43df-81f3-3a82fe641b1b",
   "metadata": {},
   "outputs": [],
   "source": [
    "data4['uniq_htags'] = data4['htags'].apply(lambda x: len(set(x)))"
   ]
  },
  {
   "cell_type": "code",
   "execution_count": 119,
   "id": "6c4e753c-6ac4-49d5-ab75-ec99c62820e8",
   "metadata": {},
   "outputs": [],
   "source": [
    "data4['len_text'] = data4['clean_text'].apply(len)"
   ]
  },
  {
   "cell_type": "code",
   "execution_count": 120,
   "id": "e169f657-6a24-48cf-beb4-dca4bbb42ca3",
   "metadata": {},
   "outputs": [
    {
     "data": {
      "text/plain": [
       "<Axes: >"
      ]
     },
     "execution_count": 120,
     "metadata": {},
     "output_type": "execute_result"
    },
    {
     "data": {
      "image/png": "[encoded data removed]",
      "text/plain": [
       "<Figure size 640x480 with 1 Axes>"
      ]
     },
     "metadata": {},
     "output_type": "display_data"
    }
   ],
   "source": [
    "data4['len_text'].hist(bins=100)"
   ]
  },
  {
   "cell_type": "code",
   "execution_count": 121,
   "id": "b053c4d0-9c77-4d47-a67d-4943d647bda8",
   "metadata": {},
   "outputs": [
    {
     "data": {
      "text/plain": [
       "<Axes: >"
      ]
     },
     "execution_count": 121,
     "metadata": {},
     "output_type": "execute_result"
    },
    {
     "data": {
      "image/png": "[encoded data removed]",
      "text/plain": [
       "<Figure size 640x480 with 1 Axes>"
      ]
     },
     "metadata": {},
     "output_type": "display_data"
    }
   ],
   "source": [
    "data4['uniq_htags'].hist(bins=10)"
   ]
  },
  {
   "cell_type": "code",
   "execution_count": 122,
   "id": "eb47948c-bb62-44df-a543-3883922aba40",
   "metadata": {},
   "outputs": [
    {
     "data": {
      "text/plain": [
       "<Axes: >"
      ]
     },
     "execution_count": 122,
     "metadata": {},
     "output_type": "execute_result"
    },
    {
     "data": {
      "image/png": "[encoded data removed]",
      "text/plain": [
       "<Figure size 640x480 with 1 Axes>"
      ]
     },
     "metadata": {},
     "output_type": "display_data"
    }
   ],
   "source": [
    "data4['cnt_htags'].hist(bins=20)"
   ]
  },
  {
   "cell_type": "code",
   "execution_count": 123,
   "id": "31b404f5-ee0d-4f74-8503-0ab902674a2a",
   "metadata": {},
   "outputs": [
    {
     "data": {
      "text/plain": [
       "<Axes: >"
      ]
     },
     "execution_count": 123,
     "metadata": {},
     "output_type": "execute_result"
    },
    {
     "data": {
      "image/png": "[encoded data removed]",
      "text/plain": [
       "<Figure size 640x480 with 1 Axes>"
      ]
     },
     "metadata": {},
     "output_type": "display_data"
    }
   ],
   "source": [
    "data4['cnt_links'].hist(bins=20)"
   ]
  },
  {
   "cell_type": "code",
   "execution_count": 124,
   "id": "0afe4ed2-c175-4532-98a2-d3802df8a460",
   "metadata": {},
   "outputs": [
    {
     "data": {
      "text/plain": [
       "index              int64\n",
       "TweetID           object\n",
       " Weekday          object\n",
       " Hour             object\n",
       " Day              object\n",
       " Lang             object\n",
       " IsReshare          bool\n",
       " Reach           float64\n",
       " RetweetCount    float64\n",
       " Likes           float64\n",
       " Klout           float64\n",
       " Sentiment       float64\n",
       " text             object\n",
       " LocationID      float64\n",
       " UserID           object\n",
       "IsReshare          int64\n",
       "log_Reach        float64\n",
       "links             object\n",
       "htags             object\n",
       "clean_text        object\n",
       "cnt_links          int64\n",
       "cnt_htags          int64\n",
       "uniq_htags         int64\n",
       "len_text           int64\n",
       "dtype: object"
      ]
     },
     "execution_count": 124,
     "metadata": {},
     "output_type": "execute_result"
    }
   ],
   "source": [
    "data4.dtypes"
   ]
  },
  {
   "cell_type": "code",
   "execution_count": 125,
   "id": "fc6672a1-6348-42b0-89b8-0587b453a337",
   "metadata": {},
   "outputs": [
    {
     "data": {
      "text/plain": [
       " Weekday\n",
       "Tuesday      16147\n",
       "Wednesday    15877\n",
       "Thursday     15757\n",
       "Monday       13141\n",
       "Friday       12850\n",
       "Saturday      6402\n",
       "Sunday        6018\n",
       "Name: count, dtype: int64"
      ]
     },
     "execution_count": 125,
     "metadata": {},
     "output_type": "execute_result"
    }
   ],
   "source": [
    "data4[' Weekday'].value_counts()"
   ]
  },
  {
   "cell_type": "markdown",
   "id": "7cae3ac7-ba88-4470-bb5e-8ce36a045877",
   "metadata": {},
   "source": [
    "### Reason\n",
    "\n",
    "all work-days have similar quantity of tweets. is about 15k.\n",
    "\n",
    "weekend is about 6k - 3 times lower.\n",
    "\n",
    "lets compare tweet reach on days"
   ]
  },
  {
   "cell_type": "code",
   "execution_count": 144,
   "id": "7852a7be-edf2-48cf-a03b-f6ec730a3223",
   "metadata": {},
   "outputs": [],
   "source": [
    "def calc_confidence_interval(s: pd.Series):\n",
    "    std = s.std()\n",
    "    m = s.mean()\n",
    "    n = len(s)\n",
    "    k = 2\n",
    "    \n",
    "    d = k*std/np.sqrt(n)\n",
    "    \n",
    "    return (int(m - d), int(m), int(m + d))\n"
   ]
  },
  {
   "cell_type": "code",
   "execution_count": 128,
   "id": "d1d616b7-d882-4b0c-bddd-86e14a1d06f6",
   "metadata": {},
   "outputs": [
    {
     "data": {
      "text/plain": [
       "count    13141.000000\n",
       "mean      1245.664029\n",
       "std       2182.144240\n",
       "min          7.000000\n",
       "25%        155.000000\n",
       "50%        414.000000\n",
       "75%       1262.000000\n",
       "max      14999.000000\n",
       "Name:  Reach, dtype: float64"
      ]
     },
     "execution_count": 128,
     "metadata": {},
     "output_type": "execute_result"
    }
   ],
   "source": [
    "data4[data4[' Weekday'] == 'Monday'][' Reach'].describe()"
   ]
  },
  {
   "cell_type": "code",
   "execution_count": 129,
   "id": "a7921803-9547-469b-8321-1556e3e60cc0",
   "metadata": {},
   "outputs": [
    {
     "data": {
      "text/plain": [
       "count    16147.000000\n",
       "mean      1190.985013\n",
       "std       2107.781625\n",
       "min          7.000000\n",
       "25%        140.000000\n",
       "50%        403.000000\n",
       "75%       1207.500000\n",
       "max      14982.000000\n",
       "Name:  Reach, dtype: float64"
      ]
     },
     "execution_count": 129,
     "metadata": {},
     "output_type": "execute_result"
    }
   ],
   "source": [
    "data4[data4[' Weekday'] == 'Tuesday'][' Reach'].describe()"
   ]
  },
  {
   "cell_type": "code",
   "execution_count": 156,
   "id": "3576b8da-1741-4820-9f84-fd8bf8b9b85c",
   "metadata": {},
   "outputs": [],
   "source": [
    "days = ['Monday', 'Tuesday', 'Wednesday', 'Thursday', 'Friday', 'Saturday' , 'Saturday']"
   ]
  },
  {
   "cell_type": "code",
   "execution_count": 157,
   "id": "08f548d4-b4ea-4748-a52a-752b8e75220a",
   "metadata": {},
   "outputs": [
    {
     "name": "stdout",
     "output_type": "stream",
     "text": [
      "Monday (1207, 1245, 1283)\n",
      "Tuesday (1157, 1190, 1224)\n",
      "Wednesday (1155, 1188, 1222)\n",
      "Thursday (1187, 1221, 1254)\n",
      "Friday (1187, 1225, 1262)\n",
      "Saturday (1103, 1151, 1199)\n",
      "Saturday (1103, 1151, 1199)\n"
     ]
    }
   ],
   "source": [
    "for dd in days:\n",
    "    print(dd, calc_confidence_interval(data4[data4[' Weekday'] == dd][' Reach']))"
   ]
  },
  {
   "cell_type": "markdown",
   "id": "2a50309d-0e45-4c76-82d9-40fccf701154",
   "metadata": {},
   "source": [
    "### Reason\n",
    "\n",
    "- weekend has lower Reach values then workdays. It's statistically significant.\n",
    "- Tuesday, Wednesday gives less reach then others weekdays\n",
    "- Monday, Thursday, Friday - are equal by reach and best for posting\n",
    "\n",
    "Let's take for further analysis Monday, Thursday, Thursday, Friday\n",
    "\n",
    "\n",
    "\n"
   ]
  },
  {
   "cell_type": "code",
   "execution_count": 151,
   "id": "b5d7bcb9-8924-4072-ad88-f5abbc074463",
   "metadata": {},
   "outputs": [],
   "source": [
    "data4[' Hour'] = data4[' Hour'].astype(int)\n",
    "data4[' Day'] = data4[' Hour'].astype(int)"
   ]
  },
  {
   "cell_type": "code",
   "execution_count": 158,
   "id": "ea8b9f25-aa39-4ee2-9758-0bd92afbde50",
   "metadata": {},
   "outputs": [],
   "source": [
    "data5 = data4[data4[' Weekday'].apply(lambda x: x in ['Monday', 'Thursday', 'Friday'])]"
   ]
  },
  {
   "cell_type": "code",
   "execution_count": 159,
   "id": "8df6b963-cfaf-46f2-88e8-f1cc667e2dda",
   "metadata": {},
   "outputs": [
    {
     "data": {
      "text/plain": [
       "(86192, 41748)"
      ]
     },
     "execution_count": 159,
     "metadata": {},
     "output_type": "execute_result"
    }
   ],
   "source": [
    "len(data4), len(data5)"
   ]
  },
  {
   "cell_type": "code",
   "execution_count": 166,
   "id": "b318238a-dfdf-4c38-bae9-daf6566eafd9",
   "metadata": {},
   "outputs": [
    {
     "data": {
      "text/plain": [
       "[0,\n",
       " 1,\n",
       " 2,\n",
       " 3,\n",
       " 4,\n",
       " 5,\n",
       " 6,\n",
       " 7,\n",
       " 8,\n",
       " 9,\n",
       " 10,\n",
       " 11,\n",
       " 12,\n",
       " 13,\n",
       " 14,\n",
       " 15,\n",
       " 16,\n",
       " 17,\n",
       " 18,\n",
       " 19,\n",
       " 20,\n",
       " 21,\n",
       " 22,\n",
       " 23]"
      ]
     },
     "execution_count": 166,
     "metadata": {},
     "output_type": "execute_result"
    }
   ],
   "source": [
    "days = sorted(set(data4[' Day']))\n",
    "days"
   ]
  },
  {
   "cell_type": "code",
   "execution_count": 162,
   "id": "f54d82c3-5f1b-45fe-84e1-f0903d02a971",
   "metadata": {},
   "outputs": [
    {
     "data": {
      "text/plain": [
       "[0,\n",
       " 1,\n",
       " 2,\n",
       " 3,\n",
       " 4,\n",
       " 5,\n",
       " 6,\n",
       " 7,\n",
       " 8,\n",
       " 9,\n",
       " 10,\n",
       " 11,\n",
       " 12,\n",
       " 13,\n",
       " 14,\n",
       " 15,\n",
       " 16,\n",
       " 17,\n",
       " 18,\n",
       " 19,\n",
       " 20,\n",
       " 21,\n",
       " 22,\n",
       " 23]"
      ]
     },
     "execution_count": 162,
     "metadata": {},
     "output_type": "execute_result"
    }
   ],
   "source": [
    "hours = sorted(set(data4[' Hour']))\n",
    "hours"
   ]
  },
  {
   "cell_type": "code",
   "execution_count": 163,
   "id": "0a6b9466-5c13-405f-9487-8ebe0d96c8e3",
   "metadata": {},
   "outputs": [
    {
     "name": "stdout",
     "output_type": "stream",
     "text": [
      "0 (891, 1004, 1116)\n",
      "1 (951, 1060, 1169)\n",
      "2 (983, 1092, 1202)\n",
      "3 (1011, 1134, 1257)\n",
      "4 (1100, 1221, 1342)\n",
      "5 (1013, 1123, 1232)\n",
      "6 (1181, 1288, 1394)\n",
      "7 (1115, 1212, 1308)\n",
      "8 (1146, 1237, 1329)\n",
      "9 (1226, 1316, 1406)\n",
      "10 (1261, 1349, 1436)\n",
      "11 (1272, 1360, 1447)\n",
      "12 (1095, 1176, 1256)\n",
      "13 (1182, 1273, 1365)\n",
      "14 (1224, 1318, 1412)\n",
      "15 (1156, 1245, 1334)\n",
      "16 (1307, 1408, 1508)\n",
      "17 (1168, 1271, 1373)\n",
      "18 (1145, 1252, 1360)\n",
      "19 (1078, 1180, 1282)\n",
      "20 (1085, 1211, 1337)\n",
      "21 (953, 1070, 1186)\n",
      "22 (907, 1022, 1136)\n",
      "23 (828, 950, 1072)\n"
     ]
    }
   ],
   "source": [
    "for h in hours: \n",
    "    print(h, calc_confidence_interval(data5[data5[' Hour'] == h][' Reach']))"
   ]
  },
  {
   "cell_type": "code",
   "execution_count": 169,
   "id": "7dcbdb99-954b-44f8-8650-c390bfbfce2f",
   "metadata": {},
   "outputs": [
    {
     "name": "stdout",
     "output_type": "stream",
     "text": [
      "0 (891, 1004, 1116)\n",
      "1 (951, 1060, 1169)\n",
      "2 (983, 1092, 1202)\n",
      "3 (1011, 1134, 1257)\n",
      "4 (1100, 1221, 1342)\n",
      "5 (1013, 1123, 1232)\n",
      "6 (1181, 1288, 1394)\n",
      "7 (1115, 1212, 1308)\n",
      "8 (1146, 1237, 1329)\n",
      "9 (1226, 1316, 1406)\n",
      "10 (1261, 1349, 1436)\n",
      "11 (1272, 1360, 1447)\n",
      "12 (1095, 1176, 1256)\n",
      "13 (1182, 1273, 1365)\n",
      "14 (1224, 1318, 1412)\n",
      "15 (1156, 1245, 1334)\n",
      "16 (1307, 1408, 1508)\n",
      "17 (1168, 1271, 1373)\n",
      "18 (1145, 1252, 1360)\n",
      "19 (1078, 1180, 1282)\n",
      "20 (1085, 1211, 1337)\n",
      "21 (953, 1070, 1186)\n",
      "22 (907, 1022, 1136)\n",
      "23 (828, 950, 1072)\n"
     ]
    }
   ],
   "source": [
    "for dd in days: \n",
    "    print(dd, calc_confidence_interval(data5[data5[' Day'] == dd][' Reach']))"
   ]
  },
  {
   "cell_type": "markdown",
   "id": "5586f1de-8ebb-4f46-a29a-3a03fda948b0",
   "metadata": {},
   "source": [
    "### Reason \n",
    "\n",
    "best hours for posting\n",
    "- 9, 10, 11, 14, 16\n",
    "\n",
    "best days for posting\n",
    "- 9-16\n",
    "\n",
    "\n"
   ]
  },
  {
   "cell_type": "code",
   "execution_count": 170,
   "id": "b34f6333-631f-4449-b30c-efa53568846c",
   "metadata": {},
   "outputs": [],
   "source": [
    "data6 = data5[(data5[' Hour'].apply(lambda x: x in set([9,10,11,14,16])))]"
   ]
  },
  {
   "cell_type": "code",
   "execution_count": 171,
   "id": "8b6152c0-02d8-4a5f-b4a4-b201c3977b74",
   "metadata": {},
   "outputs": [
    {
     "data": {
      "text/plain": [
       "12355"
      ]
     },
     "execution_count": 171,
     "metadata": {},
     "output_type": "execute_result"
    }
   ],
   "source": [
    "len(data6)"
   ]
  },
  {
   "cell_type": "code",
   "execution_count": 186,
   "id": "06879aec-9131-4a77-aa8c-b8511849887b",
   "metadata": {},
   "outputs": [
    {
     "data": {
      "text/html": [
       "<div>\n",
       "<style scoped>\n",
       "    .dataframe tbody tr th:only-of-type {\n",
       "        vertical-align: middle;\n",
       "    }\n",
       "\n",
       "    .dataframe tbody tr th {\n",
       "        vertical-align: top;\n",
       "    }\n",
       "\n",
       "    .dataframe thead th {\n",
       "        text-align: right;\n",
       "    }\n",
       "</style>\n",
       "<table border=\"1\" class=\"dataframe\">\n",
       "  <thead>\n",
       "    <tr style=\"text-align: right;\">\n",
       "      <th></th>\n",
       "      <th>index</th>\n",
       "      <th>TweetID</th>\n",
       "      <th>Weekday</th>\n",
       "      <th>Hour</th>\n",
       "      <th>Day</th>\n",
       "      <th>Lang</th>\n",
       "      <th>IsReshare</th>\n",
       "      <th>Reach</th>\n",
       "      <th>RetweetCount</th>\n",
       "      <th>Likes</th>\n",
       "      <th>...</th>\n",
       "      <th>UserID</th>\n",
       "      <th>IsReshare</th>\n",
       "      <th>log_Reach</th>\n",
       "      <th>links</th>\n",
       "      <th>htags</th>\n",
       "      <th>clean_text</th>\n",
       "      <th>cnt_links</th>\n",
       "      <th>cnt_htags</th>\n",
       "      <th>uniq_htags</th>\n",
       "      <th>len_text</th>\n",
       "    </tr>\n",
       "  </thead>\n",
       "  <tbody>\n",
       "    <tr>\n",
       "      <th>215</th>\n",
       "      <td>225</td>\n",
       "      <td>tw-682955185229041664</td>\n",
       "      <td>Friday</td>\n",
       "      <td>9</td>\n",
       "      <td>9</td>\n",
       "      <td>en</td>\n",
       "      <td>False</td>\n",
       "      <td>2266.0</td>\n",
       "      <td>1.0</td>\n",
       "      <td>0.0</td>\n",
       "      <td>...</td>\n",
       "      <td>tw-15830587</td>\n",
       "      <td>0</td>\n",
       "      <td>7.726213</td>\n",
       "      <td>[https://github.com/ophirh/publish-aws-lambda]</td>\n",
       "      <td>[#python, #aws]</td>\n",
       "      <td>publish-aws-lambda: Publish a Python module as...</td>\n",
       "      <td>1</td>\n",
       "      <td>2</td>\n",
       "      <td>2</td>\n",
       "      <td>78</td>\n",
       "    </tr>\n",
       "    <tr>\n",
       "      <th>216</th>\n",
       "      <td>226</td>\n",
       "      <td>tw-682955381296001026</td>\n",
       "      <td>Friday</td>\n",
       "      <td>9</td>\n",
       "      <td>9</td>\n",
       "      <td>en</td>\n",
       "      <td>True</td>\n",
       "      <td>1735.0</td>\n",
       "      <td>3.0</td>\n",
       "      <td>0.0</td>\n",
       "      <td>...</td>\n",
       "      <td>tw-2166195704</td>\n",
       "      <td>1</td>\n",
       "      <td>7.459339</td>\n",
       "      <td>[https://deals.cultofmac.com/sales/aws-enginee...</td>\n",
       "      <td>[]</td>\n",
       "      <td>RT @cultofmac: Become a cloud computing master...</td>\n",
       "      <td>2</td>\n",
       "      <td>0</td>\n",
       "      <td>0</td>\n",
       "      <td>101</td>\n",
       "    </tr>\n",
       "    <tr>\n",
       "      <th>217</th>\n",
       "      <td>227</td>\n",
       "      <td>tw-682955783705866240</td>\n",
       "      <td>Friday</td>\n",
       "      <td>9</td>\n",
       "      <td>9</td>\n",
       "      <td>en</td>\n",
       "      <td>True</td>\n",
       "      <td>991.0</td>\n",
       "      <td>7.0</td>\n",
       "      <td>0.0</td>\n",
       "      <td>...</td>\n",
       "      <td>tw-782211433</td>\n",
       "      <td>1</td>\n",
       "      <td>6.899723</td>\n",
       "      <td>[https://deals.cultofmac.com/sales/aws-enginee...</td>\n",
       "      <td>[]</td>\n",
       "      <td>RT @cultofmac: Become a cloud computing master...</td>\n",
       "      <td>2</td>\n",
       "      <td>0</td>\n",
       "      <td>0</td>\n",
       "      <td>101</td>\n",
       "    </tr>\n",
       "    <tr>\n",
       "      <th>218</th>\n",
       "      <td>229</td>\n",
       "      <td>tw-682957200394989568</td>\n",
       "      <td>Friday</td>\n",
       "      <td>9</td>\n",
       "      <td>9</td>\n",
       "      <td>en</td>\n",
       "      <td>False</td>\n",
       "      <td>504.0</td>\n",
       "      <td>0.0</td>\n",
       "      <td>0.0</td>\n",
       "      <td>...</td>\n",
       "      <td>tw-74184469</td>\n",
       "      <td>0</td>\n",
       "      <td>6.224558</td>\n",
       "      <td>[]</td>\n",
       "      <td>[]</td>\n",
       "      <td>@hunterwalk google cloud will start to eat int...</td>\n",
       "      <td>0</td>\n",
       "      <td>0</td>\n",
       "      <td>0</td>\n",
       "      <td>65</td>\n",
       "    </tr>\n",
       "    <tr>\n",
       "      <th>219</th>\n",
       "      <td>230</td>\n",
       "      <td>tw-682957707712819200</td>\n",
       "      <td>Friday</td>\n",
       "      <td>9</td>\n",
       "      <td>9</td>\n",
       "      <td>en</td>\n",
       "      <td>False</td>\n",
       "      <td>1015.0</td>\n",
       "      <td>1.0</td>\n",
       "      <td>0.0</td>\n",
       "      <td>...</td>\n",
       "      <td>tw-1252034581</td>\n",
       "      <td>0</td>\n",
       "      <td>6.923629</td>\n",
       "      <td>[https://www.linkedin.com/pulse/simplification...</td>\n",
       "      <td>[#Technology, #AWS]</td>\n",
       "      <td>Simplification is the Trend for 2016 - @Werner...</td>\n",
       "      <td>2</td>\n",
       "      <td>2</td>\n",
       "      <td>2</td>\n",
       "      <td>71</td>\n",
       "    </tr>\n",
       "  </tbody>\n",
       "</table>\n",
       "<p>5 rows × 24 columns</p>\n",
       "</div>"
      ],
      "text/plain": [
       "     index                TweetID  Weekday   Hour   Day  Lang   IsReshare  \\\n",
       "215    225  tw-682955185229041664   Friday      9     9    en       False   \n",
       "216    226  tw-682955381296001026   Friday      9     9    en        True   \n",
       "217    227  tw-682955783705866240   Friday      9     9    en        True   \n",
       "218    229  tw-682957200394989568   Friday      9     9    en       False   \n",
       "219    230  tw-682957707712819200   Friday      9     9    en       False   \n",
       "\n",
       "      Reach   RetweetCount   Likes  ...         UserID  IsReshare log_Reach  \\\n",
       "215  2266.0            1.0     0.0  ...    tw-15830587          0  7.726213   \n",
       "216  1735.0            3.0     0.0  ...  tw-2166195704          1  7.459339   \n",
       "217   991.0            7.0     0.0  ...   tw-782211433          1  6.899723   \n",
       "218   504.0            0.0     0.0  ...    tw-74184469          0  6.224558   \n",
       "219  1015.0            1.0     0.0  ...  tw-1252034581          0  6.923629   \n",
       "\n",
       "                                                 links                htags  \\\n",
       "215     [https://github.com/ophirh/publish-aws-lambda]      [#python, #aws]   \n",
       "216  [https://deals.cultofmac.com/sales/aws-enginee...                   []   \n",
       "217  [https://deals.cultofmac.com/sales/aws-enginee...                   []   \n",
       "218                                                 []                   []   \n",
       "219  [https://www.linkedin.com/pulse/simplification...  [#Technology, #AWS]   \n",
       "\n",
       "                                            clean_text  cnt_links cnt_htags  \\\n",
       "215  publish-aws-lambda: Publish a Python module as...          1         2   \n",
       "216  RT @cultofmac: Become a cloud computing master...          2         0   \n",
       "217  RT @cultofmac: Become a cloud computing master...          2         0   \n",
       "218  @hunterwalk google cloud will start to eat int...          0         0   \n",
       "219  Simplification is the Trend for 2016 - @Werner...          2         2   \n",
       "\n",
       "    uniq_htags len_text  \n",
       "215          2       78  \n",
       "216          0      101  \n",
       "217          0      101  \n",
       "218          0       65  \n",
       "219          2       71  \n",
       "\n",
       "[5 rows x 24 columns]"
      ]
     },
     "execution_count": 186,
     "metadata": {},
     "output_type": "execute_result"
    }
   ],
   "source": [
    "data6.head()"
   ]
  },
  {
   "cell_type": "code",
   "execution_count": 187,
   "id": "77a553c5-67cf-465d-a3d2-92cef42b1e46",
   "metadata": {},
   "outputs": [
    {
     "data": {
      "text/plain": [
       "index              int64\n",
       "TweetID           object\n",
       " Weekday          object\n",
       " Hour              int64\n",
       " Day               int64\n",
       " Lang             object\n",
       " IsReshare          bool\n",
       " Reach           float64\n",
       " RetweetCount    float64\n",
       " Likes           float64\n",
       " Klout           float64\n",
       " Sentiment       float64\n",
       " text             object\n",
       " LocationID      float64\n",
       " UserID           object\n",
       "IsReshare          int64\n",
       "log_Reach        float64\n",
       "links             object\n",
       "htags             object\n",
       "clean_text        object\n",
       "cnt_links          int64\n",
       "cnt_htags          int64\n",
       "uniq_htags         int64\n",
       "len_text           int64\n",
       "dtype: object"
      ]
     },
     "execution_count": 187,
     "metadata": {},
     "output_type": "execute_result"
    }
   ],
   "source": [
    "data6.dtypes"
   ]
  },
  {
   "cell_type": "code",
   "execution_count": 189,
   "id": "bd0e1331-e102-4f37-be99-edbc4a80924a",
   "metadata": {},
   "outputs": [
    {
     "data": {
      "text/plain": [
       "log_Reach     1.000000\n",
       "cnt_links    -0.047034\n",
       "cnt_htags    -0.007194\n",
       "len_text      0.005116\n",
       " Klout        0.662706\n",
       " Sentiment   -0.010103\n",
       "Name: log_Reach, dtype: float64"
      ]
     },
     "execution_count": 189,
     "metadata": {},
     "output_type": "execute_result"
    }
   ],
   "source": [
    "data6[['log_Reach', 'cnt_links', 'cnt_htags', 'len_text', ' Klout', ' Sentiment']].corr()['log_Reach']"
   ]
  },
  {
   "cell_type": "markdown",
   "id": "af3eb16d-a015-49ea-9e54-36171c7d13d0",
   "metadata": {},
   "source": [
    "### Reason\n",
    "\n",
    "- sentiment, count of links, tags, text length are not correlate with Reach\n",
    "- the only perameter correlate with Ritch is Klout"
   ]
  },
  {
   "cell_type": "code",
   "execution_count": 191,
   "id": "c55986fc-3c5f-4457-9f82-53fa4696303e",
   "metadata": {},
   "outputs": [
    {
     "data": {
      "text/plain": [
       "count    12355.000000\n",
       "mean        40.401862\n",
       "std         12.623076\n",
       "min          0.000000\n",
       "25%         33.000000\n",
       "50%         43.000000\n",
       "75%         48.000000\n",
       "max         79.000000\n",
       "Name:  Klout, dtype: float64"
      ]
     },
     "execution_count": 191,
     "metadata": {},
     "output_type": "execute_result"
    }
   ],
   "source": [
    "data6[' Klout'].describe()"
   ]
  },
  {
   "cell_type": "code",
   "execution_count": 205,
   "id": "fb3f4469-bf6f-406d-9b54-4a5a7fdcb716",
   "metadata": {},
   "outputs": [
    {
     "data": {
      "text/plain": [
       "log_Reach     1.000000\n",
       "cnt_links    -0.012239\n",
       "cnt_htags    -0.100684\n",
       "len_text     -0.018636\n",
       " Klout        0.268456\n",
       " Sentiment   -0.019465\n",
       "Name: log_Reach, dtype: float64"
      ]
     },
     "execution_count": 205,
     "metadata": {},
     "output_type": "execute_result"
    }
   ],
   "source": [
    "data6[data6[' Klout'].apply(lambda x: x > 35 and x < 45)][['log_Reach', 'cnt_links', 'cnt_htags', 'len_text', ' Klout', ' Sentiment']].corr()['log_Reach']"
   ]
  },
  {
   "cell_type": "markdown",
   "id": "1b0d76ec-ecd4-4d35-887c-49eb74f73904",
   "metadata": {},
   "source": [
    "### Reason\n",
    "\n",
    "We take tweets with similar Klout and see again that there is no crrelation with Reach and sentiment, count of links, tags, text length\n",
    "\n",
    "Features for tweets reach are\n",
    "- Klout\n",
    "- weekday\n",
    "- day of month\n",
    "- hour\n",
    "\n",
    "May be we can extract some text features\n",
    "- text tematic\n",
    "- call to action\n",
    "- may be some text embedding\n",
    "\n",
    "let's find best and worst tweets to see"
   ]
  },
  {
   "cell_type": "code",
   "execution_count": null,
   "id": "9ce740cb-efd9-40b4-8b94-161ecbf9d26c",
   "metadata": {},
   "outputs": [],
   "source": []
  },
  {
   "cell_type": "code",
   "execution_count": 174,
   "id": "18da3318-db89-4400-8890-cc1c1a0bc855",
   "metadata": {},
   "outputs": [
    {
     "data": {
      "text/plain": [
       "(1857.0, 3690.0)"
      ]
     },
     "execution_count": 174,
     "metadata": {},
     "output_type": "execute_result"
    }
   ],
   "source": [
    "data6[' Reach'].quantile(0.8), data6[' Reach'].quantile(0.9)\n"
   ]
  },
  {
   "cell_type": "code",
   "execution_count": 181,
   "id": "df524b4b-a6ce-4c77-a56b-f5025766ff4a",
   "metadata": {},
   "outputs": [
    {
     "data": {
      "text/plain": [
       "(57.0, 121.0)"
      ]
     },
     "execution_count": 181,
     "metadata": {},
     "output_type": "execute_result"
    }
   ],
   "source": [
    "data6[' Reach'].quantile(0.1), data6[' Reach'].quantile(0.2)\n"
   ]
  },
  {
   "cell_type": "code",
   "execution_count": 175,
   "id": "6cc01166-c341-4586-b29f-66e203029836",
   "metadata": {},
   "outputs": [],
   "source": [
    "tr = 2000"
   ]
  },
  {
   "cell_type": "code",
   "execution_count": 179,
   "id": "ad4422b8-f1a5-4412-b63f-2c771f751b08",
   "metadata": {},
   "outputs": [],
   "source": [
    "data_popular_tweets = data4[data4[' Reach'] > tr].to_dict('records')"
   ]
  },
  {
   "cell_type": "code",
   "execution_count": 182,
   "id": "0b6bc852-d644-4f9d-8240-33f5b9a891ce",
   "metadata": {},
   "outputs": [],
   "source": [
    "data_worst_tweets = data6[data6[' Reach'] < 100].to_dict('records')"
   ]
  },
  {
   "cell_type": "code",
   "execution_count": 183,
   "id": "a9294e62-4cc4-40c3-b46e-6d5bc769af21",
   "metadata": {},
   "outputs": [
    {
     "data": {
      "text/plain": [
       "(14290, 2168)"
      ]
     },
     "execution_count": 183,
     "metadata": {},
     "output_type": "execute_result"
    }
   ],
   "source": [
    "len(data_popular_tweets), len(data_worst_tweets)"
   ]
  },
  {
   "cell_type": "code",
   "execution_count": null,
   "id": "8d5a1e88-24ad-4d5d-9a98-cf78f6904ba1",
   "metadata": {},
   "outputs": [],
   "source": []
  },
  {
   "cell_type": "code",
   "execution_count": 180,
   "id": "c9d19d29-3720-470b-9b20-3f39320bb030",
   "metadata": {
    "scrolled": true
   },
   "outputs": [
    {
     "name": "stdout",
     "output_type": "stream",
     "text": [
      "RT @garnaat: Amazon Certificate Manager. Now AWS is a CA. (cc @AlexSchoof )\n",
      "\n",
      "\n",
      "Amazon Web Services: Holding The Profitability Bag For Amazon:\n",
      "\n",
      "\n",
      "Lumberyard as a loss leader for AWS is a really clever strategy. The AWS flywheel spins faster.\n",
      "\n",
      "\n",
      "RT @fresnizky: I have just completed a study session on @CloudRank\n",
      "\n",
      "\n",
      "AWS Google Microsoft Azure try to woo enterprise customers with flexibility appeal Follow @codango !\n",
      "\n",
      "\n",
      "@zedshaw (and the charge was on one of my business cards which is linked to AWS only not the retail store...)\n",
      "\n",
      "\n",
      "RT @awscloud: Check out March's hot Startups on (@intercom @TheTileApp @bugsnag @DroneDeploy)\n",
      "\n",
      "\n",
      "\"Google sneaks out AWS Lamba-like functionality with Cloud Functions\n",
      "\n",
      "\n",
      "Navigate through AWS regions and availability zones\n",
      "\n",
      "\n",
      "RT @Ra_Koellner: @adron @dustinvenegas @samcharrington moreover I wait over 6 Month of EDU evaluation Azure -&gt; one day and get 500Dol\n",
      "\n",
      "\n",
      "RT @BTSEACOMMS: High-performance to @awscloud @Azure - buy one get many with BTs connectivity to the cloud bundle.\n",
      "\n",
      "\n",
      "Microsoft : AWS and Google Scrap over Cloud Costs: Days later Google responded to the AWS pri...\n",
      "\n",
      "\n",
      "RT @swardley: ... problem however is AWS is not RedHat. Amazon will be a much tougher opponent and less easy to exploit.\n",
      "\n",
      "\n",
      "Tech: AWS Bolsters High Performance Computing Offering With NICE Acquisition\n",
      "\n",
      "\n",
      "IRB for AWS (kinda)\n",
      "\n",
      "\n",
      "Going to SKO? @TreasureData's got coffee free beer swags as Elvis. Booth\n",
      "\n",
      "\n",
      "Paving the way to cloud big data analytics with AWS and @talend (my pres in fr from Cloud expo)\n",
      "\n",
      "\n",
      "5 Amazon Web Services security tips businesses should know:\n",
      "\n",
      "\n",
      "RT @webdevers: Washington DC PHP Developer\n",
      "\n",
      "\n",
      "Techworld Daily Bytes - 28 January 2016 - [Dropbox and AWS]\n",
      "\n",
      "\n",
      "RT @datapath_io: Datapath.io is now in the US East Region.\n",
      "\n",
      "\n",
      "New project: AWS Agro Automation System by parthiban hairul\n",
      "\n",
      "\n",
      "Moving your website to ? Learn how to use Ubuntu to create the perfect EC2 platform:\n",
      "\n",
      "\n",
      "@seetu yes I have more trust in AWS service being around than in my capabilities of running a server.\n",
      "\n",
      "\n",
      "RT @PHassey: Google Announces 12 new Data Centres - Game on for\n",
      "\n",
      "\n",
      "RT @skamille: OH: I thought cloud native referred to engineers born after AWS launched?\n",
      "\n",
      "\n",
      "RT @BHoganNYC: @WebHouseHQ Kickoff 2016 Day 4 @varonis making sense of unstructured data @awscloud helping with execution @CloudONT\n",
      "\n",
      "\n",
      "How Long Can AWS Keep Climbing Its Steep Growth Curve?\n",
      "\n",
      "\n",
      "Migrating to Amazon Aurora: The View from the Other Side\n",
      "\n",
      "\n",
      "awscloud: Check out our latest post from stephenorban: The Future of Managed Services in the Cloud\n",
      "\n",
      "\n",
      "RT @awscloud: Now configure Auto Scaling to operate on a schedule using the AWS management console.\n",
      "\n",
      "\n",
      "Its our birthday youre getting a gift!  NEW: Learning Paths courses\n",
      "\n",
      "\n",
      "RT @HPE_Cloud: Hybrid cloud compatibility with coming right up. Or rather already up.\n",
      "\n",
      "\n",
      "RT @Werner: Well deserved recognition: @FT Person of the Year: Amazon Web Services Andy Jassy\n",
      "\n",
      "\n",
      "Optimize Spark-Streaming to Efficiently Process Amazon Kinesis Streams  AWS Big Data Blog\n",
      "\n",
      "\n",
      "RT @ZenBobW: Four Takeaways from Recent Cloud Conversations @ema_research @ITBusinessEdge\n",
      "\n",
      "\n",
      "RT @FullContactOps: [status] Identified: AWS Team is looking into the underlying problem with the Database.\n",
      "\n",
      "\n",
      "AWS Database Migration Service is Now Generally Available @awscloud\n",
      "\n",
      "\n",
      "RT @corephp: Don't get stranded with the closing of contact us to migrate your store.\n",
      "\n",
      "\n",
      "DBA - Amazon Web Services AWS SQL DBA Contract Glasgow 350 - 400 a d...\n",
      "\n",
      "\n",
      "Amazons next AWS data center region will be in Canada via VentureBeat\n",
      "\n",
      "\n",
      "RT @shawnkjames1: Talend Integration Cloud and 3 New Features That Allow You to Develop Faster\n",
      "\n",
      "\n",
      "Meter and manage resources in minutes! Start a Cloud Cruiser FREE TRIAL now!\n",
      "\n",
      "\n",
      "IMO Microsoft is about to completely out maneuver AWS because they are giving customers what they want in Azure Stack\n",
      "\n",
      "\n",
      "Best Practice Watch World-Readable and Listable S3 Bucket Policies\n",
      "\n",
      "\n",
      "@jen20 @adron Has anyone come up with a better deployment story than drop a zip file onto the AWS console?\n",
      "\n",
      "\n",
      "Top story: Congratulations to the Winners of the Hackster AWS IoT Mega Contest   see more\n",
      "\n",
      "\n",
      "Getting Started with\n",
      "\n",
      "\n",
      "Easing the Path to Cloud-Based Backup By @NegrashS | @CloudExpo Cloud vendors like AWS...\n",
      "\n",
      "\n",
      "RT @awscloud: Get started with AWS IoT to securely connect devices to the cloud:\n",
      "\n",
      "\n",
      "Don't run DASH to see @dashmobile CTO founder Brian Langel @awscloud event Thurs in NYC! @the_blangel\n",
      "\n",
      "\n",
      "Learn from the mistakes of others unless you want to be another cloud casualty @awscloud\n",
      "\n",
      "\n",
      "RT @justin_foster: Using Check out how to secure with from @peeweeh\n",
      "\n",
      "\n",
      "@nicchristensen might be an interesting story: Age/SMH 'down' for ppl due to AWS use\n",
      "\n",
      "\n",
      "awscloud: Get all the details on our managed database options find out which is for you!\n",
      "\n",
      "\n",
      "ZalandoTech: RT MyMoano: Radical Agility with Autonomous Teams and Microservices by zalandotech via\n",
      "\n",
      "\n",
      "RT @timbray: Major upgrade to the AWS Terms of Service; check out clause 57.10. No really:\n",
      "\n",
      "\n",
      "RT @BButlerNWW: Wall Street slammed Amazon for posting a record profit. If it didn't have AWS it would have reported a loss\n",
      "\n",
      "\n",
      "GEANT signs AWS as cloud provider - Telecompaper (subscription)\n",
      "\n",
      "\n",
      "Why is Amazon Web Services (AWS) Dominating Cloud Computing? - (press release) (blog)\n",
      "\n",
      "\n",
      "AWS and Systems\n",
      "\n",
      "\n",
      "AWS launches tool that provides SSL and TLS certificates for free: Public cloud infrastructure provi...\n",
      "\n",
      "\n",
      "RT @awscloud: Learn how to build your in the cloud with AWS!\n",
      "\n",
      "\n",
      "I don't think AWS S3 is for me. They charge a fortune just for bandwidth.\n",
      "\n",
      "\n",
      "RT @stephen_horning: Blog: @NSLSteenkamp on our cloud services collaboration with\n",
      "\n",
      "\n",
      ".@amazon @awscloud Now Available: Where It Fits in the email universe.\n",
      "\n",
      "\n",
      "Ace the amazon web services certification exams: aws engineer bundle just $29\n",
      "\n",
      "\n",
      "Distributed Data Stores for Mere Mortals (Part 2) @AWSstartups\n",
      "\n",
      "\n",
      "launches 5th Asia Pacific @awscloud\n",
      "\n",
      "\n",
      "RT @mobios: Radio Astronomy with RTL-SDR Raspberry Pi and Amazon AWS IoT\n",
      "\n",
      "\n",
      "@perigrin @darkuncle @linode agreed AWS is rather pricy for static workloads. Where it shines is handling load surges.\n",
      "\n",
      "\n",
      "RT AllNewLive: Solodev CMS Launches on AWS Marketplace\n",
      "\n",
      "\n",
      "AWS launches two new Korean datacentres\n",
      "\n",
      "\n",
      "Amazon Web Services Announces that over 1000 Databases Have Migrated to AWS since January 1 2016\n",
      "\n",
      "\n",
      "I said yesterday that tokenism is evil. The way African literature is marketed promotes tokenism. It's how the AWS was also set up.\n",
      "\n",
      "\n",
      "\"*sees AWS bill email* OH SHIT SHIT AWS bill* -.-\n",
      "\n",
      "\n",
      "Google Cloud Gives Chase but AWS Is Still out on the Horizon\n",
      "\n",
      "\n",
      "New nodes are hosted on amazon web services\n",
      "\n",
      "\n",
      "\"Set up a separate sandbox AWS account for experimentation. - via @flomotlik\n",
      "\n",
      "\n",
      "awscloud: How to reduce security threats and operating costs using AWS WAF and Amazon CloudFront.\n",
      "\n",
      "\n",
      "[video] How to Build Docker Persistent Storage on AWS\n",
      "\n",
      "\n",
      "AWS launches tool that provides SSL and TLS certificates for free\n",
      "\n",
      "\n",
      "Demo Evident.io's Security Platform for Infrastructure Security on for 14 Days:\n",
      "\n",
      "\n",
      "Spotify hits the G-Spot moves from AWS to Google's cloud: The Reg has been led to understand Sp...\n",
      "\n",
      "\n",
      "CloudFront Update  HTTPS TLS v1.1/v1.2 to the Origin Add/Modify Headers | AWS Official Blog\n",
      "\n",
      "\n",
      "awscloud: APN Partner accreditation courses now available in more languages.\n",
      "\n",
      "\n",
      "Want a 1 month @CloudRank trial for free? Join the android beta learn today.\n",
      "\n",
      "\n",
      "\"RT @APPSRUNTHEWORLD: Amazon AWS revenues $M 4Q15 - 2405 up 69%3Q15 -  2085 up 78%2Q15 - 1824 up 81%1Q15 - 1566 up 49%\"\n",
      "\n",
      "\n",
      "Discover how training can bolster client communication and enhance client relationships on blog\n",
      "\n",
      "\n",
      "AWS Week in Review  February 15 2016\n",
      "\n",
      "\n",
      "RT @GregorStocks: those of you who don't deal with aws may not know about the Best Dropdown In The World\n",
      "\n",
      "\n",
      "Amazon Web Services Takes Aim at Big Banks -- 2nd Update: Inc. is pitchi...\n",
      "\n",
      "\n",
      "Ace the Amazon Web Services Certification exams: AWS Engineer Bundle just $29\n",
      "\n",
      "\n",
      "RT @Stuart_A_Scott: Security blog plus the rest of the series here:\n",
      "\n",
      "\n",
      "RT @jordannovet: Google cloud has done it again! Very quiet launch of an AWS Lambda competitor called Google Cloud Functions\n",
      "\n",
      "\n",
      "Mugen powers Real-time Historical on Architecture using\n",
      "\n",
      "\n",
      "Report: spending up to $600M on Platform moving away from\n",
      "\n",
      "\n",
      "@davidmdavis @pluralsight Next up is an updated Docker Swarm course including a microservice app deployment to AWS.\n",
      "\n",
      "\n",
      "AWS = Amazon Web Services.\n",
      "\n",
      "\n",
      "Markit takes innovation to the cloud with AWS - via @robcrussell\n",
      "\n",
      "\n"
     ]
    }
   ],
   "source": [
    "for d in random.sample(data_popular_tweets, 100):\n",
    "    print(d['clean_text'], end='\\n\\n\\n')"
   ]
  },
  {
   "cell_type": "code",
   "execution_count": 184,
   "id": "62e5ca83-8881-4f91-87e7-abdbfbc8f478",
   "metadata": {
    "scrolled": true
   },
   "outputs": [
    {
     "name": "stdout",
     "output_type": "stream",
     "text": [
      "RT @awscloud: Join us at the Bogot on April 6th. Register today! Seats are almost filled.\n",
      "\n",
      "\n",
      "RT @SearchAWS: Our experts predict the hottest features services for 2016. @DCartyTT\n",
      "\n",
      "\n",
      "AWS Week in Review  February 1 2016\n",
      "\n",
      "\n",
      "We are hiring Data Scientist (AWS Redshift Python SQL) - London; 70k in salary\n",
      "\n",
      "\n",
      "RT @hvivani: Have you tried automating Spark jobs with Oozie on EMR ?\n",
      "\n",
      "\n",
      "RT @awscloud: New on our blog: Color-Code Your AWS OpsWorks Stacks for Better Tracking\n",
      "\n",
      "\n",
      "RT @AWS_Gov: .@TeresaCarlson VP of Worldwide Public Sector AWS discussing in the DoD today at @afceadc\n",
      "\n",
      "\n",
      "AWS at 10\n",
      "\n",
      "\n",
      "RT @stefanobellasio: Migrating Data to AWS Using the AWS Schema Conversion Tool: A Preview via @CloudRank\n",
      "\n",
      "\n",
      "RT @om: Happy Birthday Amazon Web Services by @gigabarb\n",
      "\n",
      "\n",
      "We are hiring: Technical Lead - AWS Continuous Delivery Services Technical   @awscloud\n",
      "\n",
      "\n",
      "RT @awscloud: Our newest region - AWS Asia Pacific (Seoul) Region is now open!\n",
      "\n",
      "\n",
      "The Epic Story of Exodus From the Cloud Empire\n",
      "\n",
      "\n",
      "AWS Bolsters High Performance Computing Offering With NICE Acquisition -\n",
      "\n",
      "\n",
      "RT @awscloud: We now have VPC Endpoints for S3 in our Asia Pacific (Seoul) Region.\n",
      "\n",
      "\n",
      "We are hiring: Software Engineer - AWS Continuous Delivery Services So @awscloud\n",
      "\n",
      "\n",
      "@taylorotwell @jeffrey_way @stauffermatt after Linode ddos I wanted to do HA and Elastic Beanstalk automates AWS and makes it less scary\n",
      "\n",
      "\n",
      "@NedOtter @Mike_Fal What if Ola's scripts push tlog to s3 every 15m. Snapshot hourly. VM goes down. restore aws snap + use backups?\n",
      "\n",
      "\n",
      "RT @BPO_Links: AWS closes in on becoming $10bn run rate business: posts record profi...\n",
      "\n",
      "\n",
      "RT @nataren: Wanna build reliable self-healing and high perf -services? join my team @mindtouch as Cloud Platform Eng.\n",
      "\n",
      "\n",
      "What is AWS Config? @WhatIsDotCom\n",
      "\n",
      "\n",
      "RT @awscloud: New on the Public Sector Blog: New Tools for Using Real-Time Archived Weather Data\n",
      "\n",
      "\n",
      "New AWS Platform Engineer  Central London - 65000 - 75000 City of London ..\n",
      "\n",
      "\n",
      "@sunil_f Hi Sunil would you be interested in a new DevOps contract opportunity? AWS | Chef | Terraform | Packer | Docker | Linux?\n",
      "\n",
      "\n",
      "AWS at 10: How the cloud giant shook up enterprise IT\n",
      "\n",
      "\n",
      "( $RCOM) RCom's Global Cloud Xchange expands cloud footprint with AWS ac... Read more:\n",
      "\n",
      "\n",
      "RT @awscloud: New on the Public Sector Blog: @NREL and Bring Energy Data to Analysts and Researchers\n",
      "\n",
      "\n",
      "No! Our cloud is better! is for consumer brands is for enterprise? Great observations here.\n",
      "\n",
      "\n",
      "RT @AWSIdentity: Now available: AWS Certificate Manager.\n",
      "\n",
      "\n",
      "RT @jeffbarr: Security Blog - Announcing Industry Best Practices for Securing AWS Resources -\n",
      "\n",
      "\n",
      "That time of the month I hate / exchange rate.   arrive and we pay another head!\n",
      "\n",
      "\n",
      "RT @varnishsoftware: Our latest blog teaches you how to use as a secure S3 gateway. Read on to get started\n",
      "\n",
      "\n",
      "If this is how they treat their users can you still trust Amazon with your data (AWS anyone)?\n",
      "\n",
      "\n",
      "RT @awscloud: Take part in our upcoming to learn how to architect hybrid clouds on AWS!\n",
      "\n",
      "\n",
      "RT @awscloud: Come hear from engineers at @splunk @goserverless on how to use AWS Lambda at the SF Loft!\n",
      "\n",
      "\n",
      "Mobile: DevOps for IT shops. Minus the upheaval: ... like Amazon Web Services and Microsoft Az...\n",
      "\n",
      "\n",
      "@docker we run out swarm cluster on aws ec2 instances\n",
      "\n",
      "\n",
      "RT @awscloud: Now access resources behind a VPC with AWS Lambda:\n",
      "\n",
      "\n",
      "Waiting for @awscloud to open AWS Config Rules in us-west-1 region. Or even better: allow AWS Config to record/scan resources of all regions\n",
      "\n",
      "\n",
      "RT @jeffbarr: Whew - what a day 5 launches. That should do it for today.\n",
      "\n",
      "\n",
      "RT @awscloud: AWS now supports WebSockets custom keepalive intervals weve enhanced the console!\n",
      "\n",
      "\n",
      "RT @ksushma140: Dr. @Gurmeetramrahim MEGESTIC look f ALMIGHTY MSG hrt stirring DIVINE voice in mashup n WORLD CLASS care everything was AWS\n",
      "\n",
      "\n",
      "RT @ncoghlan_dev: The fun part of MS Google coming 2nd 3rd to AWS in public cloud race is seeing them now adopt open as a tactic\n",
      "\n",
      "\n",
      "What Makes Amazon Web Services the Right Choice?\n",
      "\n",
      "\n",
      "Hi @JeffBar interesting post on the new AWS Certificate Manager! a very useful and important service\n",
      "\n",
      "\n",
      "\"RT @BotmetricHQ: Give fine-grained access to privileged IAM users only. Best Practices:\n",
      "\n",
      "\n",
      "Comcast Business Provides Enterprises with Direct Ethernet Connectivity to Amazon Web Services | Business Wire\n",
      "\n",
      "\n",
      "Using the AWS web console is an exercise in frustration.\n",
      "\n",
      "\n",
      "RT @mscloudshow: AWS Marketplace Adds SharePoint Enterprise -\n",
      "\n",
      "\n",
      "Ericsson Allies With Amazon Web Services (AWS) for Telecoms\n",
      "\n",
      "\n",
      "RT @awscloud: Test your iOS Android web apps against real phones and tablets on AWS. Start today for free!\n",
      "\n",
      "\n",
      "How to Set Up DNS Resolution Between On-Premises Networks and AWS Using AWS Directory Service and Amazon Route 53\n",
      "\n",
      "\n",
      "RT @Capgemini: We migrated over 251 apps to the cloud for @GE - with more to come. What can we do for you?\n",
      "\n",
      "\n",
      "RT @awscloud: Ready to learn more about securely controlling access to resources? Follow @AWSIdentity!\n",
      "\n",
      "\n",
      "RT @awscloud: Learn how to deploy your solutions almost instantly with AWS APN Partners.\n",
      "\n",
      "\n",
      "Ten years on Jeff Bezos risky bet on Amazon Web Services pays off big wonder what next 10yrs will bring?\n",
      "\n",
      "\n",
      "We are hiring: Amazon S3 Software Development Engineer @awscloud\n",
      "\n",
      "\n",
      "\"RT @BotmetricHQ: Customer Obsession And Partnering With Partners Will Drive In 2016: @OzzieDutch\n",
      "\n",
      "\n",
      "Announcing the AWS Pop-Up Loft in Tel Aviv: The AWS Pop-up Lofts in San Francisco and New York have become hub...\n",
      "\n",
      "\n",
      "@IanMmmm congratulations Ian at AWS SKO awards!\n",
      "\n",
      "\n",
      "Running an Elastic LAMP Stack on AWS - This article introduces what is probably one of the simplest ways of set...\n",
      "\n",
      "\n",
      "RT @Werner: about 10 years ago explaining for the first time...\n",
      "\n",
      "\n",
      "Deploying Node.js Microservices to AWS Lambda with Claudia.js: Q A with Author Gojko Adzic\n",
      "\n",
      "\n",
      "( $AMZN) Goldman Sachs On The Cloud: AWS Will Set Sales Record More Price Cuts Ahead. Read more:\n",
      "\n",
      "\n",
      "Skills -- not certifications -- are the key to landing an job.\n",
      "\n",
      "\n",
      "JOB   - Software Development Engineer - AWS EC2  view details\n",
      "\n",
      "\n",
      "Apple widens hybrid cloud moving AWS data to Google Cloud Platform (confirmed)\n",
      "\n",
      "\n",
      "RT @awscloud: Use API Gateway custom authorizers to support OAuth other bearer tokens. How to:\n",
      "\n",
      "\n",
      "RT @awscloud: On @AWSIdentity blog: How to set up uninterrupted federated user access to AWS using AD FS:\n",
      "\n",
      "\n",
      "AWS Networking Environments and You via @wordpressdotcom\n",
      "\n",
      "\n",
      "RT @awscloud: Elastic Load Balancing is now integrated with AWS Certificate Manager - learn more:\n",
      "\n",
      "\n",
      "RT @VentureBeat: AWS launches tool that provides SSL and TLS certificates for free\n",
      "\n",
      "\n",
      "RT @laravelphp: If you haven't tried Forge yet give it a shot! PHP 7.0 servers on DO Linode + AWS. Push to deploy Free SSL etc.\n",
      "\n",
      "\n",
      "RT @sawaba: Looks like the only glibc impact to AWS is Amazon Linux. Update your AMIs folks.\n",
      "\n",
      "\n",
      "You can provision deploy and renew certificates at no charge.\n",
      "\n",
      "\n",
      "RT @RealBrianBarker: NorthBay Solutions Recognized for Big Data Excellence      @northbays\n",
      "\n",
      "\n",
      "GibbsS3: New Senior eCommerce Java Developer - AWS API Webservices CloudCity of London ..\n",
      "\n",
      "\n",
      "RT @awscloud: Amazon ECR is now available in our US West (Oregon) region:\n",
      "\n",
      "\n",
      "+ are giving AWS a run!  Streamlined and OpEx savings.  Netadmins = you still own the network! @SmackMySwitch\n",
      "\n",
      "\n",
      "@Amazon can customer support help me use Lumberyard Materials during the\n",
      "\n",
      "\n",
      "awwhh Fck Yeah! successfully connected to AWS. All it took was creating a few configs.\n",
      "\n",
      "\n",
      "Microsoft answers AWS Lambdas event-triggered serverless apps with Azure Functions\n",
      "\n",
      "\n",
      "Looking for a new job as an Developer? Let's talk!\n",
      "\n",
      "\n",
      "RT @awscloud: Get emails or texts about AWS Directory Service status changes with SNS. How to:\n",
      "\n",
      "\n",
      "RT @damienkatz: Full Stack Engineer: Person with both a Github and an AWS account.\n",
      "\n",
      "\n",
      "( $AMZN) Netflix Finally Completes Migration To AWS. Read more:\n",
      "\n",
      "\n",
      "Are you a talented DevOps Engineer looking for a change? Check us out!\n",
      "\n",
      "\n",
      "AWS Bolsters High Performance Computing Offering With NICE Acquisition\n",
      "\n",
      "\n",
      "RT @hubertlepicki: Switching everything from AWS CloudFront to @KeyCDN for free SSL and HTTP/2 support.\n",
      "\n",
      "\n",
      "Great news!!     New  Access Resources in a VPC from Your Lambda Functions\n",
      "\n",
      "\n",
      "RT @awscloud: By using Amazon ECS @LindenLab reduced its build deployment times by 50% or more:\n",
      "\n",
      "\n",
      "AWS S3 vs Google Cloud vs Azure: Cloud Storage Performance\n",
      "\n",
      "\n",
      "New CloudWatch Events  Track and Respond to Changes to Your AWS Resources\n",
      "\n",
      "\n",
      "Director Of Engineering Aws Elastic Block Storage Jobs in Seattle WA\n",
      "\n",
      "\n",
      "1313- Web Software Enginner Sr. (Java or .NET) with AWS. - Illinois USA\n",
      "\n",
      "\n",
      "How to Help Protect Sensitive Data with AWS KMS\n",
      "\n",
      "\n",
      ".@nsoneinc's Nate Lindstrom dropping some knowledge on @awscloud basics\n",
      "\n",
      "\n",
      "Airbnb  Reinventing the Hospitality Industry on AWS\n",
      "\n",
      "\n",
      "RT @awscloud: Curious how @Netflix can deliver billions of hours of content? Hear its story:\n",
      "\n",
      "\n",
      "RT @awscloud: Amazon API Gateway is now available in the Asia Pacific (Singapore) region:\n",
      "\n",
      "\n"
     ]
    }
   ],
   "source": [
    "for d in random.sample(data_worst_tweets, 100):\n",
    "    print(d['clean_text'], end='\\n\\n\\n')"
   ]
  },
  {
   "cell_type": "code",
   "execution_count": null,
   "id": "8aef86ec-0aca-481a-a2d8-376e05f31776",
   "metadata": {},
   "outputs": [],
   "source": []
  },
  {
   "cell_type": "code",
   "execution_count": 206,
   "id": "3621ecd0-cee1-4a39-a753-1dd8ec111b80",
   "metadata": {},
   "outputs": [],
   "source": [
    "stop_words = \"\"\"i\n",
    "me\n",
    "my\n",
    "myself\n",
    "we\n",
    "our\n",
    "ours\n",
    "ourselves\n",
    "you\n",
    "your\n",
    "yours\n",
    "yourself\n",
    "yourselves\n",
    "he\n",
    "him\n",
    "his\n",
    "himself\n",
    "she\n",
    "her\n",
    "hers\n",
    "herself\n",
    "it\n",
    "its\n",
    "itself\n",
    "they\n",
    "them\n",
    "their\n",
    "theirs\n",
    "themselves\n",
    "what\n",
    "which\n",
    "who\n",
    "whom\n",
    "this\n",
    "that\n",
    "these\n",
    "those\n",
    "am\n",
    "is\n",
    "are\n",
    "was\n",
    "were\n",
    "be\n",
    "been\n",
    "being\n",
    "have\n",
    "has\n",
    "had\n",
    "having\n",
    "do\n",
    "does\n",
    "did\n",
    "doing\n",
    "a\n",
    "an\n",
    "the\n",
    "and\n",
    "but\n",
    "if\n",
    "or\n",
    "because\n",
    "as\n",
    "until\n",
    "while\n",
    "of\n",
    "at\n",
    "by\n",
    "for\n",
    "with\n",
    "about\n",
    "against\n",
    "between\n",
    "into\n",
    "through\n",
    "during\n",
    "before\n",
    "after\n",
    "above\n",
    "below\n",
    "to\n",
    "from\n",
    "up\n",
    "down\n",
    "in\n",
    "out\n",
    "on\n",
    "off\n",
    "over\n",
    "under\n",
    "again\n",
    "further\n",
    "then\n",
    "once\n",
    "here\n",
    "there\n",
    "when\n",
    "where\n",
    "why\n",
    "how\n",
    "all\n",
    "any\n",
    "both\n",
    "each\n",
    "few\n",
    "more\n",
    "most\n",
    "other\n",
    "some\n",
    "such\n",
    "no\n",
    "nor\n",
    "not\n",
    "only\n",
    "own\n",
    "same\n",
    "so\n",
    "than\n",
    "too\n",
    "very\n",
    "s\n",
    "t\n",
    "can\n",
    "will\n",
    "just\n",
    "don\n",
    "should\n",
    "now\n",
    "\"\"\""
   ]
  },
  {
   "cell_type": "code",
   "execution_count": 207,
   "id": "29f11918-22f4-4d2e-9bd9-6f8792fa7dcb",
   "metadata": {},
   "outputs": [],
   "source": [
    "stop_words = stop_words.split('\\n')"
   ]
  },
  {
   "cell_type": "code",
   "execution_count": 209,
   "id": "92c34f3b-6594-4473-a989-ac305aa1a584",
   "metadata": {},
   "outputs": [],
   "source": [
    "stop_words = [s for s in stop_words if len(s) > 0]"
   ]
  },
  {
   "cell_type": "code",
   "execution_count": 210,
   "id": "d379cd99-eb9d-443c-8fa1-fe4e5cc25902",
   "metadata": {},
   "outputs": [
    {
     "data": {
      "text/plain": [
       "127"
      ]
     },
     "execution_count": 210,
     "metadata": {},
     "output_type": "execute_result"
    }
   ],
   "source": [
    "len(stop_words)"
   ]
  },
  {
   "cell_type": "code",
   "execution_count": 211,
   "id": "d0ac1b73-19be-4e72-871e-7a8ded4fa5c0",
   "metadata": {},
   "outputs": [
    {
     "data": {
      "text/plain": [
       "86192"
      ]
     },
     "execution_count": 211,
     "metadata": {},
     "output_type": "execute_result"
    }
   ],
   "source": [
    "len(data_dict)"
   ]
  },
  {
   "cell_type": "code",
   "execution_count": 219,
   "id": "e02d8807-b630-492a-8e4a-05ef0f44ee3a",
   "metadata": {},
   "outputs": [],
   "source": [
    "def tokenize_texts(t):\n",
    "    t = t.lower()\n",
    "    toks = re.findall('[a-z]+', t)\n",
    "    toks = [t for t in toks if t not in stop_words and len(t) > 1]\n",
    "    return sorted(set(toks))"
   ]
  },
  {
   "cell_type": "code",
   "execution_count": 220,
   "id": "f2799a5c-4c35-4084-8774-cf3d34813ce1",
   "metadata": {},
   "outputs": [],
   "source": [
    "for d in data_dict:\n",
    "    d['text_tokenized'] = tokenize_texts(d['clean_text'])\n",
    "    "
   ]
  },
  {
   "cell_type": "code",
   "execution_count": 221,
   "id": "62f1c86c-221f-44f0-8fc5-e21f55c27716",
   "metadata": {},
   "outputs": [
    {
     "data": {
      "text/plain": [
       "{'index': 99999,\n",
       " 'TweetID': 'tw-716352771209887744',\n",
       " ' Weekday': 'Saturday',\n",
       " ' Hour': '13',\n",
       " ' Day': '2',\n",
       " ' Lang': 'en',\n",
       " ' IsReshare': False,\n",
       " ' Reach': 2422.0,\n",
       " ' RetweetCount': 1.0,\n",
       " ' Likes': 0.0,\n",
       " ' Klout': 34.0,\n",
       " ' Sentiment': 3.0,\n",
       " ' text': \"Great turn out for the AWS Plant Sale and the Friends of Historic Northport's Bake sale this morning in Downtown Northport !\",\n",
       " ' LocationID': 4007.0,\n",
       " ' UserID': 'tw-2286856224',\n",
       " 'IsReshare': 0,\n",
       " 'log_Reach': 7.792761720816526,\n",
       " 'links': [],\n",
       " 'htags': [],\n",
       " 'clean_text': \"Great turn out for the AWS Plant Sale and the Friends of Historic Northport's Bake sale this morning in Downtown Northport !\",\n",
       " 'text_tokenized': ['aws',\n",
       "  'bake',\n",
       "  'downtown',\n",
       "  'friends',\n",
       "  'great',\n",
       "  'historic',\n",
       "  'morning',\n",
       "  'northport',\n",
       "  'plant',\n",
       "  'sale',\n",
       "  'turn']}"
      ]
     },
     "execution_count": 221,
     "metadata": {},
     "output_type": "execute_result"
    }
   ],
   "source": [
    "data_dict[-1]"
   ]
  },
  {
   "cell_type": "code",
   "execution_count": 225,
   "id": "8a43c681-fa9a-43c5-b367-796f5cb77d26",
   "metadata": {},
   "outputs": [],
   "source": [
    "data_popular_tweets = random.sample([d for d in data_dict if d[' Reach'] > 2000], 2000)"
   ]
  },
  {
   "cell_type": "code",
   "execution_count": 226,
   "id": "591a540a-2d63-4e84-806d-9bd885cc03bb",
   "metadata": {},
   "outputs": [],
   "source": [
    "data_worst_tweets = random.sample([d for d in data_dict if d[' Reach'] < 100], 2000)"
   ]
  },
  {
   "cell_type": "code",
   "execution_count": null,
   "id": "74d7e9e4-c2f9-4b15-a388-8e656d99cadc",
   "metadata": {},
   "outputs": [],
   "source": []
  },
  {
   "cell_type": "code",
   "execution_count": 229,
   "id": "e1a20205-c37c-4c16-808a-995e2167ae85",
   "metadata": {},
   "outputs": [
    {
     "data": {
      "text/plain": [
       "{'index': 23509,\n",
       " 'TweetID': 'tw-692024839964598273',\n",
       " ' Weekday': 'Tuesday',\n",
       " ' Hour': 9,\n",
       " ' Day': 26,\n",
       " ' Lang': 'en',\n",
       " ' IsReshare': True,\n",
       " ' Reach': 8.0,\n",
       " ' RetweetCount': 1.0,\n",
       " ' Likes': 0.0,\n",
       " ' Klout': 32.0,\n",
       " ' Sentiment': 0.0,\n",
       " ' text': 'RT @Divya_FA17: @KhanSanak4527 @fahadali69940 @Mehwish17199266 @Ayshpml @Amit_rathore2 @FahadaliFc69940 \\xa0@yedavi_udit @FahadholicSubha \\xa0aws',\n",
       " ' LocationID': 1455.0,\n",
       " ' UserID': 'tw-4517139860',\n",
       " 'IsReshare': 1,\n",
       " 'log_Reach': 2.1972245773362196,\n",
       " 'links': [],\n",
       " 'htags': [],\n",
       " 'clean_text': 'RT @Divya_FA17: @KhanSanak4527 @fahadali69940 @Mehwish17199266 @Ayshpml @Amit_rathore2 @FahadaliFc69940 \\xa0@yedavi_udit @FahadholicSubha \\xa0aws',\n",
       " 'text_tokenized': ['amit',\n",
       "  'aws',\n",
       "  'ayshpml',\n",
       "  'divya',\n",
       "  'fa',\n",
       "  'fahadali',\n",
       "  'fahadalifc',\n",
       "  'fahadholicsubha',\n",
       "  'khansanak',\n",
       "  'mehwish',\n",
       "  'rathore',\n",
       "  'rt',\n",
       "  'udit',\n",
       "  'yedavi']}"
      ]
     },
     "execution_count": 229,
     "metadata": {},
     "output_type": "execute_result"
    }
   ],
   "source": [
    "random.sample(data_worst_tweets, 1)[0]"
   ]
  },
  {
   "cell_type": "code",
   "execution_count": 247,
   "id": "a473ea8d-42da-40df-a887-354d4b100c07",
   "metadata": {},
   "outputs": [],
   "source": [
    "popular_all_words = defaultdict(int)\n",
    "worst_all_words = defaultdict(int)"
   ]
  },
  {
   "cell_type": "code",
   "execution_count": 248,
   "id": "3136f662-2ee1-48fd-8e34-8fd5f04a23ef",
   "metadata": {},
   "outputs": [],
   "source": [
    "for d in data_popular_tweets:\n",
    "    for t in d['text_tokenized']:\n",
    "        popular_all_words[t] += 1"
   ]
  },
  {
   "cell_type": "code",
   "execution_count": 249,
   "id": "9642935c-3845-447f-8587-03f80f93785b",
   "metadata": {},
   "outputs": [],
   "source": [
    "for d in data_worst_tweets:\n",
    "    for t in d['text_tokenized']:\n",
    "        worst_all_words[t] += 1"
   ]
  },
  {
   "cell_type": "code",
   "execution_count": 250,
   "id": "2bf43e1e-47a5-43ee-a115-bb69319ab1c1",
   "metadata": {},
   "outputs": [
    {
     "data": {
      "text/plain": [
       "4615"
      ]
     },
     "execution_count": 250,
     "metadata": {},
     "output_type": "execute_result"
    }
   ],
   "source": [
    "len(popular_all_words)"
   ]
  },
  {
   "cell_type": "code",
   "execution_count": 251,
   "id": "6e8ede2b-2b6c-45b2-a488-bbda548c5e94",
   "metadata": {},
   "outputs": [
    {
     "data": {
      "text/plain": [
       "4091"
      ]
     },
     "execution_count": 251,
     "metadata": {},
     "output_type": "execute_result"
    }
   ],
   "source": [
    "len(worst_all_words)"
   ]
  },
  {
   "cell_type": "code",
   "execution_count": 252,
   "id": "557027f6-86e1-461c-881e-a7c9ba51e5be",
   "metadata": {},
   "outputs": [],
   "source": [
    "popular_all_words_sorted = sorted(popular_all_words.items(), key=lambda x: -x[1])"
   ]
  },
  {
   "cell_type": "code",
   "execution_count": 253,
   "id": "a5d0bf30-fa3c-4bb4-a7fd-08b50201c104",
   "metadata": {},
   "outputs": [],
   "source": [
    "worst_all_words_sorted = sorted(worst_all_words.items(), key=lambda x: -x[1])"
   ]
  },
  {
   "cell_type": "code",
   "execution_count": 254,
   "id": "26bb0891-f1ce-42bf-8be1-cf5c8a3b4ce3",
   "metadata": {},
   "outputs": [
    {
     "data": {
      "text/plain": [
       "[('aws', 1211),\n",
       " ('rt', 608),\n",
       " ('amazon', 449),\n",
       " ('cloud', 336),\n",
       " ('services', 282),\n",
       " ('web', 253),\n",
       " ('awscloud', 235),\n",
       " ('new', 165),\n",
       " ('lambda', 109),\n",
       " ('via', 104),\n",
       " ('data', 103),\n",
       " ('google', 99),\n",
       " ('blog', 98),\n",
       " ('service', 83),\n",
       " ('azure', 78),\n",
       " ('using', 74),\n",
       " ('security', 70),\n",
       " ('free', 65),\n",
       " ('computing', 64),\n",
       " ('instances', 49),\n",
       " ('microsoft', 49),\n",
       " ('learn', 47),\n",
       " ('use', 46),\n",
       " ('infrastructure', 44),\n",
       " ('public', 43),\n",
       " ('iot', 42),\n",
       " ('years', 41),\n",
       " ('apple', 41),\n",
       " ('big', 38),\n",
       " ('engineer', 37),\n",
       " ('get', 37),\n",
       " ('support', 36),\n",
       " ('week', 35),\n",
       " ('launches', 35),\n",
       " ('platform', 35),\n",
       " ('migration', 35),\n",
       " ('like', 34),\n",
       " ('year', 34),\n",
       " ('best', 34),\n",
       " ('microservices', 34),\n",
       " ('today', 32),\n",
       " ('deploy', 32),\n",
       " ('functions', 32),\n",
       " ('enterprise', 32),\n",
       " ('jeffbarr', 31),\n",
       " ('database', 31),\n",
       " ('serverless', 30),\n",
       " ('storage', 29),\n",
       " ('one', 29),\n",
       " ('js', 29)]"
      ]
     },
     "execution_count": 254,
     "metadata": {},
     "output_type": "execute_result"
    }
   ],
   "source": [
    "popular_all_words_sorted[:50]"
   ]
  },
  {
   "cell_type": "code",
   "execution_count": 256,
   "id": "15c9adc3-86c7-4d10-b6e2-745d221da737",
   "metadata": {},
   "outputs": [
    {
     "data": {
      "text/plain": [
       "[('aws', 1195),\n",
       " ('rt', 880),\n",
       " ('awscloud', 555),\n",
       " ('amazon', 331),\n",
       " ('cloud', 252),\n",
       " ('new', 201),\n",
       " ('services', 182),\n",
       " ('hiring', 167),\n",
       " ('engineer', 166),\n",
       " ('web', 145),\n",
       " ('software', 119),\n",
       " ('learn', 117),\n",
       " ('data', 91),\n",
       " ('lambda', 89),\n",
       " ('service', 87),\n",
       " ('blog', 86),\n",
       " ('using', 77),\n",
       " ('google', 73),\n",
       " ('via', 72),\n",
       " ('development', 69),\n",
       " ('free', 69),\n",
       " ('read', 62),\n",
       " ('jeffbarr', 59),\n",
       " ('manager', 56),\n",
       " ('azure', 54),\n",
       " ('support', 53),\n",
       " ('join', 52),\n",
       " ('available', 51),\n",
       " ('senior', 50),\n",
       " ('use', 47),\n",
       " ('region', 46),\n",
       " ('microsoft', 45),\n",
       " ('security', 44),\n",
       " ('job', 39),\n",
       " ('us', 39),\n",
       " ('seattle', 38),\n",
       " ('get', 37),\n",
       " ('deploy', 37),\n",
       " ('developer', 34),\n",
       " ('years', 34),\n",
       " ('ssl', 34),\n",
       " ('today', 33),\n",
       " ('resources', 33),\n",
       " ('business', 33),\n",
       " ('check', 33),\n",
       " ('time', 32),\n",
       " ('ready', 32),\n",
       " ('enterprise', 32),\n",
       " ('terms', 32),\n",
       " ('ec', 31)]"
      ]
     },
     "execution_count": 256,
     "metadata": {},
     "output_type": "execute_result"
    }
   ],
   "source": [
    "worst_all_words_sorted[:50]"
   ]
  },
  {
   "cell_type": "code",
   "execution_count": 257,
   "id": "060683fd-71e6-4214-a91a-ec17c42ba0df",
   "metadata": {},
   "outputs": [],
   "source": [
    "popular_all_words_top_100 = set([e[0] for e in popular_all_words_sorted[:100]])"
   ]
  },
  {
   "cell_type": "code",
   "execution_count": 258,
   "id": "8dd72d05-e30d-437e-b390-6c24bc3fe86d",
   "metadata": {},
   "outputs": [],
   "source": [
    "worst_all_words_top_100 = set([e[0] for e in worst_all_words_sorted[:100]])"
   ]
  },
  {
   "cell_type": "code",
   "execution_count": 260,
   "id": "6cc5ab7c-77c2-4fa2-b2f7-f6567670a409",
   "metadata": {},
   "outputs": [
    {
     "data": {
      "text/plain": [
       "63"
      ]
     },
     "execution_count": 260,
     "metadata": {},
     "output_type": "execute_result"
    }
   ],
   "source": [
    "len(popular_all_words_top_100.intersection(worst_all_words_top_100))"
   ]
  },
  {
   "cell_type": "markdown",
   "id": "919f897d-2c1e-4408-8e5d-275ad8c98105",
   "metadata": {},
   "source": [
    "### Reason\n",
    "\n",
    "most popular tweets and most worst tweets has the same words (63% of 100 most popular words in both groups are the same)."
   ]
  },
  {
   "cell_type": "code",
   "execution_count": 261,
   "id": "3d8fc5a3-ec48-4215-a2fd-0d2115eda036",
   "metadata": {},
   "outputs": [
    {
     "data": {
      "text/plain": [
       "{'amzn',\n",
       " 'announces',\n",
       " 'based',\n",
       " 'certified',\n",
       " 'claudia',\n",
       " 'cloudexpo',\n",
       " 'customers',\n",
       " 'dropbox',\n",
       " 'easier',\n",
       " 'ericsson',\n",
       " 'functions',\n",
       " 'game',\n",
       " 'gt',\n",
       " 'help',\n",
       " 'js',\n",
       " 'know',\n",
       " 'launches',\n",
       " 'lumberyard',\n",
       " 'make',\n",
       " 'marketplace',\n",
       " 'may',\n",
       " 'microservices',\n",
       " 'node',\n",
       " 'official',\n",
       " 'post',\n",
       " 'says',\n",
       " 'see',\n",
       " 'serverless',\n",
       " 'stack',\n",
       " 'storage',\n",
       " 'takes',\n",
       " 'top',\n",
       " 'vs',\n",
       " 'webinar',\n",
       " 'week',\n",
       " 'werner',\n",
       " 'year'}"
      ]
     },
     "execution_count": 261,
     "metadata": {},
     "output_type": "execute_result"
    }
   ],
   "source": [
    "popular_all_words_top_100 - worst_all_words_top_100"
   ]
  },
  {
   "cell_type": "code",
   "execution_count": 262,
   "id": "2e29ea0a-d425-4df0-9855-5f83eb914974",
   "metadata": {},
   "outputs": [
    {
     "data": {
      "text/plain": [
       "{'access',\n",
       " 'api',\n",
       " 'botmetrichq',\n",
       " 'build',\n",
       " 'building',\n",
       " 'certificates',\n",
       " 'cloudformation',\n",
       " 'continuous',\n",
       " 'day',\n",
       " 'delivery',\n",
       " 'details',\n",
       " 'development',\n",
       " 'docker',\n",
       " 'great',\n",
       " 'hiring',\n",
       " 'instance',\n",
       " 'job',\n",
       " 'jobs',\n",
       " 'join',\n",
       " 'linux',\n",
       " 'manager',\n",
       " 'march',\n",
       " 'mobile',\n",
       " 'partners',\n",
       " 'read',\n",
       " 'ready',\n",
       " 'resources',\n",
       " 'run',\n",
       " 'sdk',\n",
       " 'seattle',\n",
       " 'senior',\n",
       " 'software',\n",
       " 'start',\n",
       " 'systems',\n",
       " 'team',\n",
       " 'tls',\n",
       " 'wa'}"
      ]
     },
     "execution_count": 262,
     "metadata": {},
     "output_type": "execute_result"
    }
   ],
   "source": [
    "worst_all_words_top_100 - popular_all_words_top_100"
   ]
  },
  {
   "cell_type": "markdown",
   "id": "af39b89c-5107-4924-8ca4-d7b473dc352b",
   "metadata": {},
   "source": [
    "### Reson\n",
    "\n",
    "Hypotesis: there is no difference in tematic for popular and unpopular tweets in this dataset\n",
    "\n",
    "Let's check this with bert model for semantic similarity"
   ]
  },
  {
   "cell_type": "code",
   "execution_count": 263,
   "id": "3a3550b8-e42d-4436-8aff-1630a31af46a",
   "metadata": {},
   "outputs": [],
   "source": [
    "from sentence_transformers import SentenceTransformer\n",
    "\n"
   ]
  },
  {
   "cell_type": "code",
   "execution_count": 264,
   "id": "d2c22749-4908-4381-9a31-ed7b208aaa96",
   "metadata": {},
   "outputs": [
    {
     "data": {
      "application/vnd.jupyter.widget-view+json": {
       "model_id": "92be1c175aa94a018870bfe8f4046dbe",
       "version_major": 2,
       "version_minor": 0
      },
      "text/plain": [
       "modules.json:   0%|          | 0.00/349 [00:00<?, ?B/s]"
      ]
     },
     "metadata": {},
     "output_type": "display_data"
    },
    {
     "data": {
      "application/vnd.jupyter.widget-view+json": {
       "model_id": "81ddca3811b44f689e29abc1b397aeef",
       "version_major": 2,
       "version_minor": 0
      },
      "text/plain": [
       "config_sentence_transformers.json:   0%|          | 0.00/116 [00:00<?, ?B/s]"
      ]
     },
     "metadata": {},
     "output_type": "display_data"
    },
    {
     "data": {
      "application/vnd.jupyter.widget-view+json": {
       "model_id": "a7638a89db9f4f10b60f5f8f27273e1c",
       "version_major": 2,
       "version_minor": 0
      },
      "text/plain": [
       "README.md:   0%|          | 0.00/10.5k [00:00<?, ?B/s]"
      ]
     },
     "metadata": {},
     "output_type": "display_data"
    },
    {
     "data": {
      "application/vnd.jupyter.widget-view+json": {
       "model_id": "669ac32d6f7446c2b01c506ee16e5e0e",
       "version_major": 2,
       "version_minor": 0
      },
      "text/plain": [
       "sentence_bert_config.json:   0%|          | 0.00/53.0 [00:00<?, ?B/s]"
      ]
     },
     "metadata": {},
     "output_type": "display_data"
    },
    {
     "name": "stderr",
     "output_type": "stream",
     "text": [
      "/home/alex/.local/lib/python3.10/site-packages/huggingface_hub/file_download.py:797: FutureWarning: `resume_download` is deprecated and will be removed in version 1.0.0. Downloads always resume when possible. If you want to force a new download, use `force_download=True`.\n",
      "  warnings.warn(\n"
     ]
    },
    {
     "data": {
      "application/vnd.jupyter.widget-view+json": {
       "model_id": "0d0ec6d5b2c34a1f830841cc565c502c",
       "version_major": 2,
       "version_minor": 0
      },
      "text/plain": [
       "config.json:   0%|          | 0.00/612 [00:00<?, ?B/s]"
      ]
     },
     "metadata": {},
     "output_type": "display_data"
    },
    {
     "data": {
      "application/vnd.jupyter.widget-view+json": {
       "model_id": "483dc7523d3b4c878fdc591b6d144c4b",
       "version_major": 2,
       "version_minor": 0
      },
      "text/plain": [
       "model.safetensors:   0%|          | 0.00/90.9M [00:00<?, ?B/s]"
      ]
     },
     "metadata": {},
     "output_type": "display_data"
    },
    {
     "data": {
      "application/vnd.jupyter.widget-view+json": {
       "model_id": "59a704d0e4f444bfaf1c3ac91b633596",
       "version_major": 2,
       "version_minor": 0
      },
      "text/plain": [
       "tokenizer_config.json:   0%|          | 0.00/350 [00:00<?, ?B/s]"
      ]
     },
     "metadata": {},
     "output_type": "display_data"
    },
    {
     "data": {
      "application/vnd.jupyter.widget-view+json": {
       "model_id": "75cf21d431bb48bc96bd57b2f0ef3d02",
       "version_major": 2,
       "version_minor": 0
      },
      "text/plain": [
       "vocab.txt:   0%|          | 0.00/232k [00:00<?, ?B/s]"
      ]
     },
     "metadata": {},
     "output_type": "display_data"
    },
    {
     "data": {
      "application/vnd.jupyter.widget-view+json": {
       "model_id": "485343705d7b4958b009594e3a846e06",
       "version_major": 2,
       "version_minor": 0
      },
      "text/plain": [
       "tokenizer.json:   0%|          | 0.00/466k [00:00<?, ?B/s]"
      ]
     },
     "metadata": {},
     "output_type": "display_data"
    },
    {
     "data": {
      "application/vnd.jupyter.widget-view+json": {
       "model_id": "70ad024cd8b54ba482c940dbbab68073",
       "version_major": 2,
       "version_minor": 0
      },
      "text/plain": [
       "special_tokens_map.json:   0%|          | 0.00/112 [00:00<?, ?B/s]"
      ]
     },
     "metadata": {},
     "output_type": "display_data"
    },
    {
     "data": {
      "application/vnd.jupyter.widget-view+json": {
       "model_id": "e2ae8650dee84497a4358da2978a7600",
       "version_major": 2,
       "version_minor": 0
      },
      "text/plain": [
       "config.json:   0%|          | 0.00/190 [00:00<?, ?B/s]"
      ]
     },
     "metadata": {},
     "output_type": "display_data"
    }
   ],
   "source": [
    "\n",
    "model = SentenceTransformer(\"all-MiniLM-L6-v2\")"
   ]
  },
  {
   "cell_type": "code",
   "execution_count": 267,
   "id": "402986e3-5428-47a8-ab02-522fec449319",
   "metadata": {},
   "outputs": [
    {
     "data": {
      "text/plain": [
       "{'index': 76418,\n",
       " 'TweetID': 'tw-709463475534172160',\n",
       " ' Weekday': 'Monday',\n",
       " ' Hour': '13',\n",
       " ' Day': '14',\n",
       " ' Lang': 'en',\n",
       " ' IsReshare': False,\n",
       " ' Reach': 3543.0,\n",
       " ' RetweetCount': 0.0,\n",
       " ' Likes': 0.0,\n",
       " ' Klout': 56.0,\n",
       " ' Sentiment': 0.0,\n",
       " ' text': \"#CloudStorage AWS Cloud Storage Service Turns 10: Today marks the 10th anniversary of Amazon Web Services' (AW... https://redmondmag.com/Blogs/The-Schwartz-Report/2016/03/AWS-Turns-10.aspx\",\n",
       " ' LocationID': 3754.0,\n",
       " ' UserID': 'tw-59696106',\n",
       " 'IsReshare': 0,\n",
       " 'log_Reach': 8.173011311724972,\n",
       " 'links': ['https://redmondmag.com/Blogs/The-Schwartz-Report/2016/03/AWS-Turns-10.aspx'],\n",
       " 'htags': ['#CloudStorage'],\n",
       " 'clean_text': \"AWS Cloud Storage Service Turns 10: Today marks the 10th anniversary of Amazon Web Services' (AW...\",\n",
       " 'text_tokenized': ['amazon',\n",
       "  'anniversary',\n",
       "  'aw',\n",
       "  'aws',\n",
       "  'cloud',\n",
       "  'marks',\n",
       "  'service',\n",
       "  'services',\n",
       "  'storage',\n",
       "  'th',\n",
       "  'today',\n",
       "  'turns',\n",
       "  'web'],\n",
       " 'emb': array([-7.38405064e-02,  4.10742313e-02, -1.22862123e-02, -3.86958905e-02,\n",
       "         4.14562635e-02,  4.23072204e-02, -4.93207425e-02, -2.21280046e-02,\n",
       "         3.65478024e-02,  3.53275724e-02,  3.66187990e-02,  4.47230227e-02,\n",
       "         4.10150401e-02,  3.09802722e-02,  2.11547334e-02, -8.81013423e-02,\n",
       "        -2.35764422e-02, -9.94780362e-02, -9.58485305e-02,  2.47769617e-02,\n",
       "        -7.01421276e-02,  2.09446605e-02, -4.54318747e-02, -8.44963733e-03,\n",
       "        -4.32670265e-02,  4.26183790e-02, -4.96675558e-02, -3.35890241e-02,\n",
       "         1.27782626e-02, -5.79952374e-02,  2.64916662e-02, -6.21519573e-02,\n",
       "        -1.33620284e-03,  1.06963813e-01,  3.06232013e-02, -2.62255352e-02,\n",
       "        -7.01047946e-03, -9.61075947e-02, -3.96800302e-02,  3.75895202e-02,\n",
       "         2.87499409e-02, -8.09246674e-02, -1.66573878e-02, -2.50633936e-02,\n",
       "        -1.89929362e-02,  5.50604565e-03,  3.70375738e-02,  2.74615251e-02,\n",
       "        -3.06828674e-02,  3.25940140e-02, -2.36463714e-02, -3.12515534e-02,\n",
       "        -2.66278163e-02,  4.24214117e-02, -5.45497723e-02,  1.57776289e-02,\n",
       "        -9.81603935e-03,  2.74838991e-02, -2.73155309e-02, -6.85140863e-02,\n",
       "         4.70655113e-02, -7.16513917e-02,  4.70487252e-02,  3.31893726e-03,\n",
       "        -3.66910361e-02,  6.56846613e-02,  3.67808938e-02, -3.87518704e-02,\n",
       "        -2.98625627e-03, -3.65609713e-02, -1.99899171e-02, -2.08195988e-02,\n",
       "        -4.08426039e-02,  4.35507931e-02, -3.00650503e-02,  4.62399982e-02,\n",
       "         7.01739043e-02,  4.00217213e-02,  2.18180213e-02, -1.84199307e-02,\n",
       "        -3.42797078e-02, -4.49476726e-02,  7.87170324e-03,  4.11418639e-02,\n",
       "        -1.37431100e-01, -8.01854506e-02, -2.15290580e-02,  4.11641151e-02,\n",
       "        -7.44686127e-02, -6.72792122e-02,  2.53554955e-02, -1.33042410e-03,\n",
       "         1.00214131e-01,  2.21771561e-02, -1.23925976e-01,  6.72603911e-03,\n",
       "        -3.02706286e-02,  7.91487843e-02, -3.47828344e-02, -3.41603756e-02,\n",
       "         1.44867543e-02,  1.03465259e-01,  5.18184341e-03, -2.30468195e-02,\n",
       "         4.74825837e-02, -4.36922759e-02,  2.35821027e-02,  8.72543678e-02,\n",
       "        -4.45346832e-02, -9.99384299e-02, -5.00949146e-03, -3.24144326e-02,\n",
       "        -7.50293881e-02, -9.07282904e-03, -3.17928679e-02, -1.15905516e-02,\n",
       "        -1.06291339e-01, -5.07821003e-03,  4.04301137e-02,  1.72409825e-02,\n",
       "         1.09117955e-01,  4.10533044e-03,  4.88453098e-02, -3.44195552e-02,\n",
       "        -8.79465267e-02,  1.14426380e-02,  4.58578132e-02, -1.46387324e-33,\n",
       "        -4.52514775e-02, -2.72884332e-02,  7.78510422e-03, -6.70125335e-02,\n",
       "         3.31961289e-02, -5.43317832e-02, -3.41544300e-02,  7.66920000e-02,\n",
       "        -7.26034194e-02, -7.27425143e-02, -3.65967564e-02,  3.17197666e-03,\n",
       "        -2.12005153e-02, -6.43973500e-02,  1.79523528e-02, -1.46219479e-02,\n",
       "        -4.66920324e-02,  4.62854914e-02,  9.94366705e-02, -2.27776635e-02,\n",
       "         1.77873429e-02, -1.96715854e-02,  4.85756844e-02,  1.98492454e-03,\n",
       "         8.53158087e-02, -3.97670306e-02,  1.58710908e-02, -2.77203266e-02,\n",
       "         7.72122592e-02,  9.81806498e-03,  9.49591771e-02,  3.45443934e-02,\n",
       "        -3.58610973e-02, -2.33874694e-02,  3.61286588e-02,  5.62718734e-02,\n",
       "         3.72448117e-02,  2.89751515e-02, -1.68955605e-02, -2.56764069e-02,\n",
       "        -1.03320135e-02, -3.83880623e-02, -9.30611491e-02,  3.39526534e-02,\n",
       "         1.59053896e-02,  1.99706480e-02,  2.56087296e-02, -1.32231666e-02,\n",
       "         1.12792887e-01,  1.98255591e-02, -8.71567652e-02,  2.69842800e-02,\n",
       "        -7.39558553e-03,  2.98369918e-02,  5.90490215e-02, -1.71576962e-02,\n",
       "         4.11064737e-02, -4.60167453e-02, -1.58066023e-02, -1.82323959e-02,\n",
       "         3.46443802e-02, -4.39809710e-02,  9.34436731e-03, -1.70993414e-02,\n",
       "        -1.20397583e-01, -2.26390716e-02,  8.43913853e-02,  1.61429234e-02,\n",
       "         1.87577363e-02,  3.55723873e-02,  4.30096425e-02,  1.44359535e-02,\n",
       "         8.60728100e-02, -1.00947423e-02,  4.22497429e-02,  1.90676842e-02,\n",
       "         5.44946529e-02, -8.97749811e-02,  2.70173941e-02,  5.33700623e-02,\n",
       "        -2.79253833e-02, -1.68252010e-02,  1.13545563e-02,  8.65407288e-02,\n",
       "        -6.87145516e-02, -1.14271017e-02,  3.65586877e-02,  6.70618564e-02,\n",
       "        -3.37759219e-02, -2.37498563e-02, -3.33561786e-02, -5.78734688e-02,\n",
       "         7.78438374e-02, -5.96135110e-03, -2.84644812e-02, -1.48321455e-34,\n",
       "         7.66971242e-03, -1.84751283e-02, -1.08188458e-01,  8.62202197e-02,\n",
       "        -5.81456767e-03, -3.03215906e-02,  4.70306873e-02,  1.07718766e-01,\n",
       "        -6.24473542e-02,  6.88501447e-02,  5.62877283e-02,  4.13683280e-02,\n",
       "        -1.22174509e-02, -8.68473426e-02, -5.28858304e-02, -4.04184610e-02,\n",
       "        -4.91300933e-02, -1.37121230e-01, -2.11008266e-02,  2.27331035e-02,\n",
       "        -3.76273063e-03,  5.83710906e-04,  2.92911921e-02,  2.11842768e-02,\n",
       "         5.82266338e-02,  5.22171706e-02,  5.29582761e-02, -1.94649249e-02,\n",
       "        -1.43316423e-03, -5.88668324e-02, -5.86165600e-02, -3.05808391e-02,\n",
       "        -1.88924409e-02,  4.96992096e-03, -5.11138812e-02, -7.77615383e-02,\n",
       "         7.55898133e-02, -1.33568398e-03, -5.38572706e-02, -5.53520657e-02,\n",
       "         2.22995169e-02, -4.09030914e-02, -3.67179923e-02, -1.63884964e-02,\n",
       "         3.72319929e-02,  2.17200387e-02, -5.38163930e-02,  9.26770419e-02,\n",
       "        -1.13374349e-02, -2.16918960e-02, -1.15428679e-02,  6.96996273e-03,\n",
       "         2.57806946e-02,  2.41048373e-02,  4.15317491e-02,  5.27250059e-02,\n",
       "         6.73948601e-03,  7.25443289e-02, -5.44886254e-02,  4.01224792e-02,\n",
       "        -1.28884008e-02, -1.80982109e-02,  6.06003217e-02, -4.03216146e-02,\n",
       "        -4.53934632e-02, -3.48848924e-02,  1.33916782e-02,  4.22727168e-02,\n",
       "        -7.31564090e-02,  1.91390961e-02,  2.80411579e-02, -2.31869221e-02,\n",
       "        -3.67714427e-02, -3.13584358e-02, -5.61376326e-02, -3.68884690e-02,\n",
       "         3.56040150e-02, -7.68858343e-02,  6.70487657e-02, -3.20546776e-02,\n",
       "        -6.52351752e-02,  9.28827524e-02, -2.81564072e-02,  6.40737191e-02,\n",
       "         4.55118679e-02, -6.87434105e-03,  5.46715669e-02, -4.16589156e-02,\n",
       "        -1.25979101e-02,  4.29141074e-02, -1.34929970e-01, -3.05839032e-02,\n",
       "        -1.15985975e-01,  3.71653512e-02,  5.44352690e-03, -2.42933442e-08,\n",
       "        -3.34298648e-02,  6.23229705e-02,  7.21380534e-03,  4.55765650e-02,\n",
       "         6.18832931e-02, -3.09333391e-02,  4.90679778e-02,  1.22882813e-01,\n",
       "         4.85728942e-02,  1.76025294e-02,  1.08179405e-01, -9.36863050e-02,\n",
       "        -8.06528330e-02, -1.55155351e-02, -9.65536758e-03, -6.40333304e-03,\n",
       "         1.90808680e-02, -2.17964780e-03,  6.02100454e-02, -7.54264649e-03,\n",
       "        -4.35197027e-03,  2.53870990e-02,  5.89954592e-02, -7.10344315e-02,\n",
       "         3.96875329e-02,  5.33980057e-02, -2.94338400e-03,  6.29140884e-02,\n",
       "        -1.03773866e-02, -7.13400766e-02,  9.54203308e-03, -5.34610860e-02,\n",
       "        -4.96075163e-03, -1.86589416e-02,  2.67000105e-02, -1.70170423e-02,\n",
       "        -7.73781762e-02,  1.81571897e-02, -1.42922206e-03,  1.50298728e-02,\n",
       "         4.37977389e-02,  4.48031314e-02, -3.58921625e-02,  4.08611372e-02,\n",
       "         3.97886373e-02, -4.09266092e-02,  1.52138611e-02,  1.18662834e-01,\n",
       "        -6.35893345e-02,  5.70039339e-02, -1.25170304e-02, -5.88498265e-02,\n",
       "        -3.53459176e-03,  1.17814541e-01,  1.43769309e-02, -4.96737950e-04,\n",
       "         4.10925448e-02, -9.20105875e-02, -1.76271908e-02,  1.90987691e-01,\n",
       "         1.03453346e-01,  2.09752321e-02, -3.51977833e-02,  1.45024844e-02],\n",
       "       dtype=float32)}"
      ]
     },
     "execution_count": 267,
     "metadata": {},
     "output_type": "execute_result"
    }
   ],
   "source": [
    "data_popular_tweets[0]"
   ]
  },
  {
   "cell_type": "code",
   "execution_count": 266,
   "id": "90512b6b-028c-4e0c-b046-f4301087c71c",
   "metadata": {},
   "outputs": [
    {
     "name": "stderr",
     "output_type": "stream",
     "text": [
      "100%|███████████████████████████████████████| 2000/2000 [00:40<00:00, 48.95it/s]\n"
     ]
    }
   ],
   "source": [
    "for d in tqdm(data_popular_tweets):\n",
    "    d['emb'] = model.encode(d['clean_text'])"
   ]
  },
  {
   "cell_type": "code",
   "execution_count": 268,
   "id": "0b1f27ea-39d2-4d3b-b4d5-cf265912abf9",
   "metadata": {},
   "outputs": [
    {
     "name": "stderr",
     "output_type": "stream",
     "text": [
      "100%|███████████████████████████████████████| 2000/2000 [00:37<00:00, 52.91it/s]\n"
     ]
    }
   ],
   "source": [
    "for d in tqdm(data_worst_tweets):\n",
    "    d['emb'] = model.encode(d['clean_text'])"
   ]
  },
  {
   "cell_type": "code",
   "execution_count": 273,
   "id": "7b9f63b1-029a-48d3-9be0-71c4df59888c",
   "metadata": {},
   "outputs": [
    {
     "data": {
      "text/plain": [
       "1.0"
      ]
     },
     "execution_count": 273,
     "metadata": {},
     "output_type": "execute_result"
    }
   ],
   "source": [
    "np.linalg.norm(data_worst_tweets[-1020]['emb'])"
   ]
  },
  {
   "cell_type": "markdown",
   "id": "aa42e1ee-f447-476b-9dc6-98aa0e9adec5",
   "metadata": {},
   "source": [
    "### Reason\n",
    "\n",
    "All vectors are the 1 norm"
   ]
  },
  {
   "cell_type": "code",
   "execution_count": 274,
   "id": "d76ffe34-ddf5-444c-8b69-747bebbe3ae8",
   "metadata": {},
   "outputs": [
    {
     "data": {
      "text/plain": [
       "numpy.ndarray"
      ]
     },
     "execution_count": 274,
     "metadata": {},
     "output_type": "execute_result"
    }
   ],
   "source": [
    "type(data_worst_tweets[-1020]['emb'])"
   ]
  },
  {
   "cell_type": "code",
   "execution_count": 280,
   "id": "7a0ebb9b-3f9a-46bf-a7af-908fd67ef476",
   "metadata": {},
   "outputs": [],
   "source": [
    "v1 = sum([d['emb'] for d in random.sample(data_popular_tweets, 100)]) / 100"
   ]
  },
  {
   "cell_type": "code",
   "execution_count": 281,
   "id": "6b4d1c6f-19d7-4582-8dad-9f68af63daa6",
   "metadata": {},
   "outputs": [],
   "source": [
    "v2 = sum([d['emb'] for d in random.sample(data_worst_tweets, 100)]) / 100"
   ]
  },
  {
   "cell_type": "code",
   "execution_count": 282,
   "id": "29025088-da62-4815-bc0a-4b899ca746e8",
   "metadata": {},
   "outputs": [
    {
     "data": {
      "text/plain": [
       "0.5146564"
      ]
     },
     "execution_count": 282,
     "metadata": {},
     "output_type": "execute_result"
    }
   ],
   "source": [
    "np.linalg.norm(v1)"
   ]
  },
  {
   "cell_type": "code",
   "execution_count": 283,
   "id": "6c4b7ed4-0955-4174-99af-f1c444c274d0",
   "metadata": {},
   "outputs": [
    {
     "data": {
      "text/plain": [
       "0.5564926"
      ]
     },
     "execution_count": 283,
     "metadata": {},
     "output_type": "execute_result"
    }
   ],
   "source": [
    "np.linalg.norm(v2)"
   ]
  },
  {
   "cell_type": "code",
   "execution_count": 284,
   "id": "8c707da5-7e57-4ee9-9f93-6b9e356ac9da",
   "metadata": {},
   "outputs": [],
   "source": [
    "score = sum(v1 * v2) / (np.linalg.norm(v1) * np.linalg.norm(v2))"
   ]
  },
  {
   "cell_type": "code",
   "execution_count": 285,
   "id": "4ef29977-52eb-48f4-b028-027b4819a542",
   "metadata": {},
   "outputs": [
    {
     "data": {
      "text/plain": [
       "0.9648915494484682"
      ]
     },
     "execution_count": 285,
     "metadata": {},
     "output_type": "execute_result"
    }
   ],
   "source": [
    "score"
   ]
  },
  {
   "cell_type": "code",
   "execution_count": 286,
   "id": "80626952-c60a-4eb7-839b-9c207eba1b7b",
   "metadata": {},
   "outputs": [
    {
     "name": "stdout",
     "output_type": "stream",
     "text": [
      "0.9623564123243341\n",
      "0.9653500261295674\n",
      "0.9667718762276422\n",
      "0.9652266914279062\n",
      "0.9671876695470744\n",
      "0.961512202760222\n",
      "0.9640065762820414\n",
      "0.9579192354639744\n",
      "0.9748273348230174\n",
      "0.961956336180604\n"
     ]
    }
   ],
   "source": [
    "random.seed = 1\n",
    "\n",
    "for _ in range(10):\n",
    "    v1 = sum([d['emb'] for d in random.sample(data_popular_tweets, 100)]) / 100\n",
    "    v2 = sum([d['emb'] for d in random.sample(data_worst_tweets, 100)]) / 100\n",
    "    score = sum(v1 * v2) / (np.linalg.norm(v1) * np.linalg.norm(v2))\n",
    "    print(score)"
   ]
  },
  {
   "cell_type": "code",
   "execution_count": 288,
   "id": "865d1f71-7df9-4b95-bb4f-400aca3a85d5",
   "metadata": {},
   "outputs": [
    {
     "name": "stdout",
     "output_type": "stream",
     "text": [
      "0.8848544401588354\n",
      "0.857123814537512\n",
      "0.8839037473283451\n",
      "0.8711915963803343\n",
      "0.9020052759931533\n",
      "0.8867788819611017\n",
      "0.8694196683911198\n",
      "0.875930224299642\n",
      "0.8659739884392172\n",
      "0.887814203861226\n"
     ]
    }
   ],
   "source": [
    "random.seed = 42\n",
    "\n",
    "n = 20\n",
    "for _ in range(10):\n",
    "    v1 = sum([d['emb'] for d in random.sample(data_popular_tweets, n)]) / n\n",
    "    v2 = sum([d['emb'] for d in random.sample(data_worst_tweets, n)]) / n\n",
    "    score = sum(v1 * v2) / (np.linalg.norm(v1) * np.linalg.norm(v2))\n",
    "    print(score)"
   ]
  },
  {
   "cell_type": "markdown",
   "id": "ad163b9f-b53b-4c54-bd8e-b0c07071c079",
   "metadata": {},
   "source": [
    "### Reson\n",
    "\n",
    "There is no difference in tematic for popular and unpopular tweets in this dataset\n",
    "\n",
    "for random samples for 20 or 100 tweets from most popular and most unpopular tweets they have similar semantic vector"
   ]
  },
  {
   "cell_type": "code",
   "execution_count": null,
   "id": "fb36ea75-2528-43e2-9fcf-14533ed1fac8",
   "metadata": {},
   "outputs": [],
   "source": []
  },
  {
   "cell_type": "markdown",
   "id": "126d3a0e-8384-4a54-bf2c-57f235bf12c5",
   "metadata": {},
   "source": [
    "### Conclusion\n",
    "\n",
    "for this dataset text key words, or hashtags doesnt influence on engagment.\n",
    "\n",
    "for such commercial short IT messages the only valuable things are\n",
    "- account Klout\n",
    "- weekday\n",
    "- day of month\n",
    "- hour\n",
    "\n",
    "Then we can use Tree model for such data to predict engagment.\n",
    "\n",
    "we will predict lor_reach data as target.\n",
    "\n",
    "we can use lor_reach data for scale.\n",
    "\n"
   ]
  },
  {
   "cell_type": "code",
   "execution_count": 289,
   "id": "85bbcb27-b13b-463d-82e4-a77bbd587df1",
   "metadata": {},
   "outputs": [
    {
     "data": {
      "text/plain": [
       "<Axes: >"
      ]
     },
     "execution_count": 289,
     "metadata": {},
     "output_type": "execute_result"
    },
    {
     "data": {
      "image/png": "[encoded data removed]",
      "text/plain": [
       "<Figure size 640x480 with 1 Axes>"
      ]
     },
     "metadata": {},
     "output_type": "display_data"
    }
   ],
   "source": [
    "data4['log_Reach'].hist(bins=10)"
   ]
  },
  {
   "cell_type": "code",
   "execution_count": null,
   "id": "a15b98b0-ca29-4b0f-8a99-adff049d76fd",
   "metadata": {},
   "outputs": [],
   "source": []
  },
  {
   "cell_type": "code",
   "execution_count": 290,
   "id": "675f5872-6528-4da8-b0cc-754b40a38338",
   "metadata": {},
   "outputs": [
    {
     "data": {
      "text/plain": [
       "2.0794415416798357"
      ]
     },
     "execution_count": 290,
     "metadata": {},
     "output_type": "execute_result"
    }
   ],
   "source": [
    "data4['log_Reach'].min()"
   ]
  },
  {
   "cell_type": "code",
   "execution_count": 291,
   "id": "1024b995-6a3e-4c56-9f9c-c4ca4e5e35b4",
   "metadata": {},
   "outputs": [
    {
     "data": {
      "text/plain": [
       "9.615805480084347"
      ]
     },
     "execution_count": 291,
     "metadata": {},
     "output_type": "execute_result"
    }
   ],
   "source": [
    "data4['log_Reach'].max()"
   ]
  },
  {
   "cell_type": "markdown",
   "id": "4c26d08f-b0a7-40a1-8e81-61b9c8e8004d",
   "metadata": {},
   "source": [
    "### Reason\n",
    "\n",
    "let's create scale function and training data for model.\n",
    "\n",
    "Exclude Day data from dataset because it's not full monts. We will get not full data model - it wouldn't work with data of other days: 24-31"
   ]
  },
  {
   "cell_type": "code",
   "execution_count": 301,
   "id": "00573aeb-5e9b-49ec-b06a-0e544231e525",
   "metadata": {},
   "outputs": [
    {
     "data": {
      "text/plain": [
       "[0,\n",
       " 1,\n",
       " 2,\n",
       " 3,\n",
       " 4,\n",
       " 5,\n",
       " 6,\n",
       " 7,\n",
       " 8,\n",
       " 9,\n",
       " 10,\n",
       " 11,\n",
       " 12,\n",
       " 13,\n",
       " 14,\n",
       " 15,\n",
       " 16,\n",
       " 17,\n",
       " 18,\n",
       " 19,\n",
       " 20,\n",
       " 21,\n",
       " 22,\n",
       " 23]"
      ]
     },
     "execution_count": 301,
     "metadata": {},
     "output_type": "execute_result"
    }
   ],
   "source": [
    "sorted(set(data4[' Day']))"
   ]
  },
  {
   "cell_type": "code",
   "execution_count": 294,
   "id": "46e3983c-6428-462c-beb2-1d143d15878a",
   "metadata": {},
   "outputs": [],
   "source": [
    "def scale_function(x):\n",
    "    sc =  (x-2)*10/7.5\n",
    "    return min(max(0, sc), 10)"
   ]
  },
  {
   "cell_type": "code",
   "execution_count": 296,
   "id": "4c9f16f2-6799-4d65-a938-ad2f06b8d588",
   "metadata": {},
   "outputs": [
    {
     "data": {
      "text/plain": [
       "10.133333333333333"
      ]
     },
     "execution_count": 296,
     "metadata": {},
     "output_type": "execute_result"
    }
   ],
   "source": [
    "scale_function(9.6)"
   ]
  },
  {
   "cell_type": "code",
   "execution_count": 298,
   "id": "d431d530-85e3-4075-9651-b3f9c28583cc",
   "metadata": {},
   "outputs": [
    {
     "data": {
      "text/plain": [
       "0.13333333333333344"
      ]
     },
     "execution_count": 298,
     "metadata": {},
     "output_type": "execute_result"
    }
   ],
   "source": [
    "scale_function(2.1)"
   ]
  },
  {
   "cell_type": "code",
   "execution_count": 299,
   "id": "b4d11db2-4b46-4041-8450-e393ffa9476f",
   "metadata": {},
   "outputs": [
    {
     "data": {
      "text/plain": [
       "5.333333333333333"
      ]
     },
     "execution_count": 299,
     "metadata": {},
     "output_type": "execute_result"
    }
   ],
   "source": [
    "scale_function(6)"
   ]
  },
  {
   "cell_type": "code",
   "execution_count": null,
   "id": "c89f3cca-f3cb-4260-9124-221d04e04455",
   "metadata": {},
   "outputs": [],
   "source": []
  },
  {
   "cell_type": "code",
   "execution_count": 304,
   "id": "ecf643bf-b5fe-4be2-b139-5b723669e865",
   "metadata": {},
   "outputs": [],
   "source": [
    "df = data4[[' Weekday', ' Hour', ' Klout', 'log_Reach']]"
   ]
  },
  {
   "cell_type": "code",
   "execution_count": 305,
   "id": "09419a96-e194-41cf-a0b9-1a65c0552f08",
   "metadata": {},
   "outputs": [
    {
     "data": {
      "text/html": [
       "<div>\n",
       "<style scoped>\n",
       "    .dataframe tbody tr th:only-of-type {\n",
       "        vertical-align: middle;\n",
       "    }\n",
       "\n",
       "    .dataframe tbody tr th {\n",
       "        vertical-align: top;\n",
       "    }\n",
       "\n",
       "    .dataframe thead th {\n",
       "        text-align: right;\n",
       "    }\n",
       "</style>\n",
       "<table border=\"1\" class=\"dataframe\">\n",
       "  <thead>\n",
       "    <tr style=\"text-align: right;\">\n",
       "      <th></th>\n",
       "      <th>Weekday</th>\n",
       "      <th>Hour</th>\n",
       "      <th>Klout</th>\n",
       "      <th>log_Reach</th>\n",
       "    </tr>\n",
       "  </thead>\n",
       "  <tbody>\n",
       "    <tr>\n",
       "      <th>0</th>\n",
       "      <td>Thursday</td>\n",
       "      <td>17</td>\n",
       "      <td>35.0</td>\n",
       "      <td>3.806662</td>\n",
       "    </tr>\n",
       "    <tr>\n",
       "      <th>1</th>\n",
       "      <td>Thursday</td>\n",
       "      <td>17</td>\n",
       "      <td>53.0</td>\n",
       "      <td>7.501634</td>\n",
       "    </tr>\n",
       "    <tr>\n",
       "      <th>2</th>\n",
       "      <td>Thursday</td>\n",
       "      <td>17</td>\n",
       "      <td>47.0</td>\n",
       "      <td>5.645447</td>\n",
       "    </tr>\n",
       "    <tr>\n",
       "      <th>3</th>\n",
       "      <td>Thursday</td>\n",
       "      <td>17</td>\n",
       "      <td>53.0</td>\n",
       "      <td>7.643962</td>\n",
       "    </tr>\n",
       "    <tr>\n",
       "      <th>4</th>\n",
       "      <td>Thursday</td>\n",
       "      <td>17</td>\n",
       "      <td>47.0</td>\n",
       "      <td>6.860664</td>\n",
       "    </tr>\n",
       "    <tr>\n",
       "      <th>...</th>\n",
       "      <td>...</td>\n",
       "      <td>...</td>\n",
       "      <td>...</td>\n",
       "      <td>...</td>\n",
       "    </tr>\n",
       "    <tr>\n",
       "      <th>86187</th>\n",
       "      <td>Saturday</td>\n",
       "      <td>13</td>\n",
       "      <td>44.0</td>\n",
       "      <td>6.030685</td>\n",
       "    </tr>\n",
       "    <tr>\n",
       "      <th>86188</th>\n",
       "      <td>Saturday</td>\n",
       "      <td>13</td>\n",
       "      <td>29.0</td>\n",
       "      <td>6.638568</td>\n",
       "    </tr>\n",
       "    <tr>\n",
       "      <th>86189</th>\n",
       "      <td>Saturday</td>\n",
       "      <td>13</td>\n",
       "      <td>17.0</td>\n",
       "      <td>4.812184</td>\n",
       "    </tr>\n",
       "    <tr>\n",
       "      <th>86190</th>\n",
       "      <td>Saturday</td>\n",
       "      <td>13</td>\n",
       "      <td>42.0</td>\n",
       "      <td>5.662960</td>\n",
       "    </tr>\n",
       "    <tr>\n",
       "      <th>86191</th>\n",
       "      <td>Saturday</td>\n",
       "      <td>13</td>\n",
       "      <td>34.0</td>\n",
       "      <td>7.792762</td>\n",
       "    </tr>\n",
       "  </tbody>\n",
       "</table>\n",
       "<p>86192 rows × 4 columns</p>\n",
       "</div>"
      ],
      "text/plain": [
       "        Weekday   Hour   Klout  log_Reach\n",
       "0      Thursday     17    35.0   3.806662\n",
       "1      Thursday     17    53.0   7.501634\n",
       "2      Thursday     17    47.0   5.645447\n",
       "3      Thursday     17    53.0   7.643962\n",
       "4      Thursday     17    47.0   6.860664\n",
       "...         ...    ...     ...        ...\n",
       "86187  Saturday     13    44.0   6.030685\n",
       "86188  Saturday     13    29.0   6.638568\n",
       "86189  Saturday     13    17.0   4.812184\n",
       "86190  Saturday     13    42.0   5.662960\n",
       "86191  Saturday     13    34.0   7.792762\n",
       "\n",
       "[86192 rows x 4 columns]"
      ]
     },
     "execution_count": 305,
     "metadata": {},
     "output_type": "execute_result"
    }
   ],
   "source": [
    "df"
   ]
  },
  {
   "cell_type": "code",
   "execution_count": null,
   "id": "70941194-8ae2-431e-9f7f-85662d0441c1",
   "metadata": {},
   "outputs": [],
   "source": []
  },
  {
   "cell_type": "code",
   "execution_count": 344,
   "id": "ffa02bdc-b52e-4745-8881-308d79b323c2",
   "metadata": {},
   "outputs": [],
   "source": [
    "from sklearn.ensemble import RandomForestRegressor\n",
    "from sklearn.model_selection import cross_val_score\n",
    "from sklearn.preprocessing import OneHotEncoder\n",
    "from sklearn.model_selection import GridSearchCV\n",
    "from sklearn.metrics import make_scorer, mean_squared_error"
   ]
  },
  {
   "cell_type": "code",
   "execution_count": 307,
   "id": "1b7955f6-0dc6-43aa-a038-e98116200c42",
   "metadata": {
    "scrolled": true
   },
   "outputs": [
    {
     "name": "stdout",
     "output_type": "stream",
     "text": [
      "Help on class RandomForestRegressor in module sklearn.ensemble._forest:\n",
      "\n",
      "class RandomForestRegressor(ForestRegressor)\n",
      " |  RandomForestRegressor(n_estimators=100, *, criterion='squared_error', max_depth=None, min_samples_split=2, min_samples_leaf=1, min_weight_fraction_leaf=0.0, max_features=1.0, max_leaf_nodes=None, min_impurity_decrease=0.0, bootstrap=True, oob_score=False, n_jobs=None, random_state=None, verbose=0, warm_start=False, ccp_alpha=0.0, max_samples=None)\n",
      " |  \n",
      " |  A random forest regressor.\n",
      " |  \n",
      " |  A random forest is a meta estimator that fits a number of classifying\n",
      " |  decision trees on various sub-samples of the dataset and uses averaging\n",
      " |  to improve the predictive accuracy and control over-fitting.\n",
      " |  The sub-sample size is controlled with the `max_samples` parameter if\n",
      " |  `bootstrap=True` (default), otherwise the whole dataset is used to build\n",
      " |  each tree.\n",
      " |  \n",
      " |  For a comparison between tree-based ensemble models see the example\n",
      " |  :ref:`sphx_glr_auto_examples_ensemble_plot_forest_hist_grad_boosting_comparison.py`.\n",
      " |  \n",
      " |  Read more in the :ref:`User Guide <forest>`.\n",
      " |  \n",
      " |  Parameters\n",
      " |  ----------\n",
      " |  n_estimators : int, default=100\n",
      " |      The number of trees in the forest.\n",
      " |  \n",
      " |      .. versionchanged:: 0.22\n",
      " |         The default value of ``n_estimators`` changed from 10 to 100\n",
      " |         in 0.22.\n",
      " |  \n",
      " |  criterion : {\"squared_error\", \"absolute_error\", \"friedman_mse\", \"poisson\"},             default=\"squared_error\"\n",
      " |      The function to measure the quality of a split. Supported criteria\n",
      " |      are \"squared_error\" for the mean squared error, which is equal to\n",
      " |      variance reduction as feature selection criterion and minimizes the L2\n",
      " |      loss using the mean of each terminal node, \"friedman_mse\", which uses\n",
      " |      mean squared error with Friedman's improvement score for potential\n",
      " |      splits, \"absolute_error\" for the mean absolute error, which minimizes\n",
      " |      the L1 loss using the median of each terminal node, and \"poisson\" which\n",
      " |      uses reduction in Poisson deviance to find splits.\n",
      " |      Training using \"absolute_error\" is significantly slower\n",
      " |      than when using \"squared_error\".\n",
      " |  \n",
      " |      .. versionadded:: 0.18\n",
      " |         Mean Absolute Error (MAE) criterion.\n",
      " |  \n",
      " |      .. versionadded:: 1.0\n",
      " |         Poisson criterion.\n",
      " |  \n",
      " |  max_depth : int, default=None\n",
      " |      The maximum depth of the tree. If None, then nodes are expanded until\n",
      " |      all leaves are pure or until all leaves contain less than\n",
      " |      min_samples_split samples.\n",
      " |  \n",
      " |  min_samples_split : int or float, default=2\n",
      " |      The minimum number of samples required to split an internal node:\n",
      " |  \n",
      " |      - If int, then consider `min_samples_split` as the minimum number.\n",
      " |      - If float, then `min_samples_split` is a fraction and\n",
      " |        `ceil(min_samples_split * n_samples)` are the minimum\n",
      " |        number of samples for each split.\n",
      " |  \n",
      " |      .. versionchanged:: 0.18\n",
      " |         Added float values for fractions.\n",
      " |  \n",
      " |  min_samples_leaf : int or float, default=1\n",
      " |      The minimum number of samples required to be at a leaf node.\n",
      " |      A split point at any depth will only be considered if it leaves at\n",
      " |      least ``min_samples_leaf`` training samples in each of the left and\n",
      " |      right branches.  This may have the effect of smoothing the model,\n",
      " |      especially in regression.\n",
      " |  \n",
      " |      - If int, then consider `min_samples_leaf` as the minimum number.\n",
      " |      - If float, then `min_samples_leaf` is a fraction and\n",
      " |        `ceil(min_samples_leaf * n_samples)` are the minimum\n",
      " |        number of samples for each node.\n",
      " |  \n",
      " |      .. versionchanged:: 0.18\n",
      " |         Added float values for fractions.\n",
      " |  \n",
      " |  min_weight_fraction_leaf : float, default=0.0\n",
      " |      The minimum weighted fraction of the sum total of weights (of all\n",
      " |      the input samples) required to be at a leaf node. Samples have\n",
      " |      equal weight when sample_weight is not provided.\n",
      " |  \n",
      " |  max_features : {\"sqrt\", \"log2\", None}, int or float, default=1.0\n",
      " |      The number of features to consider when looking for the best split:\n",
      " |  \n",
      " |      - If int, then consider `max_features` features at each split.\n",
      " |      - If float, then `max_features` is a fraction and\n",
      " |        `max(1, int(max_features * n_features_in_))` features are considered at each\n",
      " |        split.\n",
      " |      - If \"sqrt\", then `max_features=sqrt(n_features)`.\n",
      " |      - If \"log2\", then `max_features=log2(n_features)`.\n",
      " |      - If None or 1.0, then `max_features=n_features`.\n",
      " |  \n",
      " |      .. note::\n",
      " |          The default of 1.0 is equivalent to bagged trees and more\n",
      " |          randomness can be achieved by setting smaller values, e.g. 0.3.\n",
      " |  \n",
      " |      .. versionchanged:: 1.1\n",
      " |          The default of `max_features` changed from `\"auto\"` to 1.0.\n",
      " |  \n",
      " |      Note: the search for a split does not stop until at least one\n",
      " |      valid partition of the node samples is found, even if it requires to\n",
      " |      effectively inspect more than ``max_features`` features.\n",
      " |  \n",
      " |  max_leaf_nodes : int, default=None\n",
      " |      Grow trees with ``max_leaf_nodes`` in best-first fashion.\n",
      " |      Best nodes are defined as relative reduction in impurity.\n",
      " |      If None then unlimited number of leaf nodes.\n",
      " |  \n",
      " |  min_impurity_decrease : float, default=0.0\n",
      " |      A node will be split if this split induces a decrease of the impurity\n",
      " |      greater than or equal to this value.\n",
      " |  \n",
      " |      The weighted impurity decrease equation is the following::\n",
      " |  \n",
      " |          N_t / N * (impurity - N_t_R / N_t * right_impurity\n",
      " |                              - N_t_L / N_t * left_impurity)\n",
      " |  \n",
      " |      where ``N`` is the total number of samples, ``N_t`` is the number of\n",
      " |      samples at the current node, ``N_t_L`` is the number of samples in the\n",
      " |      left child, and ``N_t_R`` is the number of samples in the right child.\n",
      " |  \n",
      " |      ``N``, ``N_t``, ``N_t_R`` and ``N_t_L`` all refer to the weighted sum,\n",
      " |      if ``sample_weight`` is passed.\n",
      " |  \n",
      " |      .. versionadded:: 0.19\n",
      " |  \n",
      " |  bootstrap : bool, default=True\n",
      " |      Whether bootstrap samples are used when building trees. If False, the\n",
      " |      whole dataset is used to build each tree.\n",
      " |  \n",
      " |  oob_score : bool or callable, default=False\n",
      " |      Whether to use out-of-bag samples to estimate the generalization score.\n",
      " |      By default, :func:`~sklearn.metrics.r2_score` is used.\n",
      " |      Provide a callable with signature `metric(y_true, y_pred)` to use a\n",
      " |      custom metric. Only available if `bootstrap=True`.\n",
      " |  \n",
      " |  n_jobs : int, default=None\n",
      " |      The number of jobs to run in parallel. :meth:`fit`, :meth:`predict`,\n",
      " |      :meth:`decision_path` and :meth:`apply` are all parallelized over the\n",
      " |      trees. ``None`` means 1 unless in a :obj:`joblib.parallel_backend`\n",
      " |      context. ``-1`` means using all processors. See :term:`Glossary\n",
      " |      <n_jobs>` for more details.\n",
      " |  \n",
      " |  random_state : int, RandomState instance or None, default=None\n",
      " |      Controls both the randomness of the bootstrapping of the samples used\n",
      " |      when building trees (if ``bootstrap=True``) and the sampling of the\n",
      " |      features to consider when looking for the best split at each node\n",
      " |      (if ``max_features < n_features``).\n",
      " |      See :term:`Glossary <random_state>` for details.\n",
      " |  \n",
      " |  verbose : int, default=0\n",
      " |      Controls the verbosity when fitting and predicting.\n",
      " |  \n",
      " |  warm_start : bool, default=False\n",
      " |      When set to ``True``, reuse the solution of the previous call to fit\n",
      " |      and add more estimators to the ensemble, otherwise, just fit a whole\n",
      " |      new forest. See :term:`Glossary <warm_start>` and\n",
      " |      :ref:`gradient_boosting_warm_start` for details.\n",
      " |  \n",
      " |  ccp_alpha : non-negative float, default=0.0\n",
      " |      Complexity parameter used for Minimal Cost-Complexity Pruning. The\n",
      " |      subtree with the largest cost complexity that is smaller than\n",
      " |      ``ccp_alpha`` will be chosen. By default, no pruning is performed. See\n",
      " |      :ref:`minimal_cost_complexity_pruning` for details.\n",
      " |  \n",
      " |      .. versionadded:: 0.22\n",
      " |  \n",
      " |  max_samples : int or float, default=None\n",
      " |      If bootstrap is True, the number of samples to draw from X\n",
      " |      to train each base estimator.\n",
      " |  \n",
      " |      - If None (default), then draw `X.shape[0]` samples.\n",
      " |      - If int, then draw `max_samples` samples.\n",
      " |      - If float, then draw `max(round(n_samples * max_samples), 1)` samples. Thus,\n",
      " |        `max_samples` should be in the interval `(0.0, 1.0]`.\n",
      " |  \n",
      " |      .. versionadded:: 0.22\n",
      " |  \n",
      " |  Attributes\n",
      " |  ----------\n",
      " |  estimator_ : :class:`~sklearn.tree.DecisionTreeRegressor`\n",
      " |      The child estimator template used to create the collection of fitted\n",
      " |      sub-estimators.\n",
      " |  \n",
      " |      .. versionadded:: 1.2\n",
      " |         `base_estimator_` was renamed to `estimator_`.\n",
      " |  \n",
      " |  base_estimator_ : DecisionTreeRegressor\n",
      " |      The child estimator template used to create the collection of fitted\n",
      " |      sub-estimators.\n",
      " |  \n",
      " |      .. deprecated:: 1.2\n",
      " |          `base_estimator_` is deprecated and will be removed in 1.4.\n",
      " |          Use `estimator_` instead.\n",
      " |  \n",
      " |  estimators_ : list of DecisionTreeRegressor\n",
      " |      The collection of fitted sub-estimators.\n",
      " |  \n",
      " |  feature_importances_ : ndarray of shape (n_features,)\n",
      " |      The impurity-based feature importances.\n",
      " |      The higher, the more important the feature.\n",
      " |      The importance of a feature is computed as the (normalized)\n",
      " |      total reduction of the criterion brought by that feature.  It is also\n",
      " |      known as the Gini importance.\n",
      " |  \n",
      " |      Warning: impurity-based feature importances can be misleading for\n",
      " |      high cardinality features (many unique values). See\n",
      " |      :func:`sklearn.inspection.permutation_importance` as an alternative.\n",
      " |  \n",
      " |  n_features_in_ : int\n",
      " |      Number of features seen during :term:`fit`.\n",
      " |  \n",
      " |      .. versionadded:: 0.24\n",
      " |  \n",
      " |  feature_names_in_ : ndarray of shape (`n_features_in_`,)\n",
      " |      Names of features seen during :term:`fit`. Defined only when `X`\n",
      " |      has feature names that are all strings.\n",
      " |  \n",
      " |      .. versionadded:: 1.0\n",
      " |  \n",
      " |  n_outputs_ : int\n",
      " |      The number of outputs when ``fit`` is performed.\n",
      " |  \n",
      " |  oob_score_ : float\n",
      " |      Score of the training dataset obtained using an out-of-bag estimate.\n",
      " |      This attribute exists only when ``oob_score`` is True.\n",
      " |  \n",
      " |  oob_prediction_ : ndarray of shape (n_samples,) or (n_samples, n_outputs)\n",
      " |      Prediction computed with out-of-bag estimate on the training set.\n",
      " |      This attribute exists only when ``oob_score`` is True.\n",
      " |  \n",
      " |  See Also\n",
      " |  --------\n",
      " |  sklearn.tree.DecisionTreeRegressor : A decision tree regressor.\n",
      " |  sklearn.ensemble.ExtraTreesRegressor : Ensemble of extremely randomized\n",
      " |      tree regressors.\n",
      " |  sklearn.ensemble.HistGradientBoostingRegressor : A Histogram-based Gradient\n",
      " |      Boosting Regression Tree, very fast for big datasets (n_samples >=\n",
      " |      10_000).\n",
      " |  \n",
      " |  Notes\n",
      " |  -----\n",
      " |  The default values for the parameters controlling the size of the trees\n",
      " |  (e.g. ``max_depth``, ``min_samples_leaf``, etc.) lead to fully grown and\n",
      " |  unpruned trees which can potentially be very large on some data sets. To\n",
      " |  reduce memory consumption, the complexity and size of the trees should be\n",
      " |  controlled by setting those parameter values.\n",
      " |  \n",
      " |  The features are always randomly permuted at each split. Therefore,\n",
      " |  the best found split may vary, even with the same training data,\n",
      " |  ``max_features=n_features`` and ``bootstrap=False``, if the improvement\n",
      " |  of the criterion is identical for several splits enumerated during the\n",
      " |  search of the best split. To obtain a deterministic behaviour during\n",
      " |  fitting, ``random_state`` has to be fixed.\n",
      " |  \n",
      " |  The default value ``max_features=1.0`` uses ``n_features``\n",
      " |  rather than ``n_features / 3``. The latter was originally suggested in\n",
      " |  [1], whereas the former was more recently justified empirically in [2].\n",
      " |  \n",
      " |  References\n",
      " |  ----------\n",
      " |  .. [1] L. Breiman, \"Random Forests\", Machine Learning, 45(1), 5-32, 2001.\n",
      " |  \n",
      " |  .. [2] P. Geurts, D. Ernst., and L. Wehenkel, \"Extremely randomized\n",
      " |         trees\", Machine Learning, 63(1), 3-42, 2006.\n",
      " |  \n",
      " |  Examples\n",
      " |  --------\n",
      " |  >>> from sklearn.ensemble import RandomForestRegressor\n",
      " |  >>> from sklearn.datasets import make_regression\n",
      " |  >>> X, y = make_regression(n_features=4, n_informative=2,\n",
      " |  ...                        random_state=0, shuffle=False)\n",
      " |  >>> regr = RandomForestRegressor(max_depth=2, random_state=0)\n",
      " |  >>> regr.fit(X, y)\n",
      " |  RandomForestRegressor(...)\n",
      " |  >>> print(regr.predict([[0, 0, 0, 0]]))\n",
      " |  [-8.32987858]\n",
      " |  \n",
      " |  Method resolution order:\n",
      " |      RandomForestRegressor\n",
      " |      ForestRegressor\n",
      " |      sklearn.base.RegressorMixin\n",
      " |      BaseForest\n",
      " |      sklearn.base.MultiOutputMixin\n",
      " |      sklearn.ensemble._base.BaseEnsemble\n",
      " |      sklearn.base.MetaEstimatorMixin\n",
      " |      sklearn.base.BaseEstimator\n",
      " |      sklearn.utils._metadata_requests._MetadataRequester\n",
      " |      builtins.object\n",
      " |  \n",
      " |  Methods defined here:\n",
      " |  \n",
      " |  __init__(self, n_estimators=100, *, criterion='squared_error', max_depth=None, min_samples_split=2, min_samples_leaf=1, min_weight_fraction_leaf=0.0, max_features=1.0, max_leaf_nodes=None, min_impurity_decrease=0.0, bootstrap=True, oob_score=False, n_jobs=None, random_state=None, verbose=0, warm_start=False, ccp_alpha=0.0, max_samples=None)\n",
      " |      Initialize self.  See help(type(self)) for accurate signature.\n",
      " |  \n",
      " |  set_fit_request(self: sklearn.ensemble._forest.RandomForestRegressor, *, sample_weight: Union[bool, NoneType, str] = '$UNCHANGED$') -> sklearn.ensemble._forest.RandomForestRegressor\n",
      " |      Request metadata passed to the ``fit`` method.\n",
      " |      \n",
      " |      Note that this method is only relevant if\n",
      " |      ``enable_metadata_routing=True`` (see :func:`sklearn.set_config`).\n",
      " |      Please see :ref:`User Guide <metadata_routing>` on how the routing\n",
      " |      mechanism works.\n",
      " |      \n",
      " |      The options for each parameter are:\n",
      " |      \n",
      " |      - ``True``: metadata is requested, and passed to ``fit`` if provided. The request is ignored if metadata is not provided.\n",
      " |      \n",
      " |      - ``False``: metadata is not requested and the meta-estimator will not pass it to ``fit``.\n",
      " |      \n",
      " |      - ``None``: metadata is not requested, and the meta-estimator will raise an error if the user provides it.\n",
      " |      \n",
      " |      - ``str``: metadata should be passed to the meta-estimator with this given alias instead of the original name.\n",
      " |      \n",
      " |      The default (``sklearn.utils.metadata_routing.UNCHANGED``) retains the\n",
      " |      existing request. This allows you to change the request for some\n",
      " |      parameters and not others.\n",
      " |      \n",
      " |      .. versionadded:: 1.3\n",
      " |      \n",
      " |      .. note::\n",
      " |          This method is only relevant if this estimator is used as a\n",
      " |          sub-estimator of a meta-estimator, e.g. used inside a\n",
      " |          :class:`~sklearn.pipeline.Pipeline`. Otherwise it has no effect.\n",
      " |      \n",
      " |      Parameters\n",
      " |      ----------\n",
      " |      sample_weight : str, True, False, or None,                     default=sklearn.utils.metadata_routing.UNCHANGED\n",
      " |          Metadata routing for ``sample_weight`` parameter in ``fit``.\n",
      " |      \n",
      " |      Returns\n",
      " |      -------\n",
      " |      self : object\n",
      " |          The updated object.\n",
      " |  \n",
      " |  set_score_request(self: sklearn.ensemble._forest.RandomForestRegressor, *, sample_weight: Union[bool, NoneType, str] = '$UNCHANGED$') -> sklearn.ensemble._forest.RandomForestRegressor\n",
      " |      Request metadata passed to the ``score`` method.\n",
      " |      \n",
      " |      Note that this method is only relevant if\n",
      " |      ``enable_metadata_routing=True`` (see :func:`sklearn.set_config`).\n",
      " |      Please see :ref:`User Guide <metadata_routing>` on how the routing\n",
      " |      mechanism works.\n",
      " |      \n",
      " |      The options for each parameter are:\n",
      " |      \n",
      " |      - ``True``: metadata is requested, and passed to ``score`` if provided. The request is ignored if metadata is not provided.\n",
      " |      \n",
      " |      - ``False``: metadata is not requested and the meta-estimator will not pass it to ``score``.\n",
      " |      \n",
      " |      - ``None``: metadata is not requested, and the meta-estimator will raise an error if the user provides it.\n",
      " |      \n",
      " |      - ``str``: metadata should be passed to the meta-estimator with this given alias instead of the original name.\n",
      " |      \n",
      " |      The default (``sklearn.utils.metadata_routing.UNCHANGED``) retains the\n",
      " |      existing request. This allows you to change the request for some\n",
      " |      parameters and not others.\n",
      " |      \n",
      " |      .. versionadded:: 1.3\n",
      " |      \n",
      " |      .. note::\n",
      " |          This method is only relevant if this estimator is used as a\n",
      " |          sub-estimator of a meta-estimator, e.g. used inside a\n",
      " |          :class:`~sklearn.pipeline.Pipeline`. Otherwise it has no effect.\n",
      " |      \n",
      " |      Parameters\n",
      " |      ----------\n",
      " |      sample_weight : str, True, False, or None,                     default=sklearn.utils.metadata_routing.UNCHANGED\n",
      " |          Metadata routing for ``sample_weight`` parameter in ``score``.\n",
      " |      \n",
      " |      Returns\n",
      " |      -------\n",
      " |      self : object\n",
      " |          The updated object.\n",
      " |  \n",
      " |  ----------------------------------------------------------------------\n",
      " |  Data and other attributes defined here:\n",
      " |  \n",
      " |  __abstractmethods__ = frozenset()\n",
      " |  \n",
      " |  __annotations__ = {'_parameter_constraints': <class 'dict'>}\n",
      " |  \n",
      " |  ----------------------------------------------------------------------\n",
      " |  Methods inherited from ForestRegressor:\n",
      " |  \n",
      " |  predict(self, X)\n",
      " |      Predict regression target for X.\n",
      " |      \n",
      " |      The predicted regression target of an input sample is computed as the\n",
      " |      mean predicted regression targets of the trees in the forest.\n",
      " |      \n",
      " |      Parameters\n",
      " |      ----------\n",
      " |      X : {array-like, sparse matrix} of shape (n_samples, n_features)\n",
      " |          The input samples. Internally, its dtype will be converted to\n",
      " |          ``dtype=np.float32``. If a sparse matrix is provided, it will be\n",
      " |          converted into a sparse ``csr_matrix``.\n",
      " |      \n",
      " |      Returns\n",
      " |      -------\n",
      " |      y : ndarray of shape (n_samples,) or (n_samples, n_outputs)\n",
      " |          The predicted values.\n",
      " |  \n",
      " |  ----------------------------------------------------------------------\n",
      " |  Methods inherited from sklearn.base.RegressorMixin:\n",
      " |  \n",
      " |  score(self, X, y, sample_weight=None)\n",
      " |      Return the coefficient of determination of the prediction.\n",
      " |      \n",
      " |      The coefficient of determination :math:`R^2` is defined as\n",
      " |      :math:`(1 - \\frac{u}{v})`, where :math:`u` is the residual\n",
      " |      sum of squares ``((y_true - y_pred)** 2).sum()`` and :math:`v`\n",
      " |      is the total sum of squares ``((y_true - y_true.mean()) ** 2).sum()``.\n",
      " |      The best possible score is 1.0 and it can be negative (because the\n",
      " |      model can be arbitrarily worse). A constant model that always predicts\n",
      " |      the expected value of `y`, disregarding the input features, would get\n",
      " |      a :math:`R^2` score of 0.0.\n",
      " |      \n",
      " |      Parameters\n",
      " |      ----------\n",
      " |      X : array-like of shape (n_samples, n_features)\n",
      " |          Test samples. For some estimators this may be a precomputed\n",
      " |          kernel matrix or a list of generic objects instead with shape\n",
      " |          ``(n_samples, n_samples_fitted)``, where ``n_samples_fitted``\n",
      " |          is the number of samples used in the fitting for the estimator.\n",
      " |      \n",
      " |      y : array-like of shape (n_samples,) or (n_samples, n_outputs)\n",
      " |          True values for `X`.\n",
      " |      \n",
      " |      sample_weight : array-like of shape (n_samples,), default=None\n",
      " |          Sample weights.\n",
      " |      \n",
      " |      Returns\n",
      " |      -------\n",
      " |      score : float\n",
      " |          :math:`R^2` of ``self.predict(X)`` w.r.t. `y`.\n",
      " |      \n",
      " |      Notes\n",
      " |      -----\n",
      " |      The :math:`R^2` score used when calling ``score`` on a regressor uses\n",
      " |      ``multioutput='uniform_average'`` from version 0.23 to keep consistent\n",
      " |      with default value of :func:`~sklearn.metrics.r2_score`.\n",
      " |      This influences the ``score`` method of all the multioutput\n",
      " |      regressors (except for\n",
      " |      :class:`~sklearn.multioutput.MultiOutputRegressor`).\n",
      " |  \n",
      " |  ----------------------------------------------------------------------\n",
      " |  Data descriptors inherited from sklearn.base.RegressorMixin:\n",
      " |  \n",
      " |  __dict__\n",
      " |      dictionary for instance variables (if defined)\n",
      " |  \n",
      " |  __weakref__\n",
      " |      list of weak references to the object (if defined)\n",
      " |  \n",
      " |  ----------------------------------------------------------------------\n",
      " |  Methods inherited from BaseForest:\n",
      " |  \n",
      " |  apply(self, X)\n",
      " |      Apply trees in the forest to X, return leaf indices.\n",
      " |      \n",
      " |      Parameters\n",
      " |      ----------\n",
      " |      X : {array-like, sparse matrix} of shape (n_samples, n_features)\n",
      " |          The input samples. Internally, its dtype will be converted to\n",
      " |          ``dtype=np.float32``. If a sparse matrix is provided, it will be\n",
      " |          converted into a sparse ``csr_matrix``.\n",
      " |      \n",
      " |      Returns\n",
      " |      -------\n",
      " |      X_leaves : ndarray of shape (n_samples, n_estimators)\n",
      " |          For each datapoint x in X and for each tree in the forest,\n",
      " |          return the index of the leaf x ends up in.\n",
      " |  \n",
      " |  decision_path(self, X)\n",
      " |      Return the decision path in the forest.\n",
      " |      \n",
      " |      .. versionadded:: 0.18\n",
      " |      \n",
      " |      Parameters\n",
      " |      ----------\n",
      " |      X : {array-like, sparse matrix} of shape (n_samples, n_features)\n",
      " |          The input samples. Internally, its dtype will be converted to\n",
      " |          ``dtype=np.float32``. If a sparse matrix is provided, it will be\n",
      " |          converted into a sparse ``csr_matrix``.\n",
      " |      \n",
      " |      Returns\n",
      " |      -------\n",
      " |      indicator : sparse matrix of shape (n_samples, n_nodes)\n",
      " |          Return a node indicator matrix where non zero elements indicates\n",
      " |          that the samples goes through the nodes. The matrix is of CSR\n",
      " |          format.\n",
      " |      \n",
      " |      n_nodes_ptr : ndarray of shape (n_estimators + 1,)\n",
      " |          The columns from indicator[n_nodes_ptr[i]:n_nodes_ptr[i+1]]\n",
      " |          gives the indicator value for the i-th estimator.\n",
      " |  \n",
      " |  fit(self, X, y, sample_weight=None)\n",
      " |      Build a forest of trees from the training set (X, y).\n",
      " |      \n",
      " |      Parameters\n",
      " |      ----------\n",
      " |      X : {array-like, sparse matrix} of shape (n_samples, n_features)\n",
      " |          The training input samples. Internally, its dtype will be converted\n",
      " |          to ``dtype=np.float32``. If a sparse matrix is provided, it will be\n",
      " |          converted into a sparse ``csc_matrix``.\n",
      " |      \n",
      " |      y : array-like of shape (n_samples,) or (n_samples, n_outputs)\n",
      " |          The target values (class labels in classification, real numbers in\n",
      " |          regression).\n",
      " |      \n",
      " |      sample_weight : array-like of shape (n_samples,), default=None\n",
      " |          Sample weights. If None, then samples are equally weighted. Splits\n",
      " |          that would create child nodes with net zero or negative weight are\n",
      " |          ignored while searching for a split in each node. In the case of\n",
      " |          classification, splits are also ignored if they would result in any\n",
      " |          single class carrying a negative weight in either child node.\n",
      " |      \n",
      " |      Returns\n",
      " |      -------\n",
      " |      self : object\n",
      " |          Fitted estimator.\n",
      " |  \n",
      " |  ----------------------------------------------------------------------\n",
      " |  Readonly properties inherited from BaseForest:\n",
      " |  \n",
      " |  feature_importances_\n",
      " |      The impurity-based feature importances.\n",
      " |      \n",
      " |      The higher, the more important the feature.\n",
      " |      The importance of a feature is computed as the (normalized)\n",
      " |      total reduction of the criterion brought by that feature.  It is also\n",
      " |      known as the Gini importance.\n",
      " |      \n",
      " |      Warning: impurity-based feature importances can be misleading for\n",
      " |      high cardinality features (many unique values). See\n",
      " |      :func:`sklearn.inspection.permutation_importance` as an alternative.\n",
      " |      \n",
      " |      Returns\n",
      " |      -------\n",
      " |      feature_importances_ : ndarray of shape (n_features,)\n",
      " |          The values of this array sum to 1, unless all trees are single node\n",
      " |          trees consisting of only the root node, in which case it will be an\n",
      " |          array of zeros.\n",
      " |  \n",
      " |  ----------------------------------------------------------------------\n",
      " |  Methods inherited from sklearn.ensemble._base.BaseEnsemble:\n",
      " |  \n",
      " |  __getitem__(self, index)\n",
      " |      Return the index'th estimator in the ensemble.\n",
      " |  \n",
      " |  __iter__(self)\n",
      " |      Return iterator over estimators in the ensemble.\n",
      " |  \n",
      " |  __len__(self)\n",
      " |      Return the number of estimators in the ensemble.\n",
      " |  \n",
      " |  ----------------------------------------------------------------------\n",
      " |  Readonly properties inherited from sklearn.ensemble._base.BaseEnsemble:\n",
      " |  \n",
      " |  base_estimator_\n",
      " |      Estimator used to grow the ensemble.\n",
      " |  \n",
      " |  ----------------------------------------------------------------------\n",
      " |  Methods inherited from sklearn.base.BaseEstimator:\n",
      " |  \n",
      " |  __getstate__(self)\n",
      " |  \n",
      " |  __repr__(self, N_CHAR_MAX=700)\n",
      " |      Return repr(self).\n",
      " |  \n",
      " |  __setstate__(self, state)\n",
      " |  \n",
      " |  __sklearn_clone__(self)\n",
      " |  \n",
      " |  get_params(self, deep=True)\n",
      " |      Get parameters for this estimator.\n",
      " |      \n",
      " |      Parameters\n",
      " |      ----------\n",
      " |      deep : bool, default=True\n",
      " |          If True, will return the parameters for this estimator and\n",
      " |          contained subobjects that are estimators.\n",
      " |      \n",
      " |      Returns\n",
      " |      -------\n",
      " |      params : dict\n",
      " |          Parameter names mapped to their values.\n",
      " |  \n",
      " |  set_params(self, **params)\n",
      " |      Set the parameters of this estimator.\n",
      " |      \n",
      " |      The method works on simple estimators as well as on nested objects\n",
      " |      (such as :class:`~sklearn.pipeline.Pipeline`). The latter have\n",
      " |      parameters of the form ``<component>__<parameter>`` so that it's\n",
      " |      possible to update each component of a nested object.\n",
      " |      \n",
      " |      Parameters\n",
      " |      ----------\n",
      " |      **params : dict\n",
      " |          Estimator parameters.\n",
      " |      \n",
      " |      Returns\n",
      " |      -------\n",
      " |      self : estimator instance\n",
      " |          Estimator instance.\n",
      " |  \n",
      " |  ----------------------------------------------------------------------\n",
      " |  Methods inherited from sklearn.utils._metadata_requests._MetadataRequester:\n",
      " |  \n",
      " |  get_metadata_routing(self)\n",
      " |      Get metadata routing of this object.\n",
      " |      \n",
      " |      Please check :ref:`User Guide <metadata_routing>` on how the routing\n",
      " |      mechanism works.\n",
      " |      \n",
      " |      Returns\n",
      " |      -------\n",
      " |      routing : MetadataRequest\n",
      " |          A :class:`~sklearn.utils.metadata_routing.MetadataRequest` encapsulating\n",
      " |          routing information.\n",
      " |  \n",
      " |  ----------------------------------------------------------------------\n",
      " |  Class methods inherited from sklearn.utils._metadata_requests._MetadataRequester:\n",
      " |  \n",
      " |  __init_subclass__(**kwargs) from abc.ABCMeta\n",
      " |      Set the ``set_{method}_request`` methods.\n",
      " |      \n",
      " |      This uses PEP-487 [1]_ to set the ``set_{method}_request`` methods. It\n",
      " |      looks for the information available in the set default values which are\n",
      " |      set using ``__metadata_request__*`` class attributes, or inferred\n",
      " |      from method signatures.\n",
      " |      \n",
      " |      The ``__metadata_request__*`` class attributes are used when a method\n",
      " |      does not explicitly accept a metadata through its arguments or if the\n",
      " |      developer would like to specify a request value for those metadata\n",
      " |      which are different from the default ``None``.\n",
      " |      \n",
      " |      References\n",
      " |      ----------\n",
      " |      .. [1] https://www.python.org/dev/peps/pep-0487\n",
      "\n"
     ]
    }
   ],
   "source": [
    "help(RandomForestRegressor)"
   ]
  },
  {
   "cell_type": "code",
   "execution_count": 308,
   "id": "a7c2a43c-323e-4e74-92be-e2c59f772903",
   "metadata": {},
   "outputs": [],
   "source": [
    "rf1 = RandomForestRegressor(n_estimators=20, max_depth=5)"
   ]
  },
  {
   "cell_type": "code",
   "execution_count": 310,
   "id": "7badd94e-d4d3-408a-bae7-8cfff13ce163",
   "metadata": {},
   "outputs": [],
   "source": [
    "X = df[[' Weekday', ' Hour', ' Klout']]"
   ]
  },
  {
   "cell_type": "code",
   "execution_count": 311,
   "id": "82fbd5ce-a797-4a94-b825-d2c917545197",
   "metadata": {},
   "outputs": [],
   "source": [
    "y = df['log_Reach']"
   ]
  },
  {
   "cell_type": "code",
   "execution_count": 320,
   "id": "9b8693ee-2e02-4929-9c9c-13a3e69423b0",
   "metadata": {},
   "outputs": [
    {
     "data": {
      "text/html": [
       "<div>\n",
       "<style scoped>\n",
       "    .dataframe tbody tr th:only-of-type {\n",
       "        vertical-align: middle;\n",
       "    }\n",
       "\n",
       "    .dataframe tbody tr th {\n",
       "        vertical-align: top;\n",
       "    }\n",
       "\n",
       "    .dataframe thead th {\n",
       "        text-align: right;\n",
       "    }\n",
       "</style>\n",
       "<table border=\"1\" class=\"dataframe\">\n",
       "  <thead>\n",
       "    <tr style=\"text-align: right;\">\n",
       "      <th></th>\n",
       "      <th>Weekday</th>\n",
       "      <th>Hour</th>\n",
       "      <th>Klout</th>\n",
       "    </tr>\n",
       "  </thead>\n",
       "  <tbody>\n",
       "    <tr>\n",
       "      <th>0</th>\n",
       "      <td>Thursday</td>\n",
       "      <td>17</td>\n",
       "      <td>35.0</td>\n",
       "    </tr>\n",
       "    <tr>\n",
       "      <th>1</th>\n",
       "      <td>Thursday</td>\n",
       "      <td>17</td>\n",
       "      <td>53.0</td>\n",
       "    </tr>\n",
       "  </tbody>\n",
       "</table>\n",
       "</div>"
      ],
      "text/plain": [
       "    Weekday   Hour   Klout\n",
       "0  Thursday     17    35.0\n",
       "1  Thursday     17    53.0"
      ]
     },
     "execution_count": 320,
     "metadata": {},
     "output_type": "execute_result"
    }
   ],
   "source": [
    "X.head(2)"
   ]
  },
  {
   "cell_type": "code",
   "execution_count": 324,
   "id": "95c05bf0-b624-44f3-b002-93eead51a3b0",
   "metadata": {},
   "outputs": [],
   "source": [
    "enc = OneHotEncoder(handle_unknown='ignore', sparse_output=False)"
   ]
  },
  {
   "cell_type": "code",
   "execution_count": 325,
   "id": "45c5b2e4-451e-4254-9164-0eb1610a7ced",
   "metadata": {},
   "outputs": [
    {
     "data": {
      "text/html": [
       "<style>#sk-container-id-4 {color: black;}#sk-container-id-4 pre{padding: 0;}#sk-container-id-4 div.sk-toggleable {background-color: white;}#sk-container-id-4 label.sk-toggleable__label {cursor: pointer;display: block;width: 100%;margin-bottom: 0;padding: 0.3em;box-sizing: border-box;text-align: center;}#sk-container-id-4 label.sk-toggleable__label-arrow:before {content: \"▸\";float: left;margin-right: 0.25em;color: #696969;}#sk-container-id-4 label.sk-toggleable__label-arrow:hover:before {color: black;}#sk-container-id-4 div.sk-estimator:hover label.sk-toggleable__label-arrow:before {color: black;}#sk-container-id-4 div.sk-toggleable__content {max-height: 0;max-width: 0;overflow: hidden;text-align: left;background-color: #f0f8ff;}#sk-container-id-4 div.sk-toggleable__content pre {margin: 0.2em;color: black;border-radius: 0.25em;background-color: #f0f8ff;}#sk-container-id-4 input.sk-toggleable__control:checked~div.sk-toggleable__content {max-height: 200px;max-width: 100%;overflow: auto;}#sk-container-id-4 input.sk-toggleable__control:checked~label.sk-toggleable__label-arrow:before {content: \"▾\";}#sk-container-id-4 div.sk-estimator input.sk-toggleable__control:checked~label.sk-toggleable__label {background-color: #d4ebff;}#sk-container-id-4 div.sk-label input.sk-toggleable__control:checked~label.sk-toggleable__label {background-color: #d4ebff;}#sk-container-id-4 input.sk-hidden--visually {border: 0;clip: rect(1px 1px 1px 1px);clip: rect(1px, 1px, 1px, 1px);height: 1px;margin: -1px;overflow: hidden;padding: 0;position: absolute;width: 1px;}#sk-container-id-4 div.sk-estimator {font-family: monospace;background-color: #f0f8ff;border: 1px dotted black;border-radius: 0.25em;box-sizing: border-box;margin-bottom: 0.5em;}#sk-container-id-4 div.sk-estimator:hover {background-color: #d4ebff;}#sk-container-id-4 div.sk-parallel-item::after {content: \"\";width: 100%;border-bottom: 1px solid gray;flex-grow: 1;}#sk-container-id-4 div.sk-label:hover label.sk-toggleable__label {background-color: #d4ebff;}#sk-container-id-4 div.sk-serial::before {content: \"\";position: absolute;border-left: 1px solid gray;box-sizing: border-box;top: 0;bottom: 0;left: 50%;z-index: 0;}#sk-container-id-4 div.sk-serial {display: flex;flex-direction: column;align-items: center;background-color: white;padding-right: 0.2em;padding-left: 0.2em;position: relative;}#sk-container-id-4 div.sk-item {position: relative;z-index: 1;}#sk-container-id-4 div.sk-parallel {display: flex;align-items: stretch;justify-content: center;background-color: white;position: relative;}#sk-container-id-4 div.sk-item::before, #sk-container-id-4 div.sk-parallel-item::before {content: \"\";position: absolute;border-left: 1px solid gray;box-sizing: border-box;top: 0;bottom: 0;left: 50%;z-index: -1;}#sk-container-id-4 div.sk-parallel-item {display: flex;flex-direction: column;z-index: 1;position: relative;background-color: white;}#sk-container-id-4 div.sk-parallel-item:first-child::after {align-self: flex-end;width: 50%;}#sk-container-id-4 div.sk-parallel-item:last-child::after {align-self: flex-start;width: 50%;}#sk-container-id-4 div.sk-parallel-item:only-child::after {width: 0;}#sk-container-id-4 div.sk-dashed-wrapped {border: 1px dashed gray;margin: 0 0.4em 0.5em 0.4em;box-sizing: border-box;padding-bottom: 0.4em;background-color: white;}#sk-container-id-4 div.sk-label label {font-family: monospace;font-weight: bold;display: inline-block;line-height: 1.2em;}#sk-container-id-4 div.sk-label-container {text-align: center;}#sk-container-id-4 div.sk-container {/* jupyter's `normalize.less` sets `[hidden] { display: none; }` but bootstrap.min.css set `[hidden] { display: none !important; }` so we also need the `!important` here to be able to override the default hidden behavior on the sphinx rendered scikit-learn.org. See: https://github.com/scikit-learn/scikit-learn/issues/21755 */display: inline-block !important;position: relative;}#sk-container-id-4 div.sk-text-repr-fallback {display: none;}</style><div id=\"sk-container-id-4\" class=\"sk-top-container\"><div class=\"sk-text-repr-fallback\"><pre>OneHotEncoder(handle_unknown=&#x27;ignore&#x27;, sparse_output=False)</pre><b>In a Jupyter environment, please rerun this cell to show the HTML representation or trust the notebook. <br />On GitHub, the HTML representation is unable to render, please try loading this page with nbviewer.org.</b></div><div class=\"sk-container\" hidden><div class=\"sk-item\"><div class=\"sk-estimator sk-toggleable\"><input class=\"sk-toggleable__control sk-hidden--visually\" id=\"sk-estimator-id-4\" type=\"checkbox\" checked><label for=\"sk-estimator-id-4\" class=\"sk-toggleable__label sk-toggleable__label-arrow\">OneHotEncoder</label><div class=\"sk-toggleable__content\"><pre>OneHotEncoder(handle_unknown=&#x27;ignore&#x27;, sparse_output=False)</pre></div></div></div></div></div>"
      ],
      "text/plain": [
       "OneHotEncoder(handle_unknown='ignore', sparse_output=False)"
      ]
     },
     "execution_count": 325,
     "metadata": {},
     "output_type": "execute_result"
    }
   ],
   "source": [
    "enc.fit(X[[' Weekday', ' Hour']])"
   ]
  },
  {
   "cell_type": "code",
   "execution_count": 356,
   "id": "73feec39-cc67-43c8-9e76-521bbec1822f",
   "metadata": {},
   "outputs": [
    {
     "data": {
      "text/plain": [
       "{'categories': 'auto',\n",
       " 'sparse': 'deprecated',\n",
       " 'sparse_output': False,\n",
       " 'dtype': numpy.float64,\n",
       " 'handle_unknown': 'ignore',\n",
       " 'drop': None,\n",
       " 'min_frequency': None,\n",
       " 'max_categories': None,\n",
       " 'feature_name_combiner': 'concat',\n",
       " '_infrequent_enabled': False,\n",
       " 'n_features_in_': 2,\n",
       " 'feature_names_in_': array([' Weekday', ' Hour'], dtype=object),\n",
       " 'categories_': [array(['Friday', 'Monday', 'Saturday', 'Sunday', 'Thursday', 'Tuesday',\n",
       "         'Wednesday'], dtype=object),\n",
       "  array([ 0,  1,  2,  3,  4,  5,  6,  7,  8,  9, 10, 11, 12, 13, 14, 15, 16,\n",
       "         17, 18, 19, 20, 21, 22, 23])],\n",
       " '_drop_idx_after_grouping': None,\n",
       " 'drop_idx_': None,\n",
       " '_n_features_outs': [7, 24]}"
      ]
     },
     "execution_count": 356,
     "metadata": {},
     "output_type": "execute_result"
    }
   ],
   "source": [
    "vars(enc)"
   ]
  },
  {
   "cell_type": "code",
   "execution_count": null,
   "id": "e3b6660c-7a00-4fa6-a334-03dac3698798",
   "metadata": {},
   "outputs": [],
   "source": []
  },
  {
   "cell_type": "code",
   "execution_count": 327,
   "id": "4aa2e7ab-2ae2-4bbc-8c82-71ce7fe3629b",
   "metadata": {},
   "outputs": [],
   "source": [
    "X_transformed = pd.concat([pd.DataFrame(enc.transform(X[[' Weekday', ' Hour']])), X[' Klout']], axis=1)"
   ]
  },
  {
   "cell_type": "code",
   "execution_count": 332,
   "id": "eb61482a-ada9-4b14-9ce4-e3387c5137e0",
   "metadata": {},
   "outputs": [],
   "source": [
    "X_transformed.columns = list(enc.get_feature_names_out([' Weekday', ' Hour'])) + [' Klout']"
   ]
  },
  {
   "cell_type": "code",
   "execution_count": 333,
   "id": "e4b6c4ef-af90-4d62-a111-0338063f7f7b",
   "metadata": {},
   "outputs": [
    {
     "data": {
      "text/html": [
       "<div>\n",
       "<style scoped>\n",
       "    .dataframe tbody tr th:only-of-type {\n",
       "        vertical-align: middle;\n",
       "    }\n",
       "\n",
       "    .dataframe tbody tr th {\n",
       "        vertical-align: top;\n",
       "    }\n",
       "\n",
       "    .dataframe thead th {\n",
       "        text-align: right;\n",
       "    }\n",
       "</style>\n",
       "<table border=\"1\" class=\"dataframe\">\n",
       "  <thead>\n",
       "    <tr style=\"text-align: right;\">\n",
       "      <th></th>\n",
       "      <th>Weekday_Friday</th>\n",
       "      <th>Weekday_Monday</th>\n",
       "      <th>Weekday_Saturday</th>\n",
       "      <th>Weekday_Sunday</th>\n",
       "      <th>Weekday_Thursday</th>\n",
       "      <th>Weekday_Tuesday</th>\n",
       "      <th>Weekday_Wednesday</th>\n",
       "      <th>Hour_0</th>\n",
       "      <th>Hour_1</th>\n",
       "      <th>Hour_2</th>\n",
       "      <th>...</th>\n",
       "      <th>Hour_15</th>\n",
       "      <th>Hour_16</th>\n",
       "      <th>Hour_17</th>\n",
       "      <th>Hour_18</th>\n",
       "      <th>Hour_19</th>\n",
       "      <th>Hour_20</th>\n",
       "      <th>Hour_21</th>\n",
       "      <th>Hour_22</th>\n",
       "      <th>Hour_23</th>\n",
       "      <th>Klout</th>\n",
       "    </tr>\n",
       "  </thead>\n",
       "  <tbody>\n",
       "    <tr>\n",
       "      <th>0</th>\n",
       "      <td>0.0</td>\n",
       "      <td>0.0</td>\n",
       "      <td>0.0</td>\n",
       "      <td>0.0</td>\n",
       "      <td>1.0</td>\n",
       "      <td>0.0</td>\n",
       "      <td>0.0</td>\n",
       "      <td>0.0</td>\n",
       "      <td>0.0</td>\n",
       "      <td>0.0</td>\n",
       "      <td>...</td>\n",
       "      <td>0.0</td>\n",
       "      <td>0.0</td>\n",
       "      <td>1.0</td>\n",
       "      <td>0.0</td>\n",
       "      <td>0.0</td>\n",
       "      <td>0.0</td>\n",
       "      <td>0.0</td>\n",
       "      <td>0.0</td>\n",
       "      <td>0.0</td>\n",
       "      <td>35.0</td>\n",
       "    </tr>\n",
       "    <tr>\n",
       "      <th>1</th>\n",
       "      <td>0.0</td>\n",
       "      <td>0.0</td>\n",
       "      <td>0.0</td>\n",
       "      <td>0.0</td>\n",
       "      <td>1.0</td>\n",
       "      <td>0.0</td>\n",
       "      <td>0.0</td>\n",
       "      <td>0.0</td>\n",
       "      <td>0.0</td>\n",
       "      <td>0.0</td>\n",
       "      <td>...</td>\n",
       "      <td>0.0</td>\n",
       "      <td>0.0</td>\n",
       "      <td>1.0</td>\n",
       "      <td>0.0</td>\n",
       "      <td>0.0</td>\n",
       "      <td>0.0</td>\n",
       "      <td>0.0</td>\n",
       "      <td>0.0</td>\n",
       "      <td>0.0</td>\n",
       "      <td>53.0</td>\n",
       "    </tr>\n",
       "    <tr>\n",
       "      <th>2</th>\n",
       "      <td>0.0</td>\n",
       "      <td>0.0</td>\n",
       "      <td>0.0</td>\n",
       "      <td>0.0</td>\n",
       "      <td>1.0</td>\n",
       "      <td>0.0</td>\n",
       "      <td>0.0</td>\n",
       "      <td>0.0</td>\n",
       "      <td>0.0</td>\n",
       "      <td>0.0</td>\n",
       "      <td>...</td>\n",
       "      <td>0.0</td>\n",
       "      <td>0.0</td>\n",
       "      <td>1.0</td>\n",
       "      <td>0.0</td>\n",
       "      <td>0.0</td>\n",
       "      <td>0.0</td>\n",
       "      <td>0.0</td>\n",
       "      <td>0.0</td>\n",
       "      <td>0.0</td>\n",
       "      <td>47.0</td>\n",
       "    </tr>\n",
       "    <tr>\n",
       "      <th>3</th>\n",
       "      <td>0.0</td>\n",
       "      <td>0.0</td>\n",
       "      <td>0.0</td>\n",
       "      <td>0.0</td>\n",
       "      <td>1.0</td>\n",
       "      <td>0.0</td>\n",
       "      <td>0.0</td>\n",
       "      <td>0.0</td>\n",
       "      <td>0.0</td>\n",
       "      <td>0.0</td>\n",
       "      <td>...</td>\n",
       "      <td>0.0</td>\n",
       "      <td>0.0</td>\n",
       "      <td>1.0</td>\n",
       "      <td>0.0</td>\n",
       "      <td>0.0</td>\n",
       "      <td>0.0</td>\n",
       "      <td>0.0</td>\n",
       "      <td>0.0</td>\n",
       "      <td>0.0</td>\n",
       "      <td>53.0</td>\n",
       "    </tr>\n",
       "    <tr>\n",
       "      <th>4</th>\n",
       "      <td>0.0</td>\n",
       "      <td>0.0</td>\n",
       "      <td>0.0</td>\n",
       "      <td>0.0</td>\n",
       "      <td>1.0</td>\n",
       "      <td>0.0</td>\n",
       "      <td>0.0</td>\n",
       "      <td>0.0</td>\n",
       "      <td>0.0</td>\n",
       "      <td>0.0</td>\n",
       "      <td>...</td>\n",
       "      <td>0.0</td>\n",
       "      <td>0.0</td>\n",
       "      <td>1.0</td>\n",
       "      <td>0.0</td>\n",
       "      <td>0.0</td>\n",
       "      <td>0.0</td>\n",
       "      <td>0.0</td>\n",
       "      <td>0.0</td>\n",
       "      <td>0.0</td>\n",
       "      <td>47.0</td>\n",
       "    </tr>\n",
       "    <tr>\n",
       "      <th>...</th>\n",
       "      <td>...</td>\n",
       "      <td>...</td>\n",
       "      <td>...</td>\n",
       "      <td>...</td>\n",
       "      <td>...</td>\n",
       "      <td>...</td>\n",
       "      <td>...</td>\n",
       "      <td>...</td>\n",
       "      <td>...</td>\n",
       "      <td>...</td>\n",
       "      <td>...</td>\n",
       "      <td>...</td>\n",
       "      <td>...</td>\n",
       "      <td>...</td>\n",
       "      <td>...</td>\n",
       "      <td>...</td>\n",
       "      <td>...</td>\n",
       "      <td>...</td>\n",
       "      <td>...</td>\n",
       "      <td>...</td>\n",
       "      <td>...</td>\n",
       "    </tr>\n",
       "    <tr>\n",
       "      <th>86187</th>\n",
       "      <td>0.0</td>\n",
       "      <td>0.0</td>\n",
       "      <td>1.0</td>\n",
       "      <td>0.0</td>\n",
       "      <td>0.0</td>\n",
       "      <td>0.0</td>\n",
       "      <td>0.0</td>\n",
       "      <td>0.0</td>\n",
       "      <td>0.0</td>\n",
       "      <td>0.0</td>\n",
       "      <td>...</td>\n",
       "      <td>0.0</td>\n",
       "      <td>0.0</td>\n",
       "      <td>0.0</td>\n",
       "      <td>0.0</td>\n",
       "      <td>0.0</td>\n",
       "      <td>0.0</td>\n",
       "      <td>0.0</td>\n",
       "      <td>0.0</td>\n",
       "      <td>0.0</td>\n",
       "      <td>44.0</td>\n",
       "    </tr>\n",
       "    <tr>\n",
       "      <th>86188</th>\n",
       "      <td>0.0</td>\n",
       "      <td>0.0</td>\n",
       "      <td>1.0</td>\n",
       "      <td>0.0</td>\n",
       "      <td>0.0</td>\n",
       "      <td>0.0</td>\n",
       "      <td>0.0</td>\n",
       "      <td>0.0</td>\n",
       "      <td>0.0</td>\n",
       "      <td>0.0</td>\n",
       "      <td>...</td>\n",
       "      <td>0.0</td>\n",
       "      <td>0.0</td>\n",
       "      <td>0.0</td>\n",
       "      <td>0.0</td>\n",
       "      <td>0.0</td>\n",
       "      <td>0.0</td>\n",
       "      <td>0.0</td>\n",
       "      <td>0.0</td>\n",
       "      <td>0.0</td>\n",
       "      <td>29.0</td>\n",
       "    </tr>\n",
       "    <tr>\n",
       "      <th>86189</th>\n",
       "      <td>0.0</td>\n",
       "      <td>0.0</td>\n",
       "      <td>1.0</td>\n",
       "      <td>0.0</td>\n",
       "      <td>0.0</td>\n",
       "      <td>0.0</td>\n",
       "      <td>0.0</td>\n",
       "      <td>0.0</td>\n",
       "      <td>0.0</td>\n",
       "      <td>0.0</td>\n",
       "      <td>...</td>\n",
       "      <td>0.0</td>\n",
       "      <td>0.0</td>\n",
       "      <td>0.0</td>\n",
       "      <td>0.0</td>\n",
       "      <td>0.0</td>\n",
       "      <td>0.0</td>\n",
       "      <td>0.0</td>\n",
       "      <td>0.0</td>\n",
       "      <td>0.0</td>\n",
       "      <td>17.0</td>\n",
       "    </tr>\n",
       "    <tr>\n",
       "      <th>86190</th>\n",
       "      <td>0.0</td>\n",
       "      <td>0.0</td>\n",
       "      <td>1.0</td>\n",
       "      <td>0.0</td>\n",
       "      <td>0.0</td>\n",
       "      <td>0.0</td>\n",
       "      <td>0.0</td>\n",
       "      <td>0.0</td>\n",
       "      <td>0.0</td>\n",
       "      <td>0.0</td>\n",
       "      <td>...</td>\n",
       "      <td>0.0</td>\n",
       "      <td>0.0</td>\n",
       "      <td>0.0</td>\n",
       "      <td>0.0</td>\n",
       "      <td>0.0</td>\n",
       "      <td>0.0</td>\n",
       "      <td>0.0</td>\n",
       "      <td>0.0</td>\n",
       "      <td>0.0</td>\n",
       "      <td>42.0</td>\n",
       "    </tr>\n",
       "    <tr>\n",
       "      <th>86191</th>\n",
       "      <td>0.0</td>\n",
       "      <td>0.0</td>\n",
       "      <td>1.0</td>\n",
       "      <td>0.0</td>\n",
       "      <td>0.0</td>\n",
       "      <td>0.0</td>\n",
       "      <td>0.0</td>\n",
       "      <td>0.0</td>\n",
       "      <td>0.0</td>\n",
       "      <td>0.0</td>\n",
       "      <td>...</td>\n",
       "      <td>0.0</td>\n",
       "      <td>0.0</td>\n",
       "      <td>0.0</td>\n",
       "      <td>0.0</td>\n",
       "      <td>0.0</td>\n",
       "      <td>0.0</td>\n",
       "      <td>0.0</td>\n",
       "      <td>0.0</td>\n",
       "      <td>0.0</td>\n",
       "      <td>34.0</td>\n",
       "    </tr>\n",
       "  </tbody>\n",
       "</table>\n",
       "<p>86192 rows × 32 columns</p>\n",
       "</div>"
      ],
      "text/plain": [
       "        Weekday_Friday   Weekday_Monday   Weekday_Saturday   Weekday_Sunday  \\\n",
       "0                  0.0              0.0                0.0              0.0   \n",
       "1                  0.0              0.0                0.0              0.0   \n",
       "2                  0.0              0.0                0.0              0.0   \n",
       "3                  0.0              0.0                0.0              0.0   \n",
       "4                  0.0              0.0                0.0              0.0   \n",
       "...                ...              ...                ...              ...   \n",
       "86187              0.0              0.0                1.0              0.0   \n",
       "86188              0.0              0.0                1.0              0.0   \n",
       "86189              0.0              0.0                1.0              0.0   \n",
       "86190              0.0              0.0                1.0              0.0   \n",
       "86191              0.0              0.0                1.0              0.0   \n",
       "\n",
       "        Weekday_Thursday   Weekday_Tuesday   Weekday_Wednesday   Hour_0  \\\n",
       "0                    1.0               0.0                 0.0      0.0   \n",
       "1                    1.0               0.0                 0.0      0.0   \n",
       "2                    1.0               0.0                 0.0      0.0   \n",
       "3                    1.0               0.0                 0.0      0.0   \n",
       "4                    1.0               0.0                 0.0      0.0   \n",
       "...                  ...               ...                 ...      ...   \n",
       "86187                0.0               0.0                 0.0      0.0   \n",
       "86188                0.0               0.0                 0.0      0.0   \n",
       "86189                0.0               0.0                 0.0      0.0   \n",
       "86190                0.0               0.0                 0.0      0.0   \n",
       "86191                0.0               0.0                 0.0      0.0   \n",
       "\n",
       "        Hour_1   Hour_2  ...   Hour_15   Hour_16   Hour_17   Hour_18  \\\n",
       "0          0.0      0.0  ...       0.0       0.0       1.0       0.0   \n",
       "1          0.0      0.0  ...       0.0       0.0       1.0       0.0   \n",
       "2          0.0      0.0  ...       0.0       0.0       1.0       0.0   \n",
       "3          0.0      0.0  ...       0.0       0.0       1.0       0.0   \n",
       "4          0.0      0.0  ...       0.0       0.0       1.0       0.0   \n",
       "...        ...      ...  ...       ...       ...       ...       ...   \n",
       "86187      0.0      0.0  ...       0.0       0.0       0.0       0.0   \n",
       "86188      0.0      0.0  ...       0.0       0.0       0.0       0.0   \n",
       "86189      0.0      0.0  ...       0.0       0.0       0.0       0.0   \n",
       "86190      0.0      0.0  ...       0.0       0.0       0.0       0.0   \n",
       "86191      0.0      0.0  ...       0.0       0.0       0.0       0.0   \n",
       "\n",
       "        Hour_19   Hour_20   Hour_21   Hour_22   Hour_23   Klout  \n",
       "0           0.0       0.0       0.0       0.0       0.0    35.0  \n",
       "1           0.0       0.0       0.0       0.0       0.0    53.0  \n",
       "2           0.0       0.0       0.0       0.0       0.0    47.0  \n",
       "3           0.0       0.0       0.0       0.0       0.0    53.0  \n",
       "4           0.0       0.0       0.0       0.0       0.0    47.0  \n",
       "...         ...       ...       ...       ...       ...     ...  \n",
       "86187       0.0       0.0       0.0       0.0       0.0    44.0  \n",
       "86188       0.0       0.0       0.0       0.0       0.0    29.0  \n",
       "86189       0.0       0.0       0.0       0.0       0.0    17.0  \n",
       "86190       0.0       0.0       0.0       0.0       0.0    42.0  \n",
       "86191       0.0       0.0       0.0       0.0       0.0    34.0  \n",
       "\n",
       "[86192 rows x 32 columns]"
      ]
     },
     "execution_count": 333,
     "metadata": {},
     "output_type": "execute_result"
    }
   ],
   "source": [
    "X_transformed"
   ]
  },
  {
   "cell_type": "code",
   "execution_count": 354,
   "id": "2d07165f-f669-41bc-8e46-90776652b8d7",
   "metadata": {},
   "outputs": [
    {
     "data": {
      "text/plain": [
       "0        3.806662\n",
       "1        7.501634\n",
       "2        5.645447\n",
       "3        7.643962\n",
       "4        6.860664\n",
       "           ...   \n",
       "86187    6.030685\n",
       "86188    6.638568\n",
       "86189    4.812184\n",
       "86190    5.662960\n",
       "86191    7.792762\n",
       "Name: log_Reach, Length: 86192, dtype: float64"
      ]
     },
     "execution_count": 354,
     "metadata": {},
     "output_type": "execute_result"
    }
   ],
   "source": [
    "y"
   ]
  },
  {
   "cell_type": "code",
   "execution_count": 334,
   "id": "a4334c0f-06a6-4617-8e1d-f65ab211be6e",
   "metadata": {},
   "outputs": [],
   "source": [
    "scores = cross_val_score(rf1, X_transformed, y, cv=5, scoring='neg_mean_absolute_error')"
   ]
  },
  {
   "cell_type": "code",
   "execution_count": 335,
   "id": "dd9d69dc-f0e4-49af-8d40-f55729c72cf6",
   "metadata": {},
   "outputs": [
    {
     "data": {
      "text/plain": [
       "array([-0.76172307, -0.75405425, -0.74785778, -0.74630107, -0.78844281])"
      ]
     },
     "execution_count": 335,
     "metadata": {},
     "output_type": "execute_result"
    }
   ],
   "source": [
    "scores"
   ]
  },
  {
   "cell_type": "code",
   "execution_count": null,
   "id": "dd2ba2ac-98d4-4044-8940-2f9fad0b672d",
   "metadata": {},
   "outputs": [],
   "source": []
  },
  {
   "cell_type": "code",
   "execution_count": 336,
   "id": "809c505c-c514-45e1-b86e-fba177d1e9b2",
   "metadata": {},
   "outputs": [],
   "source": [
    "scores = cross_val_score(rf1, X_transformed, y, cv=5, scoring='explained_variance')"
   ]
  },
  {
   "cell_type": "code",
   "execution_count": 337,
   "id": "20b3b7b4-d63d-4574-838e-e413acb90f6a",
   "metadata": {},
   "outputs": [
    {
     "data": {
      "text/plain": [
       "array([0.57514814, 0.58998277, 0.60658377, 0.61410767, 0.58123871])"
      ]
     },
     "execution_count": 337,
     "metadata": {},
     "output_type": "execute_result"
    }
   ],
   "source": [
    "scores"
   ]
  },
  {
   "cell_type": "markdown",
   "id": "737c9c78-8b71-4c86-9c55-53f7179d24c4",
   "metadata": {},
   "source": [
    "### Reason \n",
    "\n",
    "let's make grid search to get better hyperparameters"
   ]
  },
  {
   "cell_type": "code",
   "execution_count": 352,
   "id": "a1c690a7-e1d2-4ac7-b4af-bc52fdc70363",
   "metadata": {},
   "outputs": [],
   "source": [
    "X_transformed.to_csv('./X_transformed.csv')"
   ]
  },
  {
   "cell_type": "code",
   "execution_count": 353,
   "id": "2221d99a-74f7-4624-9476-565c15a3afe2",
   "metadata": {},
   "outputs": [],
   "source": [
    "y.to_csv('./log_reach.csv')"
   ]
  },
  {
   "cell_type": "code",
   "execution_count": null,
   "id": "0c9727ed-06b4-46d3-b7df-be8d19d1ffb4",
   "metadata": {},
   "outputs": [],
   "source": []
  },
  {
   "cell_type": "code",
   "execution_count": null,
   "id": "65088d1b-0f8c-4b87-b649-54321bb10afc",
   "metadata": {},
   "outputs": [],
   "source": []
  },
  {
   "cell_type": "code",
   "execution_count": null,
   "id": "551b3e5c-74af-45a5-8340-b82f8bd0b9a4",
   "metadata": {},
   "outputs": [],
   "source": []
  },
  {
   "cell_type": "code",
   "execution_count": 350,
   "id": "183b3bf4-a908-4ffa-ad2e-e7dc58e462f0",
   "metadata": {},
   "outputs": [],
   "source": [
    "parameters = {'n_estimators': [10, 30, 50, 100, 200, 300], 'max_depth': [5, 10, 50, 100]}"
   ]
  },
  {
   "cell_type": "code",
   "execution_count": 342,
   "id": "7059198d-ea32-4789-9031-b2e56aec0bde",
   "metadata": {},
   "outputs": [],
   "source": [
    "rf = RandomForestRegressor(random_state=42)\n",
    "\n"
   ]
  },
  {
   "cell_type": "code",
   "execution_count": 345,
   "id": "abc1ede4-062f-40db-bf88-f1d96fddce0a",
   "metadata": {},
   "outputs": [],
   "source": [
    "scoring = make_scorer(mean_squared_error, greater_is_better=False)"
   ]
  },
  {
   "cell_type": "code",
   "execution_count": 346,
   "id": "31cb6b73-693e-49dd-af3d-e9d45f7e8efb",
   "metadata": {},
   "outputs": [],
   "source": [
    "grid_search = GridSearchCV(\n",
    "    estimator=rf,\n",
    "    param_grid=parameters,\n",
    "    scoring=scoring,\n",
    "    cv=5,\n",
    "    verbose=1,\n",
    "    n_jobs=-1\n",
    ")"
   ]
  },
  {
   "cell_type": "code",
   "execution_count": 348,
   "id": "f263c573-3b08-425e-8414-a25fdc3e34cc",
   "metadata": {},
   "outputs": [
    {
     "name": "stdout",
     "output_type": "stream",
     "text": [
      "Fitting 5 folds for each of 24 candidates, totalling 120 fits\n"
     ]
    },
    {
     "name": "stderr",
     "output_type": "stream",
     "text": [
      "huggingface/tokenizers: The current process just got forked, after parallelism has already been used. Disabling parallelism to avoid deadlocks...\n",
      "To disable this warning, you can either:\n",
      "\t- Avoid using `tokenizers` before the fork if possible\n",
      "\t- Explicitly set the environment variable TOKENIZERS_PARALLELISM=(true | false)\n",
      "huggingface/tokenizers: The current process just got forked, after parallelism has already been used. Disabling parallelism to avoid deadlocks...\n",
      "To disable this warning, you can either:\n",
      "\t- Avoid using `tokenizers` before the fork if possible\n",
      "\t- Explicitly set the environment variable TOKENIZERS_PARALLELISM=(true | false)\n",
      "huggingface/tokenizers: The current process just got forked, after parallelism has already been used. Disabling parallelism to avoid deadlocks...\n",
      "To disable this warning, you can either:\n",
      "\t- Avoid using `tokenizers` before the fork if possible\n",
      "\t- Explicitly set the environment variable TOKENIZERS_PARALLELISM=(true | false)\n",
      "huggingface/tokenizers: The current process just got forked, after parallelism has already been used. Disabling parallelism to avoid deadlocks...\n",
      "To disable this warning, you can either:\n",
      "\t- Avoid using `tokenizers` before the fork if possible\n",
      "\t- Explicitly set the environment variable TOKENIZERS_PARALLELISM=(true | false)\n",
      "huggingface/tokenizers: The current process just got forked, after parallelism has already been used. Disabling parallelism to avoid deadlocks...\n",
      "To disable this warning, you can either:\n",
      "\t- Avoid using `tokenizers` before the fork if possible\n",
      "\t- Explicitly set the environment variable TOKENIZERS_PARALLELISM=(true | false)\n",
      "huggingface/tokenizers: The current process just got forked, after parallelism has already been used. Disabling parallelism to avoid deadlocks...\n",
      "To disable this warning, you can either:\n",
      "\t- Avoid using `tokenizers` before the fork if possible\n",
      "\t- Explicitly set the environment variable TOKENIZERS_PARALLELISM=(true | false)\n",
      "huggingface/tokenizers: The current process just got forked, after parallelism has already been used. Disabling parallelism to avoid deadlocks...\n",
      "To disable this warning, you can either:\n",
      "\t- Avoid using `tokenizers` before the fork if possible\n",
      "\t- Explicitly set the environment variable TOKENIZERS_PARALLELISM=(true | false)\n",
      "huggingface/tokenizers: The current process just got forked, after parallelism has already been used. Disabling parallelism to avoid deadlocks...\n",
      "To disable this warning, you can either:\n",
      "\t- Avoid using `tokenizers` before the fork if possible\n",
      "\t- Explicitly set the environment variable TOKENIZERS_PARALLELISM=(true | false)\n",
      "huggingface/tokenizers: The current process just got forked, after parallelism has already been used. Disabling parallelism to avoid deadlocks...\n",
      "To disable this warning, you can either:\n",
      "\t- Avoid using `tokenizers` before the fork if possible\n",
      "\t- Explicitly set the environment variable TOKENIZERS_PARALLELISM=(true | false)\n"
     ]
    },
    {
     "ename": "KeyboardInterrupt",
     "evalue": "",
     "output_type": "error",
     "traceback": [
      "\u001b[0;31m---------------------------------------------------------------------------\u001b[0m",
      "\u001b[0;31mKeyboardInterrupt\u001b[0m                         Traceback (most recent call last)",
      "Cell \u001b[0;32mIn[348], line 1\u001b[0m\n\u001b[0;32m----> 1\u001b[0m \u001b[43mgrid_search\u001b[49m\u001b[38;5;241;43m.\u001b[39;49m\u001b[43mfit\u001b[49m\u001b[43m(\u001b[49m\u001b[43mX_transformed\u001b[49m\u001b[43m,\u001b[49m\u001b[43m \u001b[49m\u001b[43my\u001b[49m\u001b[43m)\u001b[49m\n",
      "File \u001b[0;32m~/.local/lib/python3.10/site-packages/sklearn/base.py:1152\u001b[0m, in \u001b[0;36m_fit_context.<locals>.decorator.<locals>.wrapper\u001b[0;34m(estimator, *args, **kwargs)\u001b[0m\n\u001b[1;32m   1145\u001b[0m     estimator\u001b[38;5;241m.\u001b[39m_validate_params()\n\u001b[1;32m   1147\u001b[0m \u001b[38;5;28;01mwith\u001b[39;00m config_context(\n\u001b[1;32m   1148\u001b[0m     skip_parameter_validation\u001b[38;5;241m=\u001b[39m(\n\u001b[1;32m   1149\u001b[0m         prefer_skip_nested_validation \u001b[38;5;129;01mor\u001b[39;00m global_skip_validation\n\u001b[1;32m   1150\u001b[0m     )\n\u001b[1;32m   1151\u001b[0m ):\n\u001b[0;32m-> 1152\u001b[0m     \u001b[38;5;28;01mreturn\u001b[39;00m \u001b[43mfit_method\u001b[49m\u001b[43m(\u001b[49m\u001b[43mestimator\u001b[49m\u001b[43m,\u001b[49m\u001b[43m \u001b[49m\u001b[38;5;241;43m*\u001b[39;49m\u001b[43margs\u001b[49m\u001b[43m,\u001b[49m\u001b[43m \u001b[49m\u001b[38;5;241;43m*\u001b[39;49m\u001b[38;5;241;43m*\u001b[39;49m\u001b[43mkwargs\u001b[49m\u001b[43m)\u001b[49m\n",
      "File \u001b[0;32m~/.local/lib/python3.10/site-packages/sklearn/model_selection/_search.py:898\u001b[0m, in \u001b[0;36mBaseSearchCV.fit\u001b[0;34m(self, X, y, groups, **fit_params)\u001b[0m\n\u001b[1;32m    892\u001b[0m     results \u001b[38;5;241m=\u001b[39m \u001b[38;5;28mself\u001b[39m\u001b[38;5;241m.\u001b[39m_format_results(\n\u001b[1;32m    893\u001b[0m         all_candidate_params, n_splits, all_out, all_more_results\n\u001b[1;32m    894\u001b[0m     )\n\u001b[1;32m    896\u001b[0m     \u001b[38;5;28;01mreturn\u001b[39;00m results\n\u001b[0;32m--> 898\u001b[0m \u001b[38;5;28;43mself\u001b[39;49m\u001b[38;5;241;43m.\u001b[39;49m\u001b[43m_run_search\u001b[49m\u001b[43m(\u001b[49m\u001b[43mevaluate_candidates\u001b[49m\u001b[43m)\u001b[49m\n\u001b[1;32m    900\u001b[0m \u001b[38;5;66;03m# multimetric is determined here because in the case of a callable\u001b[39;00m\n\u001b[1;32m    901\u001b[0m \u001b[38;5;66;03m# self.scoring the return type is only known after calling\u001b[39;00m\n\u001b[1;32m    902\u001b[0m first_test_score \u001b[38;5;241m=\u001b[39m all_out[\u001b[38;5;241m0\u001b[39m][\u001b[38;5;124m\"\u001b[39m\u001b[38;5;124mtest_scores\u001b[39m\u001b[38;5;124m\"\u001b[39m]\n",
      "File \u001b[0;32m~/.local/lib/python3.10/site-packages/sklearn/model_selection/_search.py:1422\u001b[0m, in \u001b[0;36mGridSearchCV._run_search\u001b[0;34m(self, evaluate_candidates)\u001b[0m\n\u001b[1;32m   1420\u001b[0m \u001b[38;5;28;01mdef\u001b[39;00m \u001b[38;5;21m_run_search\u001b[39m(\u001b[38;5;28mself\u001b[39m, evaluate_candidates):\n\u001b[1;32m   1421\u001b[0m \u001b[38;5;250m    \u001b[39m\u001b[38;5;124;03m\"\"\"Search all candidates in param_grid\"\"\"\u001b[39;00m\n\u001b[0;32m-> 1422\u001b[0m     \u001b[43mevaluate_candidates\u001b[49m\u001b[43m(\u001b[49m\u001b[43mParameterGrid\u001b[49m\u001b[43m(\u001b[49m\u001b[38;5;28;43mself\u001b[39;49m\u001b[38;5;241;43m.\u001b[39;49m\u001b[43mparam_grid\u001b[49m\u001b[43m)\u001b[49m\u001b[43m)\u001b[49m\n",
      "File \u001b[0;32m~/.local/lib/python3.10/site-packages/sklearn/model_selection/_search.py:845\u001b[0m, in \u001b[0;36mBaseSearchCV.fit.<locals>.evaluate_candidates\u001b[0;34m(candidate_params, cv, more_results)\u001b[0m\n\u001b[1;32m    837\u001b[0m \u001b[38;5;28;01mif\u001b[39;00m \u001b[38;5;28mself\u001b[39m\u001b[38;5;241m.\u001b[39mverbose \u001b[38;5;241m>\u001b[39m \u001b[38;5;241m0\u001b[39m:\n\u001b[1;32m    838\u001b[0m     \u001b[38;5;28mprint\u001b[39m(\n\u001b[1;32m    839\u001b[0m         \u001b[38;5;124m\"\u001b[39m\u001b[38;5;124mFitting \u001b[39m\u001b[38;5;132;01m{0}\u001b[39;00m\u001b[38;5;124m folds for each of \u001b[39m\u001b[38;5;132;01m{1}\u001b[39;00m\u001b[38;5;124m candidates,\u001b[39m\u001b[38;5;124m\"\u001b[39m\n\u001b[1;32m    840\u001b[0m         \u001b[38;5;124m\"\u001b[39m\u001b[38;5;124m totalling \u001b[39m\u001b[38;5;132;01m{2}\u001b[39;00m\u001b[38;5;124m fits\u001b[39m\u001b[38;5;124m\"\u001b[39m\u001b[38;5;241m.\u001b[39mformat(\n\u001b[1;32m    841\u001b[0m             n_splits, n_candidates, n_candidates \u001b[38;5;241m*\u001b[39m n_splits\n\u001b[1;32m    842\u001b[0m         )\n\u001b[1;32m    843\u001b[0m     )\n\u001b[0;32m--> 845\u001b[0m out \u001b[38;5;241m=\u001b[39m \u001b[43mparallel\u001b[49m\u001b[43m(\u001b[49m\n\u001b[1;32m    846\u001b[0m \u001b[43m    \u001b[49m\u001b[43mdelayed\u001b[49m\u001b[43m(\u001b[49m\u001b[43m_fit_and_score\u001b[49m\u001b[43m)\u001b[49m\u001b[43m(\u001b[49m\n\u001b[1;32m    847\u001b[0m \u001b[43m        \u001b[49m\u001b[43mclone\u001b[49m\u001b[43m(\u001b[49m\u001b[43mbase_estimator\u001b[49m\u001b[43m)\u001b[49m\u001b[43m,\u001b[49m\n\u001b[1;32m    848\u001b[0m \u001b[43m        \u001b[49m\u001b[43mX\u001b[49m\u001b[43m,\u001b[49m\n\u001b[1;32m    849\u001b[0m \u001b[43m        \u001b[49m\u001b[43my\u001b[49m\u001b[43m,\u001b[49m\n\u001b[1;32m    850\u001b[0m \u001b[43m        \u001b[49m\u001b[43mtrain\u001b[49m\u001b[38;5;241;43m=\u001b[39;49m\u001b[43mtrain\u001b[49m\u001b[43m,\u001b[49m\n\u001b[1;32m    851\u001b[0m \u001b[43m        \u001b[49m\u001b[43mtest\u001b[49m\u001b[38;5;241;43m=\u001b[39;49m\u001b[43mtest\u001b[49m\u001b[43m,\u001b[49m\n\u001b[1;32m    852\u001b[0m \u001b[43m        \u001b[49m\u001b[43mparameters\u001b[49m\u001b[38;5;241;43m=\u001b[39;49m\u001b[43mparameters\u001b[49m\u001b[43m,\u001b[49m\n\u001b[1;32m    853\u001b[0m \u001b[43m        \u001b[49m\u001b[43msplit_progress\u001b[49m\u001b[38;5;241;43m=\u001b[39;49m\u001b[43m(\u001b[49m\u001b[43msplit_idx\u001b[49m\u001b[43m,\u001b[49m\u001b[43m \u001b[49m\u001b[43mn_splits\u001b[49m\u001b[43m)\u001b[49m\u001b[43m,\u001b[49m\n\u001b[1;32m    854\u001b[0m \u001b[43m        \u001b[49m\u001b[43mcandidate_progress\u001b[49m\u001b[38;5;241;43m=\u001b[39;49m\u001b[43m(\u001b[49m\u001b[43mcand_idx\u001b[49m\u001b[43m,\u001b[49m\u001b[43m \u001b[49m\u001b[43mn_candidates\u001b[49m\u001b[43m)\u001b[49m\u001b[43m,\u001b[49m\n\u001b[1;32m    855\u001b[0m \u001b[43m        \u001b[49m\u001b[38;5;241;43m*\u001b[39;49m\u001b[38;5;241;43m*\u001b[39;49m\u001b[43mfit_and_score_kwargs\u001b[49m\u001b[43m,\u001b[49m\n\u001b[1;32m    856\u001b[0m \u001b[43m    \u001b[49m\u001b[43m)\u001b[49m\n\u001b[1;32m    857\u001b[0m \u001b[43m    \u001b[49m\u001b[38;5;28;43;01mfor\u001b[39;49;00m\u001b[43m \u001b[49m\u001b[43m(\u001b[49m\u001b[43mcand_idx\u001b[49m\u001b[43m,\u001b[49m\u001b[43m \u001b[49m\u001b[43mparameters\u001b[49m\u001b[43m)\u001b[49m\u001b[43m,\u001b[49m\u001b[43m \u001b[49m\u001b[43m(\u001b[49m\u001b[43msplit_idx\u001b[49m\u001b[43m,\u001b[49m\u001b[43m \u001b[49m\u001b[43m(\u001b[49m\u001b[43mtrain\u001b[49m\u001b[43m,\u001b[49m\u001b[43m \u001b[49m\u001b[43mtest\u001b[49m\u001b[43m)\u001b[49m\u001b[43m)\u001b[49m\u001b[43m \u001b[49m\u001b[38;5;129;43;01min\u001b[39;49;00m\u001b[43m \u001b[49m\u001b[43mproduct\u001b[49m\u001b[43m(\u001b[49m\n\u001b[1;32m    858\u001b[0m \u001b[43m        \u001b[49m\u001b[38;5;28;43menumerate\u001b[39;49m\u001b[43m(\u001b[49m\u001b[43mcandidate_params\u001b[49m\u001b[43m)\u001b[49m\u001b[43m,\u001b[49m\u001b[43m \u001b[49m\u001b[38;5;28;43menumerate\u001b[39;49m\u001b[43m(\u001b[49m\u001b[43mcv\u001b[49m\u001b[38;5;241;43m.\u001b[39;49m\u001b[43msplit\u001b[49m\u001b[43m(\u001b[49m\u001b[43mX\u001b[49m\u001b[43m,\u001b[49m\u001b[43m \u001b[49m\u001b[43my\u001b[49m\u001b[43m,\u001b[49m\u001b[43m \u001b[49m\u001b[43mgroups\u001b[49m\u001b[43m)\u001b[49m\u001b[43m)\u001b[49m\n\u001b[1;32m    859\u001b[0m \u001b[43m    \u001b[49m\u001b[43m)\u001b[49m\n\u001b[1;32m    860\u001b[0m \u001b[43m\u001b[49m\u001b[43m)\u001b[49m\n\u001b[1;32m    862\u001b[0m \u001b[38;5;28;01mif\u001b[39;00m \u001b[38;5;28mlen\u001b[39m(out) \u001b[38;5;241m<\u001b[39m \u001b[38;5;241m1\u001b[39m:\n\u001b[1;32m    863\u001b[0m     \u001b[38;5;28;01mraise\u001b[39;00m \u001b[38;5;167;01mValueError\u001b[39;00m(\n\u001b[1;32m    864\u001b[0m         \u001b[38;5;124m\"\u001b[39m\u001b[38;5;124mNo fits were performed. \u001b[39m\u001b[38;5;124m\"\u001b[39m\n\u001b[1;32m    865\u001b[0m         \u001b[38;5;124m\"\u001b[39m\u001b[38;5;124mWas the CV iterator empty? \u001b[39m\u001b[38;5;124m\"\u001b[39m\n\u001b[1;32m    866\u001b[0m         \u001b[38;5;124m\"\u001b[39m\u001b[38;5;124mWere there no candidates?\u001b[39m\u001b[38;5;124m\"\u001b[39m\n\u001b[1;32m    867\u001b[0m     )\n",
      "File \u001b[0;32m~/.local/lib/python3.10/site-packages/sklearn/utils/parallel.py:65\u001b[0m, in \u001b[0;36mParallel.__call__\u001b[0;34m(self, iterable)\u001b[0m\n\u001b[1;32m     60\u001b[0m config \u001b[38;5;241m=\u001b[39m get_config()\n\u001b[1;32m     61\u001b[0m iterable_with_config \u001b[38;5;241m=\u001b[39m (\n\u001b[1;32m     62\u001b[0m     (_with_config(delayed_func, config), args, kwargs)\n\u001b[1;32m     63\u001b[0m     \u001b[38;5;28;01mfor\u001b[39;00m delayed_func, args, kwargs \u001b[38;5;129;01min\u001b[39;00m iterable\n\u001b[1;32m     64\u001b[0m )\n\u001b[0;32m---> 65\u001b[0m \u001b[38;5;28;01mreturn\u001b[39;00m \u001b[38;5;28;43msuper\u001b[39;49m\u001b[43m(\u001b[49m\u001b[43m)\u001b[49m\u001b[38;5;241;43m.\u001b[39;49m\u001b[38;5;21;43m__call__\u001b[39;49m\u001b[43m(\u001b[49m\u001b[43miterable_with_config\u001b[49m\u001b[43m)\u001b[49m\n",
      "File \u001b[0;32m~/.local/lib/python3.10/site-packages/joblib/parallel.py:1952\u001b[0m, in \u001b[0;36mParallel.__call__\u001b[0;34m(self, iterable)\u001b[0m\n\u001b[1;32m   1946\u001b[0m \u001b[38;5;66;03m# The first item from the output is blank, but it makes the interpreter\u001b[39;00m\n\u001b[1;32m   1947\u001b[0m \u001b[38;5;66;03m# progress until it enters the Try/Except block of the generator and\u001b[39;00m\n\u001b[1;32m   1948\u001b[0m \u001b[38;5;66;03m# reach the first `yield` statement. This starts the aynchronous\u001b[39;00m\n\u001b[1;32m   1949\u001b[0m \u001b[38;5;66;03m# dispatch of the tasks to the workers.\u001b[39;00m\n\u001b[1;32m   1950\u001b[0m \u001b[38;5;28mnext\u001b[39m(output)\n\u001b[0;32m-> 1952\u001b[0m \u001b[38;5;28;01mreturn\u001b[39;00m output \u001b[38;5;28;01mif\u001b[39;00m \u001b[38;5;28mself\u001b[39m\u001b[38;5;241m.\u001b[39mreturn_generator \u001b[38;5;28;01melse\u001b[39;00m \u001b[38;5;28;43mlist\u001b[39;49m\u001b[43m(\u001b[49m\u001b[43moutput\u001b[49m\u001b[43m)\u001b[49m\n",
      "File \u001b[0;32m~/.local/lib/python3.10/site-packages/joblib/parallel.py:1595\u001b[0m, in \u001b[0;36mParallel._get_outputs\u001b[0;34m(self, iterator, pre_dispatch)\u001b[0m\n\u001b[1;32m   1592\u001b[0m     \u001b[38;5;28;01myield\u001b[39;00m\n\u001b[1;32m   1594\u001b[0m     \u001b[38;5;28;01mwith\u001b[39;00m \u001b[38;5;28mself\u001b[39m\u001b[38;5;241m.\u001b[39m_backend\u001b[38;5;241m.\u001b[39mretrieval_context():\n\u001b[0;32m-> 1595\u001b[0m         \u001b[38;5;28;01myield from\u001b[39;00m \u001b[38;5;28mself\u001b[39m\u001b[38;5;241m.\u001b[39m_retrieve()\n\u001b[1;32m   1597\u001b[0m \u001b[38;5;28;01mexcept\u001b[39;00m \u001b[38;5;167;01mGeneratorExit\u001b[39;00m:\n\u001b[1;32m   1598\u001b[0m     \u001b[38;5;66;03m# The generator has been garbage collected before being fully\u001b[39;00m\n\u001b[1;32m   1599\u001b[0m     \u001b[38;5;66;03m# consumed. This aborts the remaining tasks if possible and warn\u001b[39;00m\n\u001b[1;32m   1600\u001b[0m     \u001b[38;5;66;03m# the user if necessary.\u001b[39;00m\n\u001b[1;32m   1601\u001b[0m     \u001b[38;5;28mself\u001b[39m\u001b[38;5;241m.\u001b[39m_exception \u001b[38;5;241m=\u001b[39m \u001b[38;5;28;01mTrue\u001b[39;00m\n",
      "File \u001b[0;32m~/.local/lib/python3.10/site-packages/joblib/parallel.py:1707\u001b[0m, in \u001b[0;36mParallel._retrieve\u001b[0;34m(self)\u001b[0m\n\u001b[1;32m   1702\u001b[0m \u001b[38;5;66;03m# If the next job is not ready for retrieval yet, we just wait for\u001b[39;00m\n\u001b[1;32m   1703\u001b[0m \u001b[38;5;66;03m# async callbacks to progress.\u001b[39;00m\n\u001b[1;32m   1704\u001b[0m \u001b[38;5;28;01mif\u001b[39;00m ((\u001b[38;5;28mlen\u001b[39m(\u001b[38;5;28mself\u001b[39m\u001b[38;5;241m.\u001b[39m_jobs) \u001b[38;5;241m==\u001b[39m \u001b[38;5;241m0\u001b[39m) \u001b[38;5;129;01mor\u001b[39;00m\n\u001b[1;32m   1705\u001b[0m     (\u001b[38;5;28mself\u001b[39m\u001b[38;5;241m.\u001b[39m_jobs[\u001b[38;5;241m0\u001b[39m]\u001b[38;5;241m.\u001b[39mget_status(\n\u001b[1;32m   1706\u001b[0m         timeout\u001b[38;5;241m=\u001b[39m\u001b[38;5;28mself\u001b[39m\u001b[38;5;241m.\u001b[39mtimeout) \u001b[38;5;241m==\u001b[39m TASK_PENDING)):\n\u001b[0;32m-> 1707\u001b[0m     \u001b[43mtime\u001b[49m\u001b[38;5;241;43m.\u001b[39;49m\u001b[43msleep\u001b[49m\u001b[43m(\u001b[49m\u001b[38;5;241;43m0.01\u001b[39;49m\u001b[43m)\u001b[49m\n\u001b[1;32m   1708\u001b[0m     \u001b[38;5;28;01mcontinue\u001b[39;00m\n\u001b[1;32m   1710\u001b[0m \u001b[38;5;66;03m# We need to be careful: the job list can be filling up as\u001b[39;00m\n\u001b[1;32m   1711\u001b[0m \u001b[38;5;66;03m# we empty it and Python list are not thread-safe by\u001b[39;00m\n\u001b[1;32m   1712\u001b[0m \u001b[38;5;66;03m# default hence the use of the lock\u001b[39;00m\n",
      "\u001b[0;31mKeyboardInterrupt\u001b[0m: "
     ]
    }
   ],
   "source": [
    "grid_search.fit(X_transformed, y)"
   ]
  },
  {
   "cell_type": "code",
   "execution_count": null,
   "id": "1bb117cb-34ff-452d-a8c2-a4faf1ce44ca",
   "metadata": {},
   "outputs": [],
   "source": [
    "print(\"best params:\", grid_search.best_params_)\n",
    "print(\"best score:\", -grid_search.best_score_)\n",
    "best_model = grid_search.best_estimator_"
   ]
  },
  {
   "cell_type": "code",
   "execution_count": null,
   "id": "97047cf7-8d3c-4233-a55b-4a3607884b25",
   "metadata": {},
   "outputs": [],
   "source": []
  },
  {
   "cell_type": "code",
   "execution_count": null,
   "id": "ee9751a8-f3fa-4ebc-9333-069f8da9de2a",
   "metadata": {},
   "outputs": [],
   "source": []
  },
  {
   "cell_type": "code",
   "execution_count": null,
   "id": "f16a5fd2-324c-44f3-bac8-678f1aa00ff3",
   "metadata": {},
   "outputs": [],
   "source": []
  }
 ],
 "metadata": {
  "kernelspec": {
   "display_name": "Python 3 (ipykernel)",
   "language": "python",
   "name": "python3"
  },
  "language_info": {
   "codemirror_mode": {
    "name": "ipython",
    "version": 3
   },
   "file_extension": ".py",
   "mimetype": "text/x-python",
   "name": "python",
   "nbconvert_exporter": "python",
   "pygments_lexer": "ipython3",
   "version": "3.10.12"
  }
 },
 "nbformat": 4,
 "nbformat_minor": 5
}
