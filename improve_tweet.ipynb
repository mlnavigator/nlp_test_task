{
 "cells": [
  {
   "cell_type": "code",
   "execution_count": 3,
   "id": "25d1c0de-53e3-4187-b833-f956ec8d99bb",
   "metadata": {},
   "outputs": [],
   "source": [
    "import requests\n",
    "import json\n",
    "from typing import Dict, Any"
   ]
  },
  {
   "cell_type": "code",
   "execution_count": 10,
   "id": "f679b556-599a-4bd7-8602-bfb67be9a669",
   "metadata": {},
   "outputs": [],
   "source": [
    "app_name = 'test_task'\n",
    "openrouter_api_key = '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'"
   ]
  },
  {
   "cell_type": "code",
   "execution_count": 27,
   "id": "d67ddc08-611f-4adb-ba47-3fdbe79c1bdc",
   "metadata": {},
   "outputs": [],
   "source": [
    "model = 'google/gemini-2.0-flash-001'"
   ]
  },
  {
   "cell_type": "code",
   "execution_count": 28,
   "id": "369a88ee-55fc-4364-aa81-342b31f2eac8",
   "metadata": {},
   "outputs": [],
   "source": [
    "def make_request(prompt: str) -> Dict[str, Any]:\n",
    "    response = requests.post(\n",
    "      url=\"https://openrouter.ai/api/v1/chat/completions\",\n",
    "      headers={\n",
    "        \"Authorization\": f\"Bearer {openrouter_api_key}\",\n",
    "        \"HTTP-Referer\": app_name, # Optional. Site URL for rankings on openrouter.ai.\n",
    "        \"X-Title\": app_name, # Optional. Site title for rankings on openrouter.ai.\n",
    "      },\n",
    "      data=json.dumps({\n",
    "        \"model\": model,\n",
    "        \"messages\": [\n",
    "          {\n",
    "            \"role\": \"user\",\n",
    "            \"content\": prompt,\n",
    "          }\n",
    "        ],\n",
    "        \"max_tokens\": 1000,\n",
    "      })\n",
    "    )\n",
    "\n",
    "    res = response.json()\n",
    "    return res"
   ]
  },
  {
   "cell_type": "code",
   "execution_count": 33,
   "id": "38ba561e-a3f1-4a0e-a9a1-523ea71b7054",
   "metadata": {},
   "outputs": [],
   "source": [
    "def improve_tweet(tweet_data: Dict[str, Any]) -> Dict[str, Any]:\n",
    "    \n",
    "    prompt = \"\"\"You will be given tweet data in tags <tweet_data>. \n",
    "\n",
    "You should improve text.\n",
    "- Suggest content improvements based on high-performing tweet patterns.\n",
    "- Optimize phrasing: Recommend changes in wording or tone.\n",
    "- Hashtag recommendations: Suggest effective hashtags.\n",
    "- Call-to-action enhancements: Improve engagement triggers (e.g., “Retweet if you agree!”).\n",
    "\n",
    "The best posting time is\n",
    "- Days: Monday, Thursday, Friday \n",
    "- Hours: 9, 10, 11, 14, 16\n",
    "- Depending on tweet data recommend next time closest day and hour for posting\n",
    "\n",
    "Return result in json format:\n",
    "improved_text: str - new improved text with emojis, call-to-action\n",
    "hash_tags: str - effective hashtags for text\n",
    "next_best_posting_time: str - closest day and hour from best posting time after the day-time from tweet_data.\n",
    "\n",
    "Example:\n",
    "<tweet_data>\n",
    "{\n",
    "  \"Text\": \"New job opening at our company! Apply here: https://link.com #hiring #jobs\",\n",
    "  \"Weekday\": \"Monday\",\n",
    "  \"Hour\": 15\n",
    "}\n",
    "</tweet_data>\n",
    "\n",
    "Output:\n",
    "{\n",
    "\"improved_text\": \"Exciting opportunity! 🚀 We're hiring for a new role – apply today! 🌟 → [link](https://link.com)\",\n",
    "\"hash_tags\": \"#JobSearch #CareerGrowth\",\n",
    "\"next_best_posting_time\": \"Monday, Hour: 16\"\n",
    "}\n",
    "\n",
    "Generate only JSON data without any markup or other infornation!\n",
    "\n",
    "<tweet_data><text></tweet_data>\"\"\"\n",
    "    prompt = prompt.replace('<text>', json.dumps(tweet_data, ensure_ascii=False, indent=1))\n",
    "\n",
    "    resp = make_request(prompt)\n",
    "    res = resp['choices'][0]['message']['content']\n",
    "    res = res.replace('```json', '')\n",
    "    res = res.replace('```', '')\n",
    "    try:\n",
    "        data = json.loads(res)\n",
    "    except:\n",
    "        data = {}\n",
    "    return data"
   ]
  },
  {
   "cell_type": "code",
   "execution_count": 34,
   "id": "a9034a5f-1ace-47ca-bce6-fc371d1d86d4",
   "metadata": {},
   "outputs": [],
   "source": [
    "data = {'Text': \"Apple reportedly defects iCloud from AWS to Google Cloud: Apple's use of Google Cloud Platform which began wi... https://www.google.com/url?rct=j&sa=t&url=http://thedailycroton.com/2016/03/20/apple-reportedly-defects-icloud-from-aws-to-google-cloud/&ct=ga&cd=CAIyGjNhNjYxYTQyZWZjNWIxNWM6Y29tOmVuOlVT&usg=AFQjCNFUM2Cm31Guqe6MJ8vYA7qKGZGgYA&utm_source=twitterfeed&utm_medium=twitter\",\n",
    "        'Weekday': 'Tuesday', \n",
    "        'Hour': 6\n",
    "       }"
   ]
  },
  {
   "cell_type": "code",
   "execution_count": 35,
   "id": "bd206226-0d8b-4969-9b10-228e9ce1bc57",
   "metadata": {},
   "outputs": [],
   "source": [
    "res = improve_tweet(data)"
   ]
  },
  {
   "cell_type": "code",
   "execution_count": 36,
   "id": "5a38f34e-0a11-4302-afb9-b1fab4dcea82",
   "metadata": {},
   "outputs": [
    {
     "data": {
      "text/plain": [
       "{'improved_text': 'Apple is reportedly moving iCloud from AWS to Google Cloud! ☁️ Big shift in cloud strategy. 🤔 Read more here: [link](https://www.google.com/url?rct=j&sa=t&url=http://thedailycroton.com/2016/03/20/apple-reportedly-defects-icloud-from-aws-to-google-cloud/&ct=ga&cd=CAIyGjNhNjYxYTQyZWZjNWIxNWM6Y29tOmVuOlVT&usg=AFQjCNFUM2Cm31Guqe6MJ8vYA7qKGZGgYA&utm_source=twitterfeed&utm_medium=twitter) What do you think about this change? Share your thoughts! 👇',\n",
       " 'hash_tags': '#Apple #iCloud #GoogleCloud #AWS #CloudComputing',\n",
       " 'next_best_posting_time': 'Thursday, Hour: 9'}"
      ]
     },
     "execution_count": 36,
     "metadata": {},
     "output_type": "execute_result"
    }
   ],
   "source": [
    "res"
   ]
  },
  {
   "cell_type": "code",
   "execution_count": null,
   "id": "1346318c-faf6-489c-8981-84277a305c94",
   "metadata": {},
   "outputs": [],
   "source": []
  },
  {
   "cell_type": "code",
   "execution_count": null,
   "id": "6c257239-3618-40bd-a216-0523f3294b2c",
   "metadata": {},
   "outputs": [],
   "source": []
  },
  {
   "cell_type": "code",
   "execution_count": null,
   "id": "982a52e4-8ebe-4145-82cb-961d8d4070fe",
   "metadata": {},
   "outputs": [],
   "source": []
  },
  {
   "cell_type": "code",
   "execution_count": null,
   "id": "fa8c1b6a-70ae-4974-a7a0-3183bf5a1e6c",
   "metadata": {},
   "outputs": [],
   "source": []
  }
 ],
 "metadata": {
  "kernelspec": {
   "display_name": "Python 3 (ipykernel)",
   "language": "python",
   "name": "python3"
  },
  "language_info": {
   "codemirror_mode": {
    "name": "ipython",
    "version": 3
   },
   "file_extension": ".py",
   "mimetype": "text/x-python",
   "name": "python",
   "nbconvert_exporter": "python",
   "pygments_lexer": "ipython3",
   "version": "3.10.12"
  }
 },
 "nbformat": 4,
 "nbformat_minor": 5
}
